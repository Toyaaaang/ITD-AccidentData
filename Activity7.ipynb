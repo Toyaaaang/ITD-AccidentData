{
 "cells": [
  {
   "cell_type": "code",
   "execution_count": 1,
   "id": "3bbba4c2-91db-4a4d-8541-04bbce017e89",
   "metadata": {},
   "outputs": [],
   "source": [
    "import numpy as np\n",
    "import pandas as pd \n",
    "import seaborn as sns \n",
    "import matplotlib.pyplot as plt \n",
    "import warnings \n",
    "warnings.filterwarnings('ignore')"
   ]
  },
  {
   "cell_type": "code",
   "execution_count": null,
   "id": "89b70c1e-c8be-4f6f-b95a-958a31b2655a",
   "metadata": {},
   "outputs": [],
   "source": [
    "\n",
    "\n",
    "# Load the dataset with the correct encoding\n",
    "df = pd.read_csv('datasets\\\\Global_terrorist.csv', encoding='ISO-8859-1')\n",
    "\n"
   ]
  },
  {
   "cell_type": "code",
   "execution_count": null,
   "id": "b54d601b-0b95-4902-b301-786fbd02cb3e",
   "metadata": {},
   "outputs": [],
   "source": [
    "df"
   ]
  },
  {
   "cell_type": "markdown",
   "id": "4e55dca6-b22d-425b-a1fb-34d455af933e",
   "metadata": {},
   "source": [
    "<h1>Filtering</h1>"
   ]
  },
  {
   "cell_type": "code",
   "execution_count": null,
   "id": "e20289b4-2c57-4e2d-b769-b47cfaecd58c",
   "metadata": {},
   "outputs": [],
   "source": [
    "filter1=df[df['region_txt']== 'Middle East & North Africa']"
   ]
  },
  {
   "cell_type": "code",
   "execution_count": null,
   "id": "af07e153-072e-47fa-84eb-262b69f5caf2",
   "metadata": {},
   "outputs": [],
   "source": [
    "filter2= filter1[filter1['attacktype1_txt'] == 'Bombing/Explosion']"
   ]
  },
  {
   "cell_type": "code",
   "execution_count": null,
   "id": "f18a95a8-750d-4e2b-87b4-ee0f75e3116e",
   "metadata": {},
   "outputs": [],
   "source": [
    "filter3= filter2[filter2['nkill'] >= 10 ] "
   ]
  },
  {
   "cell_type": "code",
   "execution_count": null,
   "id": "f7dc032d-fed2-4a0f-b1e9-c1ba7564d1a5",
   "metadata": {},
   "outputs": [],
   "source": [
    "filter4= filter3[filter3['iyear'] >= 2000]"
   ]
  },
  {
   "cell_type": "markdown",
   "id": "2fee4656-d79c-4263-816e-37981c24c704",
   "metadata": {},
   "source": [
    "<h1>Data Aggregation</h1>"
   ]
  },
  {
   "cell_type": "code",
   "execution_count": null,
   "id": "8080698b-8042-42a3-9fec-1880d0780fba",
   "metadata": {},
   "outputs": [],
   "source": [
    "ME_terror = filter4.groupby(['longitude', 'latitude']).size().reset_index(name= 'incident_count')"
   ]
  },
  {
   "cell_type": "code",
   "execution_count": null,
   "id": "55fac4f9-bd6b-4b11-9b27-bba2091b527d",
   "metadata": {},
   "outputs": [],
   "source": [
    "ME_terror"
   ]
  },
  {
   "cell_type": "markdown",
   "id": "f69e92d4-0495-4f62-b6a2-ab0c2482e0f8",
   "metadata": {},
   "source": [
    "<h1>Geospatial visualization</h1>"
   ]
  },
  {
   "cell_type": "code",
   "execution_count": null,
   "id": "66b2ac9f-e638-49de-a0d1-dada4e77f197",
   "metadata": {},
   "outputs": [],
   "source": [
    "import folium\n",
    "from folium.plugins import HeatMap"
   ]
  },
  {
   "cell_type": "code",
   "execution_count": null,
   "id": "75a7866a-c000-41c9-bd8f-70e1f22d997c",
   "metadata": {},
   "outputs": [],
   "source": [
    "heat_df = ME_terror[['latitude', 'longitude', 'incident_count']].values.tolist()\n"
   ]
  },
  {
   "cell_type": "code",
   "execution_count": null,
   "id": "387c2c4b-142c-4254-8f9f-cc5a27de247f",
   "metadata": {},
   "outputs": [],
   "source": [
    "map_= folium.Map(location= [30,40], zoom_start = 4)"
   ]
  },
  {
   "cell_type": "code",
   "execution_count": null,
   "id": "a5e86bd1-ec99-4215-b705-ba523d102840",
   "metadata": {},
   "outputs": [],
   "source": [
    "HeatMap(heat_df).add_to(map_)"
   ]
  },
  {
   "cell_type": "markdown",
   "id": "00fe51ea-986e-4f12-8eac-24e9477230c4",
   "metadata": {},
   "source": [
    "<h2>Insight 1</h2>\n",
    "<h1>Regional Analysis on Middle East</h1>\n",
    "\n",
    "<h3>The attacks predominantly targeted locations frequented by Westerners, such as residential compounds, hotels, and tourist resorts, indicating a strategic focus on foreign nationals and symbols of Western presence. Al-Qaeda and its regional affiliates were responsible for several of these attacks, reflecting the organization's operational reach and influence across the Middle East during this period. The use of suicide bombings and coordinated attacks was a common tactic, aiming to maximize casualties and media impact. These attacks had significant repercussions on the host countries' security policies, economies—particularly tourism—and international relations, prompting increased counter-terrorism measures and cooperation with global partners.</h3>"
   ]
  },
  {
   "cell_type": "code",
   "execution_count": null,
   "id": "35edc091-7832-4a1a-bab9-41e9f405fd18",
   "metadata": {},
   "outputs": [],
   "source": [
    "map_"
   ]
  },
  {
   "cell_type": "code",
   "execution_count": null,
   "id": "d0c131f5-0879-4274-86ed-8d4ca2a3e4d7",
   "metadata": {},
   "outputs": [],
   "source": [
    "filter1=df[df['region_txt']== 'Southeast Asia']\n",
    "filter2= filter1[filter1['iyear'] >= 2000]\n",
    "filter3= filter2[filter2['nkill'] >= 10 ] "
   ]
  },
  {
   "cell_type": "code",
   "execution_count": null,
   "id": "b22f8b74-a788-4a42-af3c-6ccc1f8fe6c1",
   "metadata": {},
   "outputs": [],
   "source": [
    "ME_terror = filter3.groupby(['longitude', 'latitude']).size().reset_index(name= 'incident_count')"
   ]
  },
  {
   "cell_type": "code",
   "execution_count": null,
   "id": "2dd5ead5-237c-47c5-b79d-624358eefe7d",
   "metadata": {},
   "outputs": [],
   "source": []
  },
  {
   "cell_type": "code",
   "execution_count": null,
   "id": "3c5f83cd-e0aa-4d65-ac4a-1a4a6a9e4f69",
   "metadata": {},
   "outputs": [],
   "source": [
    "heat_df = ME_terror[['latitude', 'longitude', 'incident_count']].values.tolist()\n",
    "map_= folium.Map(location= [30,40], zoom_start = 4)\n",
    "HeatMap(heat_df).add_to(map_)"
   ]
  },
  {
   "cell_type": "markdown",
   "id": "63aa3d36-4e8f-4bf4-8f41-410bf1e041b0",
   "metadata": {},
   "source": [
    "<h2>Insight 2</h2>\n",
    "<h1>Regional Analysis on SouthEast Asia</h1>\n",
    "\n",
    "<h3>Since 2000, Southeast Asia has experienced significant terrorist activity, especially in the Philippines, which has faced persistent threats from groups like Abu Sayyaf, Jemaah Islamiyah, and the Moro Islamic Liberation Front. Notable attacks include the 2002 Zamboanga City bombings, the 2003 Davao City airport bombing, and the Davao ferry terminal bombing, each causing over 10 fatalities. These groups often target public spaces and symbols of government authority, aiming to create fear and gain media attention. \n",
    "\n",
    "Terrorist tactics have evolved with a troubling increase in suicide bombers, including women and children, as seen in the 2018 Surabaya church bombings. In response, both Indonesia and the Philippines have strengthened their counterterrorism efforts through specialized military units and new legal frameworks, though challenges remain due to regional instability and insurgency.</h3>"
   ]
  },
  {
   "cell_type": "code",
   "execution_count": null,
   "id": "ad9b28af-a668-4d7a-8620-898304bd81e1",
   "metadata": {},
   "outputs": [],
   "source": [
    "map_"
   ]
  },
  {
   "cell_type": "code",
   "execution_count": null,
   "id": "c60e2aa0-5915-4445-a760-a06212d0dfb1",
   "metadata": {},
   "outputs": [],
   "source": [
    "filter1=df[df['region_txt']== 'North America']\n",
    "filter2= filter1[filter1['iyear'] >= 2000]\n",
    "filter3= filter2[filter2['nkill'] >= 10 ] "
   ]
  },
  {
   "cell_type": "code",
   "execution_count": null,
   "id": "14d29d04-a42a-40fe-89a4-ecd9960469b5",
   "metadata": {},
   "outputs": [],
   "source": [
    "ME_terror = filter3.groupby(['longitude', 'latitude']).size().reset_index(name= 'incident_count')"
   ]
  },
  {
   "cell_type": "code",
   "execution_count": null,
   "id": "ddd38c70-17ba-4f5c-9e58-319b799e6272",
   "metadata": {},
   "outputs": [],
   "source": [
    "heat_df = ME_terror[['latitude', 'longitude', 'incident_count']].values.tolist()\n",
    "map_= folium.Map(location= [30,40], zoom_start = 4)\n",
    "HeatMap(heat_df).add_to(map_)"
   ]
  },
  {
   "cell_type": "markdown",
   "id": "8e75fc97-bc9e-412a-8f84-9e5e923a9cfa",
   "metadata": {},
   "source": [
    "<h2>Insight 3</h2>\n",
    "<h1>Regional Analysis on North America</h1>\n",
    "\n",
    "<h3>In New York City, the most significant terrorist attack since 2000 remains the September 11, 2001 attacks, where al-Qaeda operatives hijacked two planes and crashed them into the World Trade Center towers, resulting in 2,977 fatalities. This event stands as the deadliest terrorist attack in world history. Since then, New York has experienced other terrorist incidents, but none have resulted in more than 10 fatalities. Notably, the October 31, 2017 truck attack in Lower Manhattan, carried out by Sayfullo Saipov, resulted in eight deaths and 12 injuries. This attack was the deadliest in New York City since 9/11. Other incidents, such as the 2016 Chelsea bombing and the 2022 Brooklyn subway shooting, caused multiple injuries but did not result in fatalities exceeding 10. \n",
    "    The 2015 San Bernardino attack stands out as a major terrorist incident in North America post-2000, where two attackers carried out a mass shooting and attempted bombing during a county employee event, killing 14 people—marking it as a significant act of Islamic terrorism in California.</h3>"
   ]
  },
  {
   "cell_type": "code",
   "execution_count": null,
   "id": "15d5f42a-f14f-4d8d-88bb-fe9e491003d7",
   "metadata": {},
   "outputs": [],
   "source": [
    "map_"
   ]
  },
  {
   "cell_type": "code",
   "execution_count": null,
   "id": "1226aceb-d0d4-4224-8372-5ea2f3425388",
   "metadata": {},
   "outputs": [],
   "source": [
    "filter1=df[df['region_txt']== 'Australasia & Oceania']\n",
    "filter2= filter1[filter1['iyear'] >= 2000]"
   ]
  },
  {
   "cell_type": "code",
   "execution_count": null,
   "id": "87025d3c-11c5-442f-b2cc-9bccbcf2272f",
   "metadata": {},
   "outputs": [],
   "source": [
    "ME_terror = filter2.groupby(['longitude', 'latitude']).size().reset_index(name= 'incident_count')"
   ]
  },
  {
   "cell_type": "code",
   "execution_count": null,
   "id": "e21a5540-0397-49de-8732-444d32960d6b",
   "metadata": {},
   "outputs": [],
   "source": [
    "heat_df = ME_terror[['latitude', 'longitude', 'incident_count']].values.tolist()\n",
    "map_= folium.Map(location= [30,40], zoom_start = 4)\n",
    "HeatMap(heat_df).add_to(map_)"
   ]
  },
  {
   "cell_type": "markdown",
   "id": "21765bc0-8615-4735-84cc-c00e5bf6094d",
   "metadata": {},
   "source": [
    "<h2>Insight 4</h2>\n",
    "<h1>Regional Analysis on Australasia & Oceania</h1>\n",
    "\n",
    "<h3>Since 2000, there have been several significant violent incidents in Papua New Guinea (PNG), particularly in its northern regions, including New Guinea, New Ireland, and Port Moresby. In February 2024, a massacre in Enga Province resulted in at least 26 deaths, with some reports indicating up to 49 fatalities, due to a tribal conflict involving firearms such as M16s and AR15s . In July 2024, a gang killed at least 26 villagers across three remote villages in northern PNG, with eight others reported missing, amid disputes over land ownership and accusations of sorcery . Additionally, in 1996, a shooting incident at Timika Airport in Papua Province, Indonesia, resulted in 16 deaths, including five Indonesian soldiers and a New Zealand pilot . These events highlight ongoing intertribal violence and social tensions in the region, often exacerbated by disputes over resources and cultural practices.</h3>"
   ]
  },
  {
   "cell_type": "code",
   "execution_count": null,
   "id": "18f93e91-cbc1-46f1-95aa-86b14f7fbad8",
   "metadata": {},
   "outputs": [],
   "source": [
    "map_"
   ]
  },
  {
   "cell_type": "code",
   "execution_count": null,
   "id": "182b9727-6715-4217-862c-369cbf17b51d",
   "metadata": {},
   "outputs": [],
   "source": [
    "filter1=df[df['region_txt']== 'Central Asia']\n",
    "filter2= filter1[filter1['iyear'] >= 2000]\n",
    "filter3= filter2[filter2['nkill'] >= 10 ] \n",
    "\n",
    "ME_terror = filter2.groupby(['longitude', 'latitude']).size().reset_index(name= 'incident_count')\n",
    "\n",
    "heat_df = ME_terror[['latitude', 'longitude', 'incident_count']].values.tolist()\n",
    "map_= folium.Map(location= [30,40], zoom_start = 4)\n",
    "HeatMap(heat_df).add_to(map_)\n",
    "\n"
   ]
  },
  {
   "cell_type": "markdown",
   "id": "c0ad5a07-8e97-4a27-a3f0-8b35e82d4598",
   "metadata": {},
   "source": [
    "<h2>Insight 5</h2>\n",
    "<h1>Regional Analysis on Central Asia</h1>\n",
    "\n",
    "<h3>Since 2000, Central Asia has experienced several significant terrorist incidents resulting in over 10 fatalities, often linked to Islamist extremist groups. In 2004, the Islamic Jihad Union orchestrated suicide bombings in Tashkent, targeting the U.S. and Israeli embassies, and the prosecutor's office, causing multiple deaths and injuries. The Andijan massacre in 2005 saw Uzbek security forces kill between 187 and 1,500 protesters, amid unrest allegedly involving groups like the Islamic Movement of Uzbekistan (IMU) and Hizb ut-Tahrir. Kazakhstan's 2016 Aktobe shootings involved militants robbing gun shops and attacking a National Guard base, resulting in at least 18 deaths. Additionally, the rise of the Islamic State's Afghan affiliate, IS-K, has led to increased recruitment from Central Asia, including Tajikistan, with nationals involved in attacks in Russia and Europe. These events underscore the region's vulnerability to transnational terrorism, driven by a mix of ideological extremism, political repression, and regional instability.</h3>"
   ]
  },
  {
   "cell_type": "code",
   "execution_count": null,
   "id": "87b528e5-9f9a-4ed0-9f5f-e39378599546",
   "metadata": {},
   "outputs": [],
   "source": [
    "map_"
   ]
  },
  {
   "cell_type": "code",
   "execution_count": null,
   "id": "051bdc0b-a01e-48fc-9274-1f5a6f1d95f7",
   "metadata": {},
   "outputs": [],
   "source": [
    "df['region_txt'].unique()"
   ]
  },
  {
   "cell_type": "code",
   "execution_count": null,
   "id": "4e675733-fce1-4020-a28d-98665b46b5b3",
   "metadata": {},
   "outputs": [],
   "source": []
  },
  {
   "cell_type": "code",
   "execution_count": null,
   "id": "0333be84-4206-4ac6-af2b-50caa168a88d",
   "metadata": {},
   "outputs": [],
   "source": []
  },
  {
   "cell_type": "code",
   "execution_count": null,
   "id": "4274d43c-d4f6-432c-b106-45a9ddd8daf0",
   "metadata": {},
   "outputs": [],
   "source": []
  },
  {
   "cell_type": "code",
   "execution_count": null,
   "id": "883ec28d-b160-4248-b3da-80b77b04f4f1",
   "metadata": {},
   "outputs": [],
   "source": []
  },
  {
   "cell_type": "code",
   "execution_count": null,
   "id": "d7f357e5-a606-4fb9-8370-fef7271aa2e0",
   "metadata": {},
   "outputs": [],
   "source": []
  },
  {
   "cell_type": "code",
   "execution_count": null,
   "id": "f564beac-02e8-4983-83b5-3bf0a7980043",
   "metadata": {},
   "outputs": [],
   "source": []
  },
  {
   "cell_type": "code",
   "execution_count": null,
   "id": "2771138f-8898-4e20-97c0-d2350488458e",
   "metadata": {},
   "outputs": [],
   "source": []
  },
  {
   "cell_type": "code",
   "execution_count": null,
   "id": "d5ba07df-59d0-48b5-b2c1-4030725a9622",
   "metadata": {},
   "outputs": [],
   "source": []
  },
  {
   "cell_type": "code",
   "execution_count": null,
   "id": "48a3e8a6-0598-4590-b69f-4827c899bbb2",
   "metadata": {},
   "outputs": [],
   "source": []
  },
  {
   "cell_type": "code",
   "execution_count": null,
   "id": "b25fa1c0-b849-4ea2-b38b-8cab5e616018",
   "metadata": {},
   "outputs": [],
   "source": []
  },
  {
   "cell_type": "code",
   "execution_count": null,
   "id": "d61e97be-c127-46e9-bf80-df3c7e128acd",
   "metadata": {},
   "outputs": [],
   "source": []
  },
  {
   "cell_type": "code",
   "execution_count": null,
   "id": "fdb534c2-ce78-4913-898a-056c630621af",
   "metadata": {},
   "outputs": [],
   "source": []
  },
  {
   "cell_type": "code",
   "execution_count": null,
   "id": "33c31595-18bb-462d-aff2-a5812e39adb3",
   "metadata": {},
   "outputs": [],
   "source": []
  },
  {
   "cell_type": "code",
   "execution_count": null,
   "id": "1f90c92c-76f1-4766-814d-8909e219f1db",
   "metadata": {},
   "outputs": [],
   "source": []
  },
  {
   "cell_type": "code",
   "execution_count": null,
   "id": "b0717bc7-28be-4e47-b1c3-718fa4a4c441",
   "metadata": {},
   "outputs": [],
   "source": []
  },
  {
   "cell_type": "code",
   "execution_count": null,
   "id": "fbfabeae-1abc-43ff-a035-1f44d6b3ae8a",
   "metadata": {},
   "outputs": [],
   "source": []
  },
  {
   "cell_type": "code",
   "execution_count": null,
   "id": "19a0a87f-8d3a-495b-8c6a-6c6a900e6b1b",
   "metadata": {},
   "outputs": [],
   "source": []
  },
  {
   "cell_type": "code",
   "execution_count": null,
   "id": "ac4d3b5f-4df6-4a88-9149-768ff6a0ee28",
   "metadata": {},
   "outputs": [],
   "source": []
  },
  {
   "cell_type": "code",
   "execution_count": null,
   "id": "1fc5c72c-f503-42da-ae63-7247f179194b",
   "metadata": {},
   "outputs": [],
   "source": []
  },
  {
   "cell_type": "code",
   "execution_count": null,
   "id": "64dc8712-ff53-4e6d-a971-414a598c5819",
   "metadata": {},
   "outputs": [],
   "source": []
  },
  {
   "cell_type": "code",
   "execution_count": null,
   "id": "24150baa-3408-4969-911a-d6f9a167bc64",
   "metadata": {},
   "outputs": [],
   "source": []
  },
  {
   "cell_type": "code",
   "execution_count": null,
   "id": "46c690ba-b203-47c5-9ebe-6d0a5d7fe649",
   "metadata": {},
   "outputs": [],
   "source": []
  },
  {
   "cell_type": "code",
   "execution_count": null,
   "id": "c0c233eb-bd85-4692-8aca-b497756641a8",
   "metadata": {},
   "outputs": [],
   "source": []
  },
  {
   "cell_type": "code",
   "execution_count": null,
   "id": "b6b6299d-acd3-4a72-9151-1e69b538df6c",
   "metadata": {},
   "outputs": [],
   "source": []
  },
  {
   "cell_type": "code",
   "execution_count": null,
   "id": "42a25357-8d07-447e-a02c-5423232e9f47",
   "metadata": {},
   "outputs": [],
   "source": []
  },
  {
   "cell_type": "code",
   "execution_count": null,
   "id": "1919ced4-2cdd-4692-b46d-10127d823532",
   "metadata": {},
   "outputs": [],
   "source": []
  },
  {
   "cell_type": "code",
   "execution_count": null,
   "id": "d26d4b82-3dc0-4154-8aa1-08a924777d4e",
   "metadata": {},
   "outputs": [],
   "source": []
  },
  {
   "cell_type": "code",
   "execution_count": null,
   "id": "66b00d1a-eb9a-4594-bfc7-c73b0797a096",
   "metadata": {},
   "outputs": [],
   "source": []
  }
 ],
 "metadata": {
  "kernelspec": {
   "display_name": "Python 3 (ipykernel)",
   "language": "python",
   "name": "python3"
  },
  "language_info": {
   "codemirror_mode": {
    "name": "ipython",
    "version": 3
   },
   "file_extension": ".py",
   "mimetype": "text/x-python",
   "name": "python",
   "nbconvert_exporter": "python",
   "pygments_lexer": "ipython3",
   "version": "3.11.4"
  }
 },
 "nbformat": 4,
 "nbformat_minor": 5
}
