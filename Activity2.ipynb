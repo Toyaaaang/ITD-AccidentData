{
 "cells": [
  {
   "cell_type": "code",
   "execution_count": 3,
   "id": "0946a868-a92a-4440-9ea3-5ad48d16f0ff",
   "metadata": {},
   "outputs": [],
   "source": [
    "import numpy as np\n",
    "import seaborn as sns\n",
    "import matplotlib.pyplot as plt\n",
    "import pandas as pd\n"
   ]
  },
  {
   "cell_type": "code",
   "execution_count": null,
   "id": "81e21be7-0ab8-4edf-a9bf-095c2e5a0e01",
   "metadata": {},
   "outputs": [],
   "source": []
  },
  {
   "cell_type": "code",
   "execution_count": 4,
   "id": "c57d26a4-89af-46d6-815b-5fb420ac2615",
   "metadata": {},
   "outputs": [],
   "source": [
    "penguins = pd.read_csv('datasets\\\\penguins.csv')"
   ]
  },
  {
   "cell_type": "code",
   "execution_count": 5,
   "id": "181491f2-09ac-46e7-9fd0-353e92e6cdca",
   "metadata": {},
   "outputs": [
    {
     "name": "stdout",
     "output_type": "stream",
     "text": [
      "<class 'pandas.core.frame.DataFrame'>\n",
      "RangeIndex: 344 entries, 0 to 343\n",
      "Data columns (total 9 columns):\n",
      " #   Column             Non-Null Count  Dtype  \n",
      "---  ------             --------------  -----  \n",
      " 0   rowid              344 non-null    int64  \n",
      " 1   species            344 non-null    object \n",
      " 2   island             344 non-null    object \n",
      " 3   bill_length_mm     342 non-null    float64\n",
      " 4   bill_depth_mm      342 non-null    float64\n",
      " 5   flipper_length_mm  342 non-null    float64\n",
      " 6   body_mass_g        342 non-null    float64\n",
      " 7   sex                333 non-null    object \n",
      " 8   year               344 non-null    int64  \n",
      "dtypes: float64(4), int64(2), object(3)\n",
      "memory usage: 24.3+ KB\n"
     ]
    }
   ],
   "source": [
    "penguins.info()"
   ]
  },
  {
   "cell_type": "code",
   "execution_count": 6,
   "id": "95aa4ae9-54cc-4bbc-b6d7-9672570ac1d0",
   "metadata": {},
   "outputs": [
    {
     "data": {
      "text/html": [
       "<div>\n",
       "<style scoped>\n",
       "    .dataframe tbody tr th:only-of-type {\n",
       "        vertical-align: middle;\n",
       "    }\n",
       "\n",
       "    .dataframe tbody tr th {\n",
       "        vertical-align: top;\n",
       "    }\n",
       "\n",
       "    .dataframe thead th {\n",
       "        text-align: right;\n",
       "    }\n",
       "</style>\n",
       "<table border=\"1\" class=\"dataframe\">\n",
       "  <thead>\n",
       "    <tr style=\"text-align: right;\">\n",
       "      <th></th>\n",
       "      <th>rowid</th>\n",
       "      <th>bill_length_mm</th>\n",
       "      <th>bill_depth_mm</th>\n",
       "      <th>flipper_length_mm</th>\n",
       "      <th>body_mass_g</th>\n",
       "      <th>year</th>\n",
       "    </tr>\n",
       "  </thead>\n",
       "  <tbody>\n",
       "    <tr>\n",
       "      <th>count</th>\n",
       "      <td>344.000000</td>\n",
       "      <td>342.000000</td>\n",
       "      <td>342.000000</td>\n",
       "      <td>342.000000</td>\n",
       "      <td>342.000000</td>\n",
       "      <td>344.000000</td>\n",
       "    </tr>\n",
       "    <tr>\n",
       "      <th>mean</th>\n",
       "      <td>172.500000</td>\n",
       "      <td>43.921930</td>\n",
       "      <td>17.151170</td>\n",
       "      <td>200.915205</td>\n",
       "      <td>4201.754386</td>\n",
       "      <td>2008.029070</td>\n",
       "    </tr>\n",
       "    <tr>\n",
       "      <th>std</th>\n",
       "      <td>99.448479</td>\n",
       "      <td>5.459584</td>\n",
       "      <td>1.974793</td>\n",
       "      <td>14.061714</td>\n",
       "      <td>801.954536</td>\n",
       "      <td>0.818356</td>\n",
       "    </tr>\n",
       "    <tr>\n",
       "      <th>min</th>\n",
       "      <td>1.000000</td>\n",
       "      <td>32.100000</td>\n",
       "      <td>13.100000</td>\n",
       "      <td>172.000000</td>\n",
       "      <td>2700.000000</td>\n",
       "      <td>2007.000000</td>\n",
       "    </tr>\n",
       "    <tr>\n",
       "      <th>25%</th>\n",
       "      <td>86.750000</td>\n",
       "      <td>39.225000</td>\n",
       "      <td>15.600000</td>\n",
       "      <td>190.000000</td>\n",
       "      <td>3550.000000</td>\n",
       "      <td>2007.000000</td>\n",
       "    </tr>\n",
       "    <tr>\n",
       "      <th>50%</th>\n",
       "      <td>172.500000</td>\n",
       "      <td>44.450000</td>\n",
       "      <td>17.300000</td>\n",
       "      <td>197.000000</td>\n",
       "      <td>4050.000000</td>\n",
       "      <td>2008.000000</td>\n",
       "    </tr>\n",
       "    <tr>\n",
       "      <th>75%</th>\n",
       "      <td>258.250000</td>\n",
       "      <td>48.500000</td>\n",
       "      <td>18.700000</td>\n",
       "      <td>213.000000</td>\n",
       "      <td>4750.000000</td>\n",
       "      <td>2009.000000</td>\n",
       "    </tr>\n",
       "    <tr>\n",
       "      <th>max</th>\n",
       "      <td>344.000000</td>\n",
       "      <td>59.600000</td>\n",
       "      <td>21.500000</td>\n",
       "      <td>231.000000</td>\n",
       "      <td>6300.000000</td>\n",
       "      <td>2009.000000</td>\n",
       "    </tr>\n",
       "  </tbody>\n",
       "</table>\n",
       "</div>"
      ],
      "text/plain": [
       "            rowid  bill_length_mm  bill_depth_mm  flipper_length_mm  \\\n",
       "count  344.000000      342.000000     342.000000         342.000000   \n",
       "mean   172.500000       43.921930      17.151170         200.915205   \n",
       "std     99.448479        5.459584       1.974793          14.061714   \n",
       "min      1.000000       32.100000      13.100000         172.000000   \n",
       "25%     86.750000       39.225000      15.600000         190.000000   \n",
       "50%    172.500000       44.450000      17.300000         197.000000   \n",
       "75%    258.250000       48.500000      18.700000         213.000000   \n",
       "max    344.000000       59.600000      21.500000         231.000000   \n",
       "\n",
       "       body_mass_g         year  \n",
       "count   342.000000   344.000000  \n",
       "mean   4201.754386  2008.029070  \n",
       "std     801.954536     0.818356  \n",
       "min    2700.000000  2007.000000  \n",
       "25%    3550.000000  2007.000000  \n",
       "50%    4050.000000  2008.000000  \n",
       "75%    4750.000000  2009.000000  \n",
       "max    6300.000000  2009.000000  "
      ]
     },
     "execution_count": 6,
     "metadata": {},
     "output_type": "execute_result"
    }
   ],
   "source": [
    "penguins.describe()"
   ]
  },
  {
   "cell_type": "code",
   "execution_count": 7,
   "id": "c1ff58d5-3825-4fa4-ad2d-001e47f0c878",
   "metadata": {},
   "outputs": [
    {
     "data": {
      "text/plain": [
       "rowid                 0\n",
       "species               0\n",
       "island                0\n",
       "bill_length_mm        2\n",
       "bill_depth_mm         2\n",
       "flipper_length_mm     2\n",
       "body_mass_g           2\n",
       "sex                  11\n",
       "year                  0\n",
       "dtype: int64"
      ]
     },
     "execution_count": 7,
     "metadata": {},
     "output_type": "execute_result"
    }
   ],
   "source": [
    "penguins.isnull().sum()"
   ]
  },
  {
   "cell_type": "code",
   "execution_count": 8,
   "id": "7c1ef4c4-d30a-4fd8-ba92-8cb31b892641",
   "metadata": {},
   "outputs": [],
   "source": [
    "penguins['bill_length_mm']=penguins['bill_length_mm'].fillna(penguins['bill_length_mm'].mean())"
   ]
  },
  {
   "cell_type": "code",
   "execution_count": 9,
   "id": "ee5d11b2-bf61-47a4-9e87-2542e46f49bd",
   "metadata": {},
   "outputs": [],
   "source": [
    "penguins['bill_depth_mm']=penguins['bill_depth_mm'].fillna(penguins['bill_depth_mm'].mean())"
   ]
  },
  {
   "cell_type": "code",
   "execution_count": 10,
   "id": "17d13b9d-5e3d-474d-bacd-cc29be3c21fc",
   "metadata": {},
   "outputs": [],
   "source": [
    "penguins['flipper_length_mm']=penguins['flipper_length_mm'].fillna(penguins['flipper_length_mm'].mean())"
   ]
  },
  {
   "cell_type": "code",
   "execution_count": 11,
   "id": "f6befb6b-047c-4058-bf41-4f4ce085f304",
   "metadata": {},
   "outputs": [],
   "source": [
    "penguins['body_mass_g']=penguins['body_mass_g'].fillna(penguins['body_mass_g'].mean())"
   ]
  },
  {
   "cell_type": "code",
   "execution_count": 12,
   "id": "fadbe21e-01be-4bd0-9c91-d817b046792a",
   "metadata": {},
   "outputs": [],
   "source": [
    "penguins['sex']=penguins['sex'].fillna(penguins['sex'].mode()[0])"
   ]
  },
  {
   "cell_type": "code",
   "execution_count": 13,
   "id": "76ddd942-7918-497b-bb83-d809ab7425ed",
   "metadata": {},
   "outputs": [
    {
     "data": {
      "text/plain": [
       "rowid                0\n",
       "species              0\n",
       "island               0\n",
       "bill_length_mm       0\n",
       "bill_depth_mm        0\n",
       "flipper_length_mm    0\n",
       "body_mass_g          0\n",
       "sex                  0\n",
       "year                 0\n",
       "dtype: int64"
      ]
     },
     "execution_count": 13,
     "metadata": {},
     "output_type": "execute_result"
    }
   ],
   "source": [
    "penguins.isnull().sum()"
   ]
  },
  {
   "cell_type": "code",
   "execution_count": 14,
   "id": "bbacad07-dea6-4cfe-ae21-e8ac80fc2801",
   "metadata": {},
   "outputs": [],
   "source": [
    "penguins['bill_depth_mm']=penguins['bill_depth_mm'].fillna(penguins['bill_depth_mm'].mean())"
   ]
  },
  {
   "cell_type": "code",
   "execution_count": 15,
   "id": "c7561fbf-dd46-4740-a8d9-71437309c700",
   "metadata": {},
   "outputs": [
    {
     "data": {
      "text/plain": [
       "rowid                0\n",
       "species              0\n",
       "island               0\n",
       "bill_length_mm       0\n",
       "bill_depth_mm        0\n",
       "flipper_length_mm    0\n",
       "body_mass_g          0\n",
       "sex                  0\n",
       "year                 0\n",
       "dtype: int64"
      ]
     },
     "execution_count": 15,
     "metadata": {},
     "output_type": "execute_result"
    }
   ],
   "source": [
    "penguins.isnull().sum()"
   ]
  },
  {
   "cell_type": "code",
   "execution_count": 16,
   "id": "4cbe6ea4-bf0d-420d-88f4-225ed671d054",
   "metadata": {},
   "outputs": [
    {
     "data": {
      "text/plain": [
       "0       True\n",
       "1       True\n",
       "2       True\n",
       "3       True\n",
       "4       True\n",
       "       ...  \n",
       "339    False\n",
       "340    False\n",
       "341    False\n",
       "342    False\n",
       "343    False\n",
       "Name: species, Length: 344, dtype: bool"
      ]
     },
     "execution_count": 16,
     "metadata": {},
     "output_type": "execute_result"
    }
   ],
   "source": [
    "penguins['species']== 'Adelie'"
   ]
  },
  {
   "cell_type": "code",
   "execution_count": 17,
   "id": "29138862-7f0f-4329-a9c2-a10cda5ab272",
   "metadata": {},
   "outputs": [
    {
     "data": {
      "text/html": [
       "<div>\n",
       "<style scoped>\n",
       "    .dataframe tbody tr th:only-of-type {\n",
       "        vertical-align: middle;\n",
       "    }\n",
       "\n",
       "    .dataframe tbody tr th {\n",
       "        vertical-align: top;\n",
       "    }\n",
       "\n",
       "    .dataframe thead th {\n",
       "        text-align: right;\n",
       "    }\n",
       "</style>\n",
       "<table border=\"1\" class=\"dataframe\">\n",
       "  <thead>\n",
       "    <tr style=\"text-align: right;\">\n",
       "      <th></th>\n",
       "      <th>rowid</th>\n",
       "      <th>species</th>\n",
       "      <th>island</th>\n",
       "      <th>bill_length_mm</th>\n",
       "      <th>bill_depth_mm</th>\n",
       "      <th>flipper_length_mm</th>\n",
       "      <th>body_mass_g</th>\n",
       "      <th>sex</th>\n",
       "      <th>year</th>\n",
       "    </tr>\n",
       "  </thead>\n",
       "  <tbody>\n",
       "    <tr>\n",
       "      <th>0</th>\n",
       "      <td>1</td>\n",
       "      <td>Adelie</td>\n",
       "      <td>Torgersen</td>\n",
       "      <td>39.10000</td>\n",
       "      <td>18.70000</td>\n",
       "      <td>181.000000</td>\n",
       "      <td>3750.000000</td>\n",
       "      <td>male</td>\n",
       "      <td>2007</td>\n",
       "    </tr>\n",
       "    <tr>\n",
       "      <th>1</th>\n",
       "      <td>2</td>\n",
       "      <td>Adelie</td>\n",
       "      <td>Torgersen</td>\n",
       "      <td>39.50000</td>\n",
       "      <td>17.40000</td>\n",
       "      <td>186.000000</td>\n",
       "      <td>3800.000000</td>\n",
       "      <td>female</td>\n",
       "      <td>2007</td>\n",
       "    </tr>\n",
       "    <tr>\n",
       "      <th>2</th>\n",
       "      <td>3</td>\n",
       "      <td>Adelie</td>\n",
       "      <td>Torgersen</td>\n",
       "      <td>40.30000</td>\n",
       "      <td>18.00000</td>\n",
       "      <td>195.000000</td>\n",
       "      <td>3250.000000</td>\n",
       "      <td>female</td>\n",
       "      <td>2007</td>\n",
       "    </tr>\n",
       "    <tr>\n",
       "      <th>3</th>\n",
       "      <td>4</td>\n",
       "      <td>Adelie</td>\n",
       "      <td>Torgersen</td>\n",
       "      <td>43.92193</td>\n",
       "      <td>17.15117</td>\n",
       "      <td>200.915205</td>\n",
       "      <td>4201.754386</td>\n",
       "      <td>male</td>\n",
       "      <td>2007</td>\n",
       "    </tr>\n",
       "    <tr>\n",
       "      <th>4</th>\n",
       "      <td>5</td>\n",
       "      <td>Adelie</td>\n",
       "      <td>Torgersen</td>\n",
       "      <td>36.70000</td>\n",
       "      <td>19.30000</td>\n",
       "      <td>193.000000</td>\n",
       "      <td>3450.000000</td>\n",
       "      <td>female</td>\n",
       "      <td>2007</td>\n",
       "    </tr>\n",
       "    <tr>\n",
       "      <th>...</th>\n",
       "      <td>...</td>\n",
       "      <td>...</td>\n",
       "      <td>...</td>\n",
       "      <td>...</td>\n",
       "      <td>...</td>\n",
       "      <td>...</td>\n",
       "      <td>...</td>\n",
       "      <td>...</td>\n",
       "      <td>...</td>\n",
       "    </tr>\n",
       "    <tr>\n",
       "      <th>147</th>\n",
       "      <td>148</td>\n",
       "      <td>Adelie</td>\n",
       "      <td>Dream</td>\n",
       "      <td>36.60000</td>\n",
       "      <td>18.40000</td>\n",
       "      <td>184.000000</td>\n",
       "      <td>3475.000000</td>\n",
       "      <td>female</td>\n",
       "      <td>2009</td>\n",
       "    </tr>\n",
       "    <tr>\n",
       "      <th>148</th>\n",
       "      <td>149</td>\n",
       "      <td>Adelie</td>\n",
       "      <td>Dream</td>\n",
       "      <td>36.00000</td>\n",
       "      <td>17.80000</td>\n",
       "      <td>195.000000</td>\n",
       "      <td>3450.000000</td>\n",
       "      <td>female</td>\n",
       "      <td>2009</td>\n",
       "    </tr>\n",
       "    <tr>\n",
       "      <th>149</th>\n",
       "      <td>150</td>\n",
       "      <td>Adelie</td>\n",
       "      <td>Dream</td>\n",
       "      <td>37.80000</td>\n",
       "      <td>18.10000</td>\n",
       "      <td>193.000000</td>\n",
       "      <td>3750.000000</td>\n",
       "      <td>male</td>\n",
       "      <td>2009</td>\n",
       "    </tr>\n",
       "    <tr>\n",
       "      <th>150</th>\n",
       "      <td>151</td>\n",
       "      <td>Adelie</td>\n",
       "      <td>Dream</td>\n",
       "      <td>36.00000</td>\n",
       "      <td>17.10000</td>\n",
       "      <td>187.000000</td>\n",
       "      <td>3700.000000</td>\n",
       "      <td>female</td>\n",
       "      <td>2009</td>\n",
       "    </tr>\n",
       "    <tr>\n",
       "      <th>151</th>\n",
       "      <td>152</td>\n",
       "      <td>Adelie</td>\n",
       "      <td>Dream</td>\n",
       "      <td>41.50000</td>\n",
       "      <td>18.50000</td>\n",
       "      <td>201.000000</td>\n",
       "      <td>4000.000000</td>\n",
       "      <td>male</td>\n",
       "      <td>2009</td>\n",
       "    </tr>\n",
       "  </tbody>\n",
       "</table>\n",
       "<p>152 rows × 9 columns</p>\n",
       "</div>"
      ],
      "text/plain": [
       "     rowid species     island  bill_length_mm  bill_depth_mm  \\\n",
       "0        1  Adelie  Torgersen        39.10000       18.70000   \n",
       "1        2  Adelie  Torgersen        39.50000       17.40000   \n",
       "2        3  Adelie  Torgersen        40.30000       18.00000   \n",
       "3        4  Adelie  Torgersen        43.92193       17.15117   \n",
       "4        5  Adelie  Torgersen        36.70000       19.30000   \n",
       "..     ...     ...        ...             ...            ...   \n",
       "147    148  Adelie      Dream        36.60000       18.40000   \n",
       "148    149  Adelie      Dream        36.00000       17.80000   \n",
       "149    150  Adelie      Dream        37.80000       18.10000   \n",
       "150    151  Adelie      Dream        36.00000       17.10000   \n",
       "151    152  Adelie      Dream        41.50000       18.50000   \n",
       "\n",
       "     flipper_length_mm  body_mass_g     sex  year  \n",
       "0           181.000000  3750.000000    male  2007  \n",
       "1           186.000000  3800.000000  female  2007  \n",
       "2           195.000000  3250.000000  female  2007  \n",
       "3           200.915205  4201.754386    male  2007  \n",
       "4           193.000000  3450.000000  female  2007  \n",
       "..                 ...          ...     ...   ...  \n",
       "147         184.000000  3475.000000  female  2009  \n",
       "148         195.000000  3450.000000  female  2009  \n",
       "149         193.000000  3750.000000    male  2009  \n",
       "150         187.000000  3700.000000  female  2009  \n",
       "151         201.000000  4000.000000    male  2009  \n",
       "\n",
       "[152 rows x 9 columns]"
      ]
     },
     "execution_count": 17,
     "metadata": {},
     "output_type": "execute_result"
    }
   ],
   "source": [
    "penguins[penguins['species']== 'Adelie']"
   ]
  },
  {
   "cell_type": "markdown",
   "id": "35c95fa5-e747-4abe-b362-603af97abc33",
   "metadata": {},
   "source": [
    "<h1> Does a specie live exclusively on an island<h1>"
   ]
  },
  {
   "cell_type": "code",
   "execution_count": 18,
   "id": "e334dbb2-97d8-4feb-8653-fd405a444006",
   "metadata": {},
   "outputs": [
    {
     "data": {
      "text/plain": [
       "0      False\n",
       "1      False\n",
       "2      False\n",
       "3      False\n",
       "4      False\n",
       "       ...  \n",
       "339    False\n",
       "340    False\n",
       "341    False\n",
       "342    False\n",
       "343    False\n",
       "Name: island, Length: 344, dtype: bool"
      ]
     },
     "execution_count": 18,
     "metadata": {},
     "output_type": "execute_result"
    }
   ],
   "source": [
    "penguins['island'] == 'Biscoe'"
   ]
  },
  {
   "cell_type": "code",
   "execution_count": 19,
   "id": "1c5be2b1-bf63-406a-8fbd-6e2d1a1c817c",
   "metadata": {},
   "outputs": [
    {
     "data": {
      "text/plain": [
       "0      False\n",
       "1      False\n",
       "2      False\n",
       "3      False\n",
       "4      False\n",
       "       ...  \n",
       "339    False\n",
       "340    False\n",
       "341    False\n",
       "342    False\n",
       "343    False\n",
       "Length: 344, dtype: bool"
      ]
     },
     "execution_count": 19,
     "metadata": {},
     "output_type": "execute_result"
    }
   ],
   "source": [
    "(penguins['species']== 'Adelie') & (penguins['island'] == 'Biscoe')"
   ]
  },
  {
   "cell_type": "markdown",
   "id": "4501c8ca-eecb-4a0c-a2dc-1dc9ca9b2991",
   "metadata": {},
   "source": [
    "<h1>Biscoe island, adelie specie population</h1>"
   ]
  },
  {
   "cell_type": "code",
   "execution_count": 20,
   "id": "e23e1a86-4ab3-4703-86a9-ab1a4e92bae6",
   "metadata": {},
   "outputs": [
    {
     "data": {
      "text/plain": [
       "rowid                44\n",
       "species              44\n",
       "island               44\n",
       "bill_length_mm       44\n",
       "bill_depth_mm        44\n",
       "flipper_length_mm    44\n",
       "body_mass_g          44\n",
       "sex                  44\n",
       "year                 44\n",
       "dtype: int64"
      ]
     },
     "execution_count": 20,
     "metadata": {},
     "output_type": "execute_result"
    }
   ],
   "source": [
    "penguins[(penguins['species']== 'Adelie') & (penguins['island'] == 'Biscoe')].count()"
   ]
  },
  {
   "cell_type": "markdown",
   "id": "f401ddbd-40bb-4230-9733-ea08972db019",
   "metadata": {},
   "source": [
    "<h1>Torgersen island, adelie specie population</h1>"
   ]
  },
  {
   "cell_type": "code",
   "execution_count": 21,
   "id": "6fca0064-679d-4d40-a390-683269ff6483",
   "metadata": {},
   "outputs": [
    {
     "data": {
      "text/plain": [
       "rowid                52\n",
       "species              52\n",
       "island               52\n",
       "bill_length_mm       52\n",
       "bill_depth_mm        52\n",
       "flipper_length_mm    52\n",
       "body_mass_g          52\n",
       "sex                  52\n",
       "year                 52\n",
       "dtype: int64"
      ]
     },
     "execution_count": 21,
     "metadata": {},
     "output_type": "execute_result"
    }
   ],
   "source": [
    "penguins[(penguins['species']== 'Adelie') & (penguins['island'] == 'Torgersen')].count()"
   ]
  },
  {
   "cell_type": "markdown",
   "id": "b4f9cc1d-cf53-47c6-8549-b5ec2ef40e43",
   "metadata": {},
   "source": [
    "<h1>Dream island, adelie specie population</h1>"
   ]
  },
  {
   "cell_type": "code",
   "execution_count": 22,
   "id": "157045a6-85a3-41c0-aaf1-584f558fc1bd",
   "metadata": {},
   "outputs": [
    {
     "data": {
      "text/plain": [
       "rowid                56\n",
       "species              56\n",
       "island               56\n",
       "bill_length_mm       56\n",
       "bill_depth_mm        56\n",
       "flipper_length_mm    56\n",
       "body_mass_g          56\n",
       "sex                  56\n",
       "year                 56\n",
       "dtype: int64"
      ]
     },
     "execution_count": 22,
     "metadata": {},
     "output_type": "execute_result"
    }
   ],
   "source": [
    "penguins[(penguins['species']== 'Adelie') & (penguins['island'] == 'Dream')].count()"
   ]
  },
  {
   "cell_type": "code",
   "execution_count": null,
   "id": "ed9e1783-099c-49c8-b6ec-1d23e5402d20",
   "metadata": {},
   "outputs": [],
   "source": []
  },
  {
   "cell_type": "markdown",
   "id": "bc4dcf98-2285-470f-b549-2c174ca2ee70",
   "metadata": {},
   "source": [
    "<h1>Insight#1</h1>\n",
    "<h2>Adelie specie is spread among the islands</h2>"
   ]
  },
  {
   "cell_type": "code",
   "execution_count": 23,
   "id": "b83490e6-eb38-4eac-a1fb-ec8f64eba9e8",
   "metadata": {},
   "outputs": [
    {
     "data": {
      "text/plain": [
       "species\n",
       "Adelie       152\n",
       "Gentoo       124\n",
       "Chinstrap     68\n",
       "Name: count, dtype: int64"
      ]
     },
     "execution_count": 23,
     "metadata": {},
     "output_type": "execute_result"
    }
   ],
   "source": [
    "penguins['species'].value_counts()"
   ]
  },
  {
   "cell_type": "markdown",
   "id": "54d0e3d3-b21f-41ec-90d6-59e65b8bc5a4",
   "metadata": {},
   "source": [
    "<h1>For Gentoo specie<h1>"
   ]
  },
  {
   "cell_type": "markdown",
   "id": "77a2150f-3b00-4e80-9340-57312a6f3626",
   "metadata": {},
   "source": [
    "<h1>Gentoo that lives on Biscoe</h1>"
   ]
  },
  {
   "cell_type": "code",
   "execution_count": 24,
   "id": "8807a087-2677-4410-b220-ade4c881355d",
   "metadata": {},
   "outputs": [
    {
     "data": {
      "text/plain": [
       "rowid                124\n",
       "species              124\n",
       "island               124\n",
       "bill_length_mm       124\n",
       "bill_depth_mm        124\n",
       "flipper_length_mm    124\n",
       "body_mass_g          124\n",
       "sex                  124\n",
       "year                 124\n",
       "dtype: int64"
      ]
     },
     "execution_count": 24,
     "metadata": {},
     "output_type": "execute_result"
    }
   ],
   "source": [
    "penguins[(penguins['species']== 'Gentoo') & (penguins['island'] == 'Biscoe')].count()"
   ]
  },
  {
   "cell_type": "markdown",
   "id": "18967ecf-892e-4d30-8411-cc9731a257ad",
   "metadata": {},
   "source": [
    "<h1>Gentoo that lives on torgersen</h1>"
   ]
  },
  {
   "cell_type": "code",
   "execution_count": 25,
   "id": "b1d0659a-0274-4ca7-a94c-570ee61cd189",
   "metadata": {},
   "outputs": [
    {
     "data": {
      "text/plain": [
       "rowid                0\n",
       "species              0\n",
       "island               0\n",
       "bill_length_mm       0\n",
       "bill_depth_mm        0\n",
       "flipper_length_mm    0\n",
       "body_mass_g          0\n",
       "sex                  0\n",
       "year                 0\n",
       "dtype: int64"
      ]
     },
     "execution_count": 25,
     "metadata": {},
     "output_type": "execute_result"
    }
   ],
   "source": [
    "penguins[(penguins['species']== 'Gentoo') & (penguins['island'] == 'Torgersen')].count()"
   ]
  },
  {
   "cell_type": "markdown",
   "id": "6438542c-668a-4ac5-b76e-67cffc3bdfd7",
   "metadata": {},
   "source": [
    "<h1>Gentoo that lives on Dream</h1>"
   ]
  },
  {
   "cell_type": "code",
   "execution_count": 26,
   "id": "d0e0a97d-7dc5-44aa-b446-ee66b57c44d8",
   "metadata": {},
   "outputs": [
    {
     "data": {
      "text/plain": [
       "rowid                0\n",
       "species              0\n",
       "island               0\n",
       "bill_length_mm       0\n",
       "bill_depth_mm        0\n",
       "flipper_length_mm    0\n",
       "body_mass_g          0\n",
       "sex                  0\n",
       "year                 0\n",
       "dtype: int64"
      ]
     },
     "execution_count": 26,
     "metadata": {},
     "output_type": "execute_result"
    }
   ],
   "source": [
    "penguins[(penguins['species']== 'Gentoo') & (penguins['island'] == 'Dream')].count()"
   ]
  },
  {
   "cell_type": "markdown",
   "id": "a4b15223-baf4-41ca-ad13-658fe63990ff",
   "metadata": {},
   "source": [
    "<h1>Insight#2<h1>\n",
    "<h2>Gentoo lives on biscoe only<h2>"
   ]
  },
  {
   "cell_type": "code",
   "execution_count": null,
   "id": "0a06aff1-8381-49bf-a41d-d75e32bd6e84",
   "metadata": {},
   "outputs": [],
   "source": []
  },
  {
   "cell_type": "markdown",
   "id": "43dce6d2-fcf6-4946-ba2c-39bd2929141c",
   "metadata": {},
   "source": [
    "<h1>For chinstrap specie<h1>"
   ]
  },
  {
   "cell_type": "markdown",
   "id": "8b32ed43-645e-4965-86b1-abfea60fa4e3",
   "metadata": {},
   "source": [
    "<h1>chinstrap that lives on Biscoe</h1> "
   ]
  },
  {
   "cell_type": "code",
   "execution_count": 27,
   "id": "078df5c1-ac97-468c-a048-1d7d4696ad79",
   "metadata": {},
   "outputs": [
    {
     "data": {
      "text/plain": [
       "rowid                0\n",
       "species              0\n",
       "island               0\n",
       "bill_length_mm       0\n",
       "bill_depth_mm        0\n",
       "flipper_length_mm    0\n",
       "body_mass_g          0\n",
       "sex                  0\n",
       "year                 0\n",
       "dtype: int64"
      ]
     },
     "execution_count": 27,
     "metadata": {},
     "output_type": "execute_result"
    }
   ],
   "source": [
    "penguins[(penguins['species']== 'Chinstrap') & (penguins['island'] == 'Biscoe')].count()"
   ]
  },
  {
   "cell_type": "markdown",
   "id": "36cc11a2-af44-4d9e-b227-fb22a500d7ef",
   "metadata": {},
   "source": [
    "<h1>chinstrap that lives on Torgersen</h1> "
   ]
  },
  {
   "cell_type": "code",
   "execution_count": 28,
   "id": "07959b17-caf1-4374-96d6-d6d8e51b0bac",
   "metadata": {},
   "outputs": [
    {
     "data": {
      "text/plain": [
       "rowid                0\n",
       "species              0\n",
       "island               0\n",
       "bill_length_mm       0\n",
       "bill_depth_mm        0\n",
       "flipper_length_mm    0\n",
       "body_mass_g          0\n",
       "sex                  0\n",
       "year                 0\n",
       "dtype: int64"
      ]
     },
     "execution_count": 28,
     "metadata": {},
     "output_type": "execute_result"
    }
   ],
   "source": [
    "penguins[(penguins['species']== 'Chinstrap') & (penguins['island'] == 'Torgersen')].count()"
   ]
  },
  {
   "cell_type": "markdown",
   "id": "a61c37e6-ef56-4c28-acfe-6eb122675077",
   "metadata": {},
   "source": [
    "<h1>chinstrap that lives on Dream</h1> "
   ]
  },
  {
   "cell_type": "code",
   "execution_count": 29,
   "id": "aa96979f-fdbc-47b8-be27-41281c267fd6",
   "metadata": {},
   "outputs": [
    {
     "data": {
      "text/plain": [
       "rowid                68\n",
       "species              68\n",
       "island               68\n",
       "bill_length_mm       68\n",
       "bill_depth_mm        68\n",
       "flipper_length_mm    68\n",
       "body_mass_g          68\n",
       "sex                  68\n",
       "year                 68\n",
       "dtype: int64"
      ]
     },
     "execution_count": 29,
     "metadata": {},
     "output_type": "execute_result"
    }
   ],
   "source": [
    "penguins[(penguins['species']== 'Chinstrap') & (penguins['island'] == 'Dream')].count()"
   ]
  },
  {
   "cell_type": "markdown",
   "id": "234a70b4-478d-4b96-8c4b-546bd469bbd0",
   "metadata": {},
   "source": [
    "<h1>Insight#3<h1>\n",
    "<h2>Chinstrap lives only on Dream island</h2>"
   ]
  },
  {
   "cell_type": "markdown",
   "id": "a1eae6a0-b6ba-490c-aff5-f4ce25818b2e",
   "metadata": {},
   "source": [
    "<h1>Does the island affect the weight of the specie?</h1>"
   ]
  },
  {
   "cell_type": "code",
   "execution_count": 30,
   "id": "7a5d7507-e1fc-461b-a779-9090f56fa7e5",
   "metadata": {},
   "outputs": [],
   "source": [
    "chinstrap_dream=penguins[(penguins['species']== 'Chinstrap') & (penguins['island'] == 'Dream')]"
   ]
  },
  {
   "cell_type": "code",
   "execution_count": 31,
   "id": "dc4a5226-02aa-48e5-bde9-117c355671e0",
   "metadata": {},
   "outputs": [],
   "source": [
    "chinstrap_torg=penguins[(penguins['species']== 'Chinstrap') & (penguins['island'] == 'Torgersen')]"
   ]
  },
  {
   "cell_type": "code",
   "execution_count": 32,
   "id": "7eef1d74-5e50-4cb4-90a8-242dcfa0ea8d",
   "metadata": {},
   "outputs": [],
   "source": [
    "chinstrap_bisc=penguins[(penguins['species']== 'Chinstrap') & (penguins['island'] == 'Biscoe')]"
   ]
  },
  {
   "cell_type": "code",
   "execution_count": null,
   "id": "bf375472-ffa2-453e-9075-07b36a412cec",
   "metadata": {},
   "outputs": [],
   "source": []
  },
  {
   "cell_type": "code",
   "execution_count": 33,
   "id": "b2084346-332e-4f72-a403-235ec9f0f7e2",
   "metadata": {},
   "outputs": [
    {
     "data": {
      "text/plain": [
       "276    3500.0\n",
       "277    3900.0\n",
       "278    3650.0\n",
       "279    3525.0\n",
       "280    3725.0\n",
       "        ...  \n",
       "339    4000.0\n",
       "340    3400.0\n",
       "341    3775.0\n",
       "342    4100.0\n",
       "343    3775.0\n",
       "Name: body_mass_g, Length: 68, dtype: float64"
      ]
     },
     "execution_count": 33,
     "metadata": {},
     "output_type": "execute_result"
    }
   ],
   "source": [
    "chinstrap_dream['body_mass_g']"
   ]
  },
  {
   "cell_type": "code",
   "execution_count": 34,
   "id": "34919665-0536-43b5-98e3-ce185522b81e",
   "metadata": {},
   "outputs": [
    {
     "data": {
      "text/plain": [
       "np.float64(3.7331)"
      ]
     },
     "execution_count": 34,
     "metadata": {},
     "output_type": "execute_result"
    }
   ],
   "source": [
    "np.round(chinstrap_dream['body_mass_g'].mean(),1)/1000"
   ]
  },
  {
   "cell_type": "markdown",
   "id": "b08a3718-e27b-4254-bac3-d1ae23e8a664",
   "metadata": {},
   "source": [
    "<h1>Insight#4</h1>\n",
    "<h2>Chinstrap that lives on dream weighs about 3.73 kl</h2>"
   ]
  },
  {
   "cell_type": "code",
   "execution_count": 35,
   "id": "510b3da9-bd92-4893-9f47-359551100540",
   "metadata": {},
   "outputs": [
    {
     "data": {
      "text/plain": [
       "np.float64(nan)"
      ]
     },
     "execution_count": 35,
     "metadata": {},
     "output_type": "execute_result"
    }
   ],
   "source": [
    "np.round(chinstrap_bisc['body_mass_g'].mean())/1000"
   ]
  },
  {
   "cell_type": "code",
   "execution_count": 36,
   "id": "02c54bb0-de35-4857-b97d-4c8343ab8f1d",
   "metadata": {},
   "outputs": [
    {
     "data": {
      "text/plain": [
       "np.float64(nan)"
      ]
     },
     "execution_count": 36,
     "metadata": {},
     "output_type": "execute_result"
    }
   ],
   "source": [
    "np.round(chinstrap_torg['body_mass_g'].mean())/1000"
   ]
  },
  {
   "cell_type": "code",
   "execution_count": 37,
   "id": "340a5d14-f4ef-45a0-8d77-98de4cafbbae",
   "metadata": {},
   "outputs": [],
   "source": [
    "adelie_bisc=penguins[(penguins['species']== 'Adelie') & (penguins['island'] == 'Biscoe')]"
   ]
  },
  {
   "cell_type": "code",
   "execution_count": 38,
   "id": "1b959f4f-2644-45c3-9f30-710a96f385ef",
   "metadata": {},
   "outputs": [],
   "source": [
    "Adelie_torg=penguins[(penguins['species']== 'Adelie') & (penguins['island'] == 'Torgersen')]"
   ]
  },
  {
   "cell_type": "code",
   "execution_count": 39,
   "id": "6c37ffe7-807d-4eb0-8d75-0995258c3208",
   "metadata": {},
   "outputs": [],
   "source": [
    "Adelie_dream=penguins[(penguins['species']== 'Adelie') & (penguins['island'] == 'Dream')]"
   ]
  },
  {
   "cell_type": "code",
   "execution_count": 40,
   "id": "1bd98d37-b65a-4484-a6d0-2dee34d246bb",
   "metadata": {},
   "outputs": [
    {
     "data": {
      "text/plain": [
       "np.float64(3.71)"
      ]
     },
     "execution_count": 40,
     "metadata": {},
     "output_type": "execute_result"
    }
   ],
   "source": [
    "np.round(adelie_bisc['body_mass_g'].mean())/1000"
   ]
  },
  {
   "cell_type": "code",
   "execution_count": 41,
   "id": "77ce137d-0288-48fd-9d25-af5ec7300f04",
   "metadata": {},
   "outputs": [
    {
     "data": {
      "text/plain": [
       "np.float64(3.716)"
      ]
     },
     "execution_count": 41,
     "metadata": {},
     "output_type": "execute_result"
    }
   ],
   "source": [
    "np.round(Adelie_torg['body_mass_g'].mean())/1000"
   ]
  },
  {
   "cell_type": "code",
   "execution_count": 42,
   "id": "f3ecea28-1a65-4163-8f54-e723c8da67c4",
   "metadata": {},
   "outputs": [
    {
     "data": {
      "text/plain": [
       "np.float64(3.688)"
      ]
     },
     "execution_count": 42,
     "metadata": {},
     "output_type": "execute_result"
    }
   ],
   "source": [
    "np.round(Adelie_dream['body_mass_g'].mean())/1000"
   ]
  },
  {
   "cell_type": "markdown",
   "id": "b3a75433-6101-4945-959a-7574fc605be5",
   "metadata": {},
   "source": [
    "<h1>Insight#5</h1>\n",
    "<h2>Adelie weights 3.7kl regardless of what island</h1>"
   ]
  },
  {
   "cell_type": "code",
   "execution_count": 43,
   "id": "d272cd97-c119-4145-a1e5-c90eb4ea8336",
   "metadata": {},
   "outputs": [],
   "source": [
    "Gentoo_bisc=penguins[(penguins['species']== 'Gentoo') & (penguins['island'] == 'Biscoe')]"
   ]
  },
  {
   "cell_type": "code",
   "execution_count": 44,
   "id": "e0919efb-4cc9-4633-bcc9-8d306832da7f",
   "metadata": {},
   "outputs": [],
   "source": [
    "Gentoo_torg=penguins[(penguins['species']== 'Gentoo') & (penguins['island'] == 'Torgersen')]"
   ]
  },
  {
   "cell_type": "code",
   "execution_count": 45,
   "id": "172ce732-9ce6-40f3-b861-4eb59641073b",
   "metadata": {},
   "outputs": [],
   "source": [
    "Gentoo_dream=penguins[(penguins['species']== 'Gentoo') & (penguins['island'] == 'Dream')]"
   ]
  },
  {
   "cell_type": "code",
   "execution_count": 46,
   "id": "9a67e5eb-884c-4b81-9307-5e8123a3e99f",
   "metadata": {},
   "outputs": [
    {
     "data": {
      "text/plain": [
       "np.float64(5.069)"
      ]
     },
     "execution_count": 46,
     "metadata": {},
     "output_type": "execute_result"
    }
   ],
   "source": [
    "np.round(Gentoo_bisc['body_mass_g'].mean())/1000"
   ]
  },
  {
   "cell_type": "code",
   "execution_count": 47,
   "id": "0d190bd7-b154-4500-80b1-2bbe2f160cae",
   "metadata": {},
   "outputs": [
    {
     "data": {
      "text/plain": [
       "np.float64(nan)"
      ]
     },
     "execution_count": 47,
     "metadata": {},
     "output_type": "execute_result"
    }
   ],
   "source": [
    "np.round(Gentoo_torg['body_mass_g'].mean())/1000"
   ]
  },
  {
   "cell_type": "code",
   "execution_count": 48,
   "id": "c811d29d-4474-43f0-8117-e0d3ad1e8ec4",
   "metadata": {},
   "outputs": [
    {
     "data": {
      "text/plain": [
       "np.float64(nan)"
      ]
     },
     "execution_count": 48,
     "metadata": {},
     "output_type": "execute_result"
    }
   ],
   "source": [
    "np.round(Gentoo_dream['body_mass_g'].mean())/1000"
   ]
  },
  {
   "cell_type": "markdown",
   "id": "eb7d430f-ff55-45bf-871f-bf49b9cc903e",
   "metadata": {},
   "source": [
    "<h1>Insight#6</h1>\n",
    "<h1>Gentoo that lives on dream weighs about 5.0 kl</h1>"
   ]
  },
  {
   "cell_type": "markdown",
   "id": "28cc2577-6924-42d0-b149-df39aff3cae2",
   "metadata": {},
   "source": [
    "<h1>\n",
    "    weight per specie</h1>"
   ]
  },
  {
   "cell_type": "code",
   "execution_count": 49,
   "id": "edff4906-80ad-4b10-8c20-232545df057d",
   "metadata": {},
   "outputs": [],
   "source": [
    "Gentoo_weight=penguins[(penguins['species']== 'Gentoo')]"
   ]
  },
  {
   "cell_type": "code",
   "execution_count": 50,
   "id": "dc4ae6b3-51be-4f19-a873-affd48dd8f45",
   "metadata": {},
   "outputs": [],
   "source": [
    "adelie_weight=penguins[(penguins['species']== 'Adelie')]"
   ]
  },
  {
   "cell_type": "code",
   "execution_count": 51,
   "id": "0a18ad69-fe07-4c6e-95b4-01a4a7c9c6a8",
   "metadata": {},
   "outputs": [],
   "source": [
    "chinstrap_weight=penguins[(penguins['species']== 'Chinstrap')]"
   ]
  },
  {
   "cell_type": "code",
   "execution_count": 52,
   "id": "2ef566d5-3821-4dc9-aead-a30bdacee793",
   "metadata": {},
   "outputs": [
    {
     "data": {
      "text/plain": [
       "np.float64(5.069)"
      ]
     },
     "execution_count": 52,
     "metadata": {},
     "output_type": "execute_result"
    }
   ],
   "source": [
    "np.round(Gentoo_weight['body_mass_g'].mean())/1000"
   ]
  },
  {
   "cell_type": "markdown",
   "id": "cebcaa4e-b2cb-4afd-8016-3b222c62acd4",
   "metadata": {},
   "source": [
    "<h3>The average weight of Gentoo is 5.06</h3>"
   ]
  },
  {
   "cell_type": "code",
   "execution_count": 53,
   "id": "8e0b4483-b394-4ea4-8187-6a41b722d477",
   "metadata": {},
   "outputs": [
    {
     "data": {
      "text/plain": [
       "np.float64(3.704)"
      ]
     },
     "execution_count": 53,
     "metadata": {},
     "output_type": "execute_result"
    }
   ],
   "source": [
    "np.round(adelie_weight['body_mass_g'].mean())/1000"
   ]
  },
  {
   "cell_type": "markdown",
   "id": "3f230e1b-c745-49bf-8032-2a6cf0e7fe8c",
   "metadata": {},
   "source": [
    "<h3>The average weight of Adelie is 3.7</h3>"
   ]
  },
  {
   "cell_type": "code",
   "execution_count": 54,
   "id": "a89c21a8-52d6-4196-a2a8-e80716e3c0fa",
   "metadata": {},
   "outputs": [
    {
     "data": {
      "text/plain": [
       "np.float64(3.733)"
      ]
     },
     "execution_count": 54,
     "metadata": {},
     "output_type": "execute_result"
    }
   ],
   "source": [
    "np.round(chinstrap_weight['body_mass_g'].mean())/1000"
   ]
  },
  {
   "cell_type": "markdown",
   "id": "d4a5de5e-2274-4a42-8ce0-89fbda3c8fe3",
   "metadata": {},
   "source": [
    "<h3>The average weight of Chinstrap is 3.73</h3>"
   ]
  },
  {
   "cell_type": "markdown",
   "id": "c727e15e-6d5e-4c67-a947-d1525a1ce4e5",
   "metadata": {},
   "source": [
    "<h1>Insight #7<br><br>Heaviest specie of penguin is Gentoo</h1>"
   ]
  },
  {
   "cell_type": "markdown",
   "id": "428b9b66-20c6-4271-9218-7ee745c6d869",
   "metadata": {},
   "source": [
    "<h1>What year has the most recorded male adelie?</h1> "
   ]
  },
  {
   "cell_type": "code",
   "execution_count": 55,
   "id": "5d4312de-7e9e-4069-9a4c-17cd81e0d854",
   "metadata": {},
   "outputs": [],
   "source": [
    "penguins_agg = penguins.groupby(['species','island','sex']).count()"
   ]
  },
  {
   "cell_type": "code",
   "execution_count": 56,
   "id": "da395aac-6cc9-45b3-8c93-f3f43c706834",
   "metadata": {},
   "outputs": [
    {
     "data": {
      "text/html": [
       "<div>\n",
       "<style scoped>\n",
       "    .dataframe tbody tr th:only-of-type {\n",
       "        vertical-align: middle;\n",
       "    }\n",
       "\n",
       "    .dataframe tbody tr th {\n",
       "        vertical-align: top;\n",
       "    }\n",
       "\n",
       "    .dataframe thead th {\n",
       "        text-align: right;\n",
       "    }\n",
       "</style>\n",
       "<table border=\"1\" class=\"dataframe\">\n",
       "  <thead>\n",
       "    <tr style=\"text-align: right;\">\n",
       "      <th></th>\n",
       "      <th></th>\n",
       "      <th></th>\n",
       "      <th>rowid</th>\n",
       "      <th>bill_length_mm</th>\n",
       "      <th>bill_depth_mm</th>\n",
       "      <th>flipper_length_mm</th>\n",
       "      <th>body_mass_g</th>\n",
       "      <th>year</th>\n",
       "    </tr>\n",
       "    <tr>\n",
       "      <th>species</th>\n",
       "      <th>island</th>\n",
       "      <th>sex</th>\n",
       "      <th></th>\n",
       "      <th></th>\n",
       "      <th></th>\n",
       "      <th></th>\n",
       "      <th></th>\n",
       "      <th></th>\n",
       "    </tr>\n",
       "  </thead>\n",
       "  <tbody>\n",
       "    <tr>\n",
       "      <th rowspan=\"6\" valign=\"top\">Adelie</th>\n",
       "      <th rowspan=\"2\" valign=\"top\">Biscoe</th>\n",
       "      <th>female</th>\n",
       "      <td>22</td>\n",
       "      <td>22</td>\n",
       "      <td>22</td>\n",
       "      <td>22</td>\n",
       "      <td>22</td>\n",
       "      <td>22</td>\n",
       "    </tr>\n",
       "    <tr>\n",
       "      <th>male</th>\n",
       "      <td>22</td>\n",
       "      <td>22</td>\n",
       "      <td>22</td>\n",
       "      <td>22</td>\n",
       "      <td>22</td>\n",
       "      <td>22</td>\n",
       "    </tr>\n",
       "    <tr>\n",
       "      <th rowspan=\"2\" valign=\"top\">Dream</th>\n",
       "      <th>female</th>\n",
       "      <td>27</td>\n",
       "      <td>27</td>\n",
       "      <td>27</td>\n",
       "      <td>27</td>\n",
       "      <td>27</td>\n",
       "      <td>27</td>\n",
       "    </tr>\n",
       "    <tr>\n",
       "      <th>male</th>\n",
       "      <td>29</td>\n",
       "      <td>29</td>\n",
       "      <td>29</td>\n",
       "      <td>29</td>\n",
       "      <td>29</td>\n",
       "      <td>29</td>\n",
       "    </tr>\n",
       "    <tr>\n",
       "      <th rowspan=\"2\" valign=\"top\">Torgersen</th>\n",
       "      <th>female</th>\n",
       "      <td>24</td>\n",
       "      <td>24</td>\n",
       "      <td>24</td>\n",
       "      <td>24</td>\n",
       "      <td>24</td>\n",
       "      <td>24</td>\n",
       "    </tr>\n",
       "    <tr>\n",
       "      <th>male</th>\n",
       "      <td>28</td>\n",
       "      <td>28</td>\n",
       "      <td>28</td>\n",
       "      <td>28</td>\n",
       "      <td>28</td>\n",
       "      <td>28</td>\n",
       "    </tr>\n",
       "    <tr>\n",
       "      <th rowspan=\"2\" valign=\"top\">Chinstrap</th>\n",
       "      <th rowspan=\"2\" valign=\"top\">Dream</th>\n",
       "      <th>female</th>\n",
       "      <td>34</td>\n",
       "      <td>34</td>\n",
       "      <td>34</td>\n",
       "      <td>34</td>\n",
       "      <td>34</td>\n",
       "      <td>34</td>\n",
       "    </tr>\n",
       "    <tr>\n",
       "      <th>male</th>\n",
       "      <td>34</td>\n",
       "      <td>34</td>\n",
       "      <td>34</td>\n",
       "      <td>34</td>\n",
       "      <td>34</td>\n",
       "      <td>34</td>\n",
       "    </tr>\n",
       "    <tr>\n",
       "      <th rowspan=\"2\" valign=\"top\">Gentoo</th>\n",
       "      <th rowspan=\"2\" valign=\"top\">Biscoe</th>\n",
       "      <th>female</th>\n",
       "      <td>58</td>\n",
       "      <td>58</td>\n",
       "      <td>58</td>\n",
       "      <td>58</td>\n",
       "      <td>58</td>\n",
       "      <td>58</td>\n",
       "    </tr>\n",
       "    <tr>\n",
       "      <th>male</th>\n",
       "      <td>66</td>\n",
       "      <td>66</td>\n",
       "      <td>66</td>\n",
       "      <td>66</td>\n",
       "      <td>66</td>\n",
       "      <td>66</td>\n",
       "    </tr>\n",
       "  </tbody>\n",
       "</table>\n",
       "</div>"
      ],
      "text/plain": [
       "                            rowid  bill_length_mm  bill_depth_mm  \\\n",
       "species   island    sex                                            \n",
       "Adelie    Biscoe    female     22              22             22   \n",
       "                    male       22              22             22   \n",
       "          Dream     female     27              27             27   \n",
       "                    male       29              29             29   \n",
       "          Torgersen female     24              24             24   \n",
       "                    male       28              28             28   \n",
       "Chinstrap Dream     female     34              34             34   \n",
       "                    male       34              34             34   \n",
       "Gentoo    Biscoe    female     58              58             58   \n",
       "                    male       66              66             66   \n",
       "\n",
       "                            flipper_length_mm  body_mass_g  year  \n",
       "species   island    sex                                           \n",
       "Adelie    Biscoe    female                 22           22    22  \n",
       "                    male                   22           22    22  \n",
       "          Dream     female                 27           27    27  \n",
       "                    male                   29           29    29  \n",
       "          Torgersen female                 24           24    24  \n",
       "                    male                   28           28    28  \n",
       "Chinstrap Dream     female                 34           34    34  \n",
       "                    male                   34           34    34  \n",
       "Gentoo    Biscoe    female                 58           58    58  \n",
       "                    male                   66           66    66  "
      ]
     },
     "execution_count": 56,
     "metadata": {},
     "output_type": "execute_result"
    }
   ],
   "source": [
    "penguins_agg"
   ]
  },
  {
   "cell_type": "code",
   "execution_count": 59,
   "id": "f639da66-c427-469c-b8d2-1fce850c3170",
   "metadata": {},
   "outputs": [],
   "source": [
    "adelie_male = penguins.groupby(['species','sex','year']).size()"
   ]
  },
  {
   "cell_type": "code",
   "execution_count": 60,
   "id": "2531bcdd-2fbe-4f7f-a7db-bd111d6ee94d",
   "metadata": {},
   "outputs": [
    {
     "data": {
      "text/plain": [
       "species    sex     year\n",
       "Adelie     female  2007    22\n",
       "                   2008    25\n",
       "                   2009    26\n",
       "           male    2007    28\n",
       "                   2008    25\n",
       "                   2009    26\n",
       "Chinstrap  female  2007    13\n",
       "                   2008     9\n",
       "                   2009    12\n",
       "           male    2007    13\n",
       "                   2008     9\n",
       "                   2009    12\n",
       "Gentoo     female  2007    16\n",
       "                   2008    22\n",
       "                   2009    20\n",
       "           male    2007    18\n",
       "                   2008    24\n",
       "                   2009    24\n",
       "dtype: int64"
      ]
     },
     "execution_count": 60,
     "metadata": {},
     "output_type": "execute_result"
    }
   ],
   "source": [
    "adelie_male"
   ]
  },
  {
   "cell_type": "code",
   "execution_count": 61,
   "id": "8837ae70-3ea9-4d03-98a6-0978d9739aca",
   "metadata": {},
   "outputs": [
    {
     "data": {
      "text/html": [
       "<div>\n",
       "<style scoped>\n",
       "    .dataframe tbody tr th:only-of-type {\n",
       "        vertical-align: middle;\n",
       "    }\n",
       "\n",
       "    .dataframe tbody tr th {\n",
       "        vertical-align: top;\n",
       "    }\n",
       "\n",
       "    .dataframe thead th {\n",
       "        text-align: right;\n",
       "    }\n",
       "</style>\n",
       "<table border=\"1\" class=\"dataframe\">\n",
       "  <thead>\n",
       "    <tr style=\"text-align: right;\">\n",
       "      <th></th>\n",
       "      <th>year</th>\n",
       "      <th>2007</th>\n",
       "      <th>2008</th>\n",
       "      <th>2009</th>\n",
       "    </tr>\n",
       "    <tr>\n",
       "      <th>species</th>\n",
       "      <th>sex</th>\n",
       "      <th></th>\n",
       "      <th></th>\n",
       "      <th></th>\n",
       "    </tr>\n",
       "  </thead>\n",
       "  <tbody>\n",
       "    <tr>\n",
       "      <th rowspan=\"2\" valign=\"top\">Adelie</th>\n",
       "      <th>female</th>\n",
       "      <td>22</td>\n",
       "      <td>25</td>\n",
       "      <td>26</td>\n",
       "    </tr>\n",
       "    <tr>\n",
       "      <th>male</th>\n",
       "      <td>28</td>\n",
       "      <td>25</td>\n",
       "      <td>26</td>\n",
       "    </tr>\n",
       "    <tr>\n",
       "      <th rowspan=\"2\" valign=\"top\">Chinstrap</th>\n",
       "      <th>female</th>\n",
       "      <td>13</td>\n",
       "      <td>9</td>\n",
       "      <td>12</td>\n",
       "    </tr>\n",
       "    <tr>\n",
       "      <th>male</th>\n",
       "      <td>13</td>\n",
       "      <td>9</td>\n",
       "      <td>12</td>\n",
       "    </tr>\n",
       "    <tr>\n",
       "      <th rowspan=\"2\" valign=\"top\">Gentoo</th>\n",
       "      <th>female</th>\n",
       "      <td>16</td>\n",
       "      <td>22</td>\n",
       "      <td>20</td>\n",
       "    </tr>\n",
       "    <tr>\n",
       "      <th>male</th>\n",
       "      <td>18</td>\n",
       "      <td>24</td>\n",
       "      <td>24</td>\n",
       "    </tr>\n",
       "  </tbody>\n",
       "</table>\n",
       "</div>"
      ],
      "text/plain": [
       "year              2007  2008  2009\n",
       "species   sex                     \n",
       "Adelie    female    22    25    26\n",
       "          male      28    25    26\n",
       "Chinstrap female    13     9    12\n",
       "          male      13     9    12\n",
       "Gentoo    female    16    22    20\n",
       "          male      18    24    24"
      ]
     },
     "execution_count": 61,
     "metadata": {},
     "output_type": "execute_result"
    }
   ],
   "source": [
    "adelie_male.unstack()"
   ]
  },
  {
   "cell_type": "markdown",
   "id": "18d2474e-6d69-4850-826b-a5d7f9539e6e",
   "metadata": {},
   "source": [
    "<h1>Insight#8</h1>\n",
    "<h2>The most adelie male was recorded in 2007</h2>"
   ]
  },
  {
   "cell_type": "markdown",
   "id": "5b31d4f9-911d-4a16-b3af-d2d775945590",
   "metadata": {},
   "source": [
    "<h1>Question 9</h1>\n",
    "<h3>What species weighs more per sex? </h3>"
   ]
  },
  {
   "cell_type": "code",
   "execution_count": 62,
   "id": "df89a8b0-15de-448f-a288-ffaa51ba7fbb",
   "metadata": {},
   "outputs": [],
   "source": [
    "weight_sex = np.round(penguins.groupby(['species','sex'])['body_mass_g'].mean()/1000,1)"
   ]
  },
  {
   "cell_type": "code",
   "execution_count": 63,
   "id": "fab82ef8-0ad6-4629-9ca1-609dfa9238eb",
   "metadata": {},
   "outputs": [
    {
     "data": {
      "text/plain": [
       "species    sex   \n",
       "Adelie     female    3.4\n",
       "           male      4.0\n",
       "Chinstrap  female    3.5\n",
       "           male      3.9\n",
       "Gentoo     female    4.7\n",
       "           male      5.4\n",
       "Name: body_mass_g, dtype: float64"
      ]
     },
     "execution_count": 63,
     "metadata": {},
     "output_type": "execute_result"
    }
   ],
   "source": [
    "weight_sex"
   ]
  },
  {
   "cell_type": "code",
   "execution_count": 64,
   "id": "c6685ee2-d450-4eba-9ddc-4f147a9a4461",
   "metadata": {},
   "outputs": [
    {
     "data": {
      "text/html": [
       "<div>\n",
       "<style scoped>\n",
       "    .dataframe tbody tr th:only-of-type {\n",
       "        vertical-align: middle;\n",
       "    }\n",
       "\n",
       "    .dataframe tbody tr th {\n",
       "        vertical-align: top;\n",
       "    }\n",
       "\n",
       "    .dataframe thead th {\n",
       "        text-align: right;\n",
       "    }\n",
       "</style>\n",
       "<table border=\"1\" class=\"dataframe\">\n",
       "  <thead>\n",
       "    <tr style=\"text-align: right;\">\n",
       "      <th>sex</th>\n",
       "      <th>female</th>\n",
       "      <th>male</th>\n",
       "    </tr>\n",
       "    <tr>\n",
       "      <th>species</th>\n",
       "      <th></th>\n",
       "      <th></th>\n",
       "    </tr>\n",
       "  </thead>\n",
       "  <tbody>\n",
       "    <tr>\n",
       "      <th>Adelie</th>\n",
       "      <td>3.4</td>\n",
       "      <td>4.0</td>\n",
       "    </tr>\n",
       "    <tr>\n",
       "      <th>Chinstrap</th>\n",
       "      <td>3.5</td>\n",
       "      <td>3.9</td>\n",
       "    </tr>\n",
       "    <tr>\n",
       "      <th>Gentoo</th>\n",
       "      <td>4.7</td>\n",
       "      <td>5.4</td>\n",
       "    </tr>\n",
       "  </tbody>\n",
       "</table>\n",
       "</div>"
      ],
      "text/plain": [
       "sex        female  male\n",
       "species                \n",
       "Adelie        3.4   4.0\n",
       "Chinstrap     3.5   3.9\n",
       "Gentoo        4.7   5.4"
      ]
     },
     "execution_count": 64,
     "metadata": {},
     "output_type": "execute_result"
    }
   ],
   "source": [
    "weight_sex.unstack()"
   ]
  },
  {
   "cell_type": "markdown",
   "id": "99225ea9-4dfd-457e-a51b-f554eb4647c7",
   "metadata": {},
   "source": [
    "<h1>Insight #9</h1>\n",
    "<h3>Gentoo is the heaviest specie per sex</h3>"
   ]
  },
  {
   "cell_type": "markdown",
   "id": "9902bc4d-9edf-40d2-b9fc-e1478f483db7",
   "metadata": {},
   "source": [
    "<h1>Question 10</h1>\n",
    "<h3>What year is the highest recorded male and female weight? </h3>"
   ]
  },
  {
   "cell_type": "code",
   "execution_count": 65,
   "id": "2afd76ee-03ba-4fb3-86d2-90883b43ba6d",
   "metadata": {},
   "outputs": [],
   "source": [
    "weight_sexperyr = np.round(penguins.groupby(['species','sex','year'])['body_mass_g'].mean()/1000,1)"
   ]
  },
  {
   "cell_type": "code",
   "execution_count": 66,
   "id": "c6bccb6b-577b-4404-85ee-ad02ed233ae1",
   "metadata": {},
   "outputs": [
    {
     "data": {
      "text/html": [
       "<div>\n",
       "<style scoped>\n",
       "    .dataframe tbody tr th:only-of-type {\n",
       "        vertical-align: middle;\n",
       "    }\n",
       "\n",
       "    .dataframe tbody tr th {\n",
       "        vertical-align: top;\n",
       "    }\n",
       "\n",
       "    .dataframe thead th {\n",
       "        text-align: right;\n",
       "    }\n",
       "</style>\n",
       "<table border=\"1\" class=\"dataframe\">\n",
       "  <thead>\n",
       "    <tr style=\"text-align: right;\">\n",
       "      <th></th>\n",
       "      <th>year</th>\n",
       "      <th>2007</th>\n",
       "      <th>2008</th>\n",
       "      <th>2009</th>\n",
       "    </tr>\n",
       "    <tr>\n",
       "      <th>species</th>\n",
       "      <th>sex</th>\n",
       "      <th></th>\n",
       "      <th></th>\n",
       "      <th></th>\n",
       "    </tr>\n",
       "  </thead>\n",
       "  <tbody>\n",
       "    <tr>\n",
       "      <th rowspan=\"2\" valign=\"top\">Adelie</th>\n",
       "      <th>female</th>\n",
       "      <td>3.4</td>\n",
       "      <td>3.4</td>\n",
       "      <td>3.3</td>\n",
       "    </tr>\n",
       "    <tr>\n",
       "      <th>male</th>\n",
       "      <td>4.0</td>\n",
       "      <td>4.1</td>\n",
       "      <td>4.0</td>\n",
       "    </tr>\n",
       "    <tr>\n",
       "      <th rowspan=\"2\" valign=\"top\">Chinstrap</th>\n",
       "      <th>female</th>\n",
       "      <td>3.6</td>\n",
       "      <td>3.5</td>\n",
       "      <td>3.5</td>\n",
       "    </tr>\n",
       "    <tr>\n",
       "      <th>male</th>\n",
       "      <td>3.8</td>\n",
       "      <td>4.1</td>\n",
       "      <td>3.9</td>\n",
       "    </tr>\n",
       "    <tr>\n",
       "      <th rowspan=\"2\" valign=\"top\">Gentoo</th>\n",
       "      <th>female</th>\n",
       "      <td>4.6</td>\n",
       "      <td>4.6</td>\n",
       "      <td>4.8</td>\n",
       "    </tr>\n",
       "    <tr>\n",
       "      <th>male</th>\n",
       "      <td>5.5</td>\n",
       "      <td>5.4</td>\n",
       "      <td>5.4</td>\n",
       "    </tr>\n",
       "  </tbody>\n",
       "</table>\n",
       "</div>"
      ],
      "text/plain": [
       "year              2007  2008  2009\n",
       "species   sex                     \n",
       "Adelie    female   3.4   3.4   3.3\n",
       "          male     4.0   4.1   4.0\n",
       "Chinstrap female   3.6   3.5   3.5\n",
       "          male     3.8   4.1   3.9\n",
       "Gentoo    female   4.6   4.6   4.8\n",
       "          male     5.5   5.4   5.4"
      ]
     },
     "execution_count": 66,
     "metadata": {},
     "output_type": "execute_result"
    }
   ],
   "source": [
    "weight_sexperyr.unstack()"
   ]
  },
  {
   "cell_type": "markdown",
   "id": "89717b74-b37d-4b63-9ef1-73177e3f62bf",
   "metadata": {},
   "source": [
    "<h1>Insight #10</h1>\n",
    "<h3>Gentoo is the heaviest specie with 4.8 for female in 2009, while in male 5.5 is recorded in 2007</h3>"
   ]
  },
  {
   "cell_type": "markdown",
   "id": "f4f8ecc7-5a05-4850-af12-c89506af074c",
   "metadata": {},
   "source": [
    "<h1>Question 11</h1>\n",
    "<h3>Correlation between bill length and bill depth</h3>"
   ]
  },
  {
   "cell_type": "markdown",
   "id": "cc43e121-def9-4e50-9046-367a6f395c4d",
   "metadata": {},
   "source": [
    "<h1>Statistical treatment</h1>\n",
    "<h3>Correlation using Pearson r</h3>"
   ]
  },
  {
   "cell_type": "markdown",
   "id": "0fc8069e-6c86-49ef-b5fa-5cde6c5c61a9",
   "metadata": {},
   "source": [
    "<h1>P-value</h1>\n",
    "<h3>A P-value with 0.5 above suggests correlation while below 0.5 shows less or no correlation</h3>"
   ]
  },
  {
   "cell_type": "code",
   "execution_count": 67,
   "id": "3c88c1e5-f9d8-435d-ba7d-e31411b2edda",
   "metadata": {},
   "outputs": [],
   "source": [
    "b_length = penguins['bill_length_mm'].corr(penguins['bill_depth_mm'])"
   ]
  },
  {
   "cell_type": "code",
   "execution_count": 68,
   "id": "f96c1f69-755f-46ed-9e05-f94ab61fe8e4",
   "metadata": {},
   "outputs": [
    {
     "data": {
      "text/plain": [
       "np.float64(-0.23505287035553282)"
      ]
     },
     "execution_count": 68,
     "metadata": {},
     "output_type": "execute_result"
    }
   ],
   "source": [
    "b_length"
   ]
  },
  {
   "cell_type": "markdown",
   "id": "66811436-f20c-4f73-a08c-a91c4f9bdcdd",
   "metadata": {},
   "source": [
    "<h1>Insight #11</h1>\n",
    "<h3>There is no Correlation between bill length and bill depth</h3>"
   ]
  },
  {
   "cell_type": "code",
   "execution_count": 69,
   "id": "6e290dc9-9640-4cd5-b081-a35157adff31",
   "metadata": {},
   "outputs": [
    {
     "data": {
      "text/html": [
       "<div>\n",
       "<style scoped>\n",
       "    .dataframe tbody tr th:only-of-type {\n",
       "        vertical-align: middle;\n",
       "    }\n",
       "\n",
       "    .dataframe tbody tr th {\n",
       "        vertical-align: top;\n",
       "    }\n",
       "\n",
       "    .dataframe thead th {\n",
       "        text-align: right;\n",
       "    }\n",
       "</style>\n",
       "<table border=\"1\" class=\"dataframe\">\n",
       "  <thead>\n",
       "    <tr style=\"text-align: right;\">\n",
       "      <th></th>\n",
       "      <th>rowid</th>\n",
       "      <th>species</th>\n",
       "      <th>island</th>\n",
       "      <th>bill_length_mm</th>\n",
       "      <th>bill_depth_mm</th>\n",
       "      <th>flipper_length_mm</th>\n",
       "      <th>body_mass_g</th>\n",
       "      <th>sex</th>\n",
       "      <th>year</th>\n",
       "    </tr>\n",
       "  </thead>\n",
       "  <tbody>\n",
       "    <tr>\n",
       "      <th>0</th>\n",
       "      <td>1</td>\n",
       "      <td>Adelie</td>\n",
       "      <td>Torgersen</td>\n",
       "      <td>39.10000</td>\n",
       "      <td>18.70000</td>\n",
       "      <td>181.000000</td>\n",
       "      <td>3750.000000</td>\n",
       "      <td>male</td>\n",
       "      <td>2007</td>\n",
       "    </tr>\n",
       "    <tr>\n",
       "      <th>1</th>\n",
       "      <td>2</td>\n",
       "      <td>Adelie</td>\n",
       "      <td>Torgersen</td>\n",
       "      <td>39.50000</td>\n",
       "      <td>17.40000</td>\n",
       "      <td>186.000000</td>\n",
       "      <td>3800.000000</td>\n",
       "      <td>female</td>\n",
       "      <td>2007</td>\n",
       "    </tr>\n",
       "    <tr>\n",
       "      <th>2</th>\n",
       "      <td>3</td>\n",
       "      <td>Adelie</td>\n",
       "      <td>Torgersen</td>\n",
       "      <td>40.30000</td>\n",
       "      <td>18.00000</td>\n",
       "      <td>195.000000</td>\n",
       "      <td>3250.000000</td>\n",
       "      <td>female</td>\n",
       "      <td>2007</td>\n",
       "    </tr>\n",
       "    <tr>\n",
       "      <th>3</th>\n",
       "      <td>4</td>\n",
       "      <td>Adelie</td>\n",
       "      <td>Torgersen</td>\n",
       "      <td>43.92193</td>\n",
       "      <td>17.15117</td>\n",
       "      <td>200.915205</td>\n",
       "      <td>4201.754386</td>\n",
       "      <td>male</td>\n",
       "      <td>2007</td>\n",
       "    </tr>\n",
       "    <tr>\n",
       "      <th>4</th>\n",
       "      <td>5</td>\n",
       "      <td>Adelie</td>\n",
       "      <td>Torgersen</td>\n",
       "      <td>36.70000</td>\n",
       "      <td>19.30000</td>\n",
       "      <td>193.000000</td>\n",
       "      <td>3450.000000</td>\n",
       "      <td>female</td>\n",
       "      <td>2007</td>\n",
       "    </tr>\n",
       "    <tr>\n",
       "      <th>...</th>\n",
       "      <td>...</td>\n",
       "      <td>...</td>\n",
       "      <td>...</td>\n",
       "      <td>...</td>\n",
       "      <td>...</td>\n",
       "      <td>...</td>\n",
       "      <td>...</td>\n",
       "      <td>...</td>\n",
       "      <td>...</td>\n",
       "    </tr>\n",
       "    <tr>\n",
       "      <th>339</th>\n",
       "      <td>340</td>\n",
       "      <td>Chinstrap</td>\n",
       "      <td>Dream</td>\n",
       "      <td>55.80000</td>\n",
       "      <td>19.80000</td>\n",
       "      <td>207.000000</td>\n",
       "      <td>4000.000000</td>\n",
       "      <td>male</td>\n",
       "      <td>2009</td>\n",
       "    </tr>\n",
       "    <tr>\n",
       "      <th>340</th>\n",
       "      <td>341</td>\n",
       "      <td>Chinstrap</td>\n",
       "      <td>Dream</td>\n",
       "      <td>43.50000</td>\n",
       "      <td>18.10000</td>\n",
       "      <td>202.000000</td>\n",
       "      <td>3400.000000</td>\n",
       "      <td>female</td>\n",
       "      <td>2009</td>\n",
       "    </tr>\n",
       "    <tr>\n",
       "      <th>341</th>\n",
       "      <td>342</td>\n",
       "      <td>Chinstrap</td>\n",
       "      <td>Dream</td>\n",
       "      <td>49.60000</td>\n",
       "      <td>18.20000</td>\n",
       "      <td>193.000000</td>\n",
       "      <td>3775.000000</td>\n",
       "      <td>male</td>\n",
       "      <td>2009</td>\n",
       "    </tr>\n",
       "    <tr>\n",
       "      <th>342</th>\n",
       "      <td>343</td>\n",
       "      <td>Chinstrap</td>\n",
       "      <td>Dream</td>\n",
       "      <td>50.80000</td>\n",
       "      <td>19.00000</td>\n",
       "      <td>210.000000</td>\n",
       "      <td>4100.000000</td>\n",
       "      <td>male</td>\n",
       "      <td>2009</td>\n",
       "    </tr>\n",
       "    <tr>\n",
       "      <th>343</th>\n",
       "      <td>344</td>\n",
       "      <td>Chinstrap</td>\n",
       "      <td>Dream</td>\n",
       "      <td>50.20000</td>\n",
       "      <td>18.70000</td>\n",
       "      <td>198.000000</td>\n",
       "      <td>3775.000000</td>\n",
       "      <td>female</td>\n",
       "      <td>2009</td>\n",
       "    </tr>\n",
       "  </tbody>\n",
       "</table>\n",
       "<p>344 rows × 9 columns</p>\n",
       "</div>"
      ],
      "text/plain": [
       "     rowid    species     island  bill_length_mm  bill_depth_mm  \\\n",
       "0        1     Adelie  Torgersen        39.10000       18.70000   \n",
       "1        2     Adelie  Torgersen        39.50000       17.40000   \n",
       "2        3     Adelie  Torgersen        40.30000       18.00000   \n",
       "3        4     Adelie  Torgersen        43.92193       17.15117   \n",
       "4        5     Adelie  Torgersen        36.70000       19.30000   \n",
       "..     ...        ...        ...             ...            ...   \n",
       "339    340  Chinstrap      Dream        55.80000       19.80000   \n",
       "340    341  Chinstrap      Dream        43.50000       18.10000   \n",
       "341    342  Chinstrap      Dream        49.60000       18.20000   \n",
       "342    343  Chinstrap      Dream        50.80000       19.00000   \n",
       "343    344  Chinstrap      Dream        50.20000       18.70000   \n",
       "\n",
       "     flipper_length_mm  body_mass_g     sex  year  \n",
       "0           181.000000  3750.000000    male  2007  \n",
       "1           186.000000  3800.000000  female  2007  \n",
       "2           195.000000  3250.000000  female  2007  \n",
       "3           200.915205  4201.754386    male  2007  \n",
       "4           193.000000  3450.000000  female  2007  \n",
       "..                 ...          ...     ...   ...  \n",
       "339         207.000000  4000.000000    male  2009  \n",
       "340         202.000000  3400.000000  female  2009  \n",
       "341         193.000000  3775.000000    male  2009  \n",
       "342         210.000000  4100.000000    male  2009  \n",
       "343         198.000000  3775.000000  female  2009  \n",
       "\n",
       "[344 rows x 9 columns]"
      ]
     },
     "execution_count": 69,
     "metadata": {},
     "output_type": "execute_result"
    }
   ],
   "source": [
    "penguins"
   ]
  },
  {
   "cell_type": "markdown",
   "id": "b32876bc-11df-49f6-8a82-d940b2ad1c6f",
   "metadata": {},
   "source": [
    "<h1>Question 12</h1>\n",
    "<h3>Correlation between body mass and flipper length</h3>"
   ]
  },
  {
   "cell_type": "markdown",
   "id": "26d35918-fb32-40c4-aae6-b2e2f72cb109",
   "metadata": {},
   "source": [
    "<h1>Statistical treatment</h1>\n",
    "<h3>Correlation using Pearson r</h3>"
   ]
  },
  {
   "cell_type": "code",
   "execution_count": 70,
   "id": "65eb2f18-3c27-4cfd-8303-d6fbf442467f",
   "metadata": {},
   "outputs": [],
   "source": [
    "f_length = penguins['body_mass_g'].corr(penguins['flipper_length_mm'])"
   ]
  },
  {
   "cell_type": "code",
   "execution_count": 71,
   "id": "66c1f870-5b05-4001-993d-2a52b8d5d82b",
   "metadata": {},
   "outputs": [
    {
     "data": {
      "text/plain": [
       "np.float64(0.8712017673060114)"
      ]
     },
     "execution_count": 71,
     "metadata": {},
     "output_type": "execute_result"
    }
   ],
   "source": [
    "f_length"
   ]
  },
  {
   "cell_type": "code",
   "execution_count": null,
   "id": "d9b0a614-24be-4cbd-b6f4-d2f72eb12724",
   "metadata": {},
   "outputs": [],
   "source": []
  },
  {
   "cell_type": "markdown",
   "id": "bf1fb81a-177c-405a-bd62-34f078b7b649",
   "metadata": {},
   "source": [
    "<h1>Insight #12</h1>\n",
    "<h3>There is positive Correlation between body mass and flipper length</h3>"
   ]
  },
  {
   "cell_type": "markdown",
   "id": "a04a7636-23f4-4a38-804f-8ad2edfe8556",
   "metadata": {},
   "source": [
    "<h1>Question 13</h1>\n",
    "<h3>Correlation between bill depth and body mass</h3>"
   ]
  },
  {
   "cell_type": "markdown",
   "id": "57263aa1-7205-4f14-a4bc-c9c7165d412b",
   "metadata": {},
   "source": [
    "<h1>Statistical treatment</h1>\n",
    "<h3>Correlation using Pearson r</h3>"
   ]
  },
  {
   "cell_type": "code",
   "execution_count": 72,
   "id": "a82ae9a7-d0f5-4555-a3e7-f72535fb3aea",
   "metadata": {},
   "outputs": [],
   "source": [
    "mass_depth = penguins['body_mass_g'].corr(penguins['bill_depth_mm'])"
   ]
  },
  {
   "cell_type": "code",
   "execution_count": 73,
   "id": "ad3c3052-d030-42d6-afd3-44f3f21255db",
   "metadata": {},
   "outputs": [
    {
     "data": {
      "text/plain": [
       "np.float64(-0.47191562118606645)"
      ]
     },
     "execution_count": 73,
     "metadata": {},
     "output_type": "execute_result"
    }
   ],
   "source": [
    "mass_depth"
   ]
  },
  {
   "cell_type": "markdown",
   "id": "28a1c22c-886b-4325-934d-720c9420d90f",
   "metadata": {},
   "source": [
    "<h1>Insight #13</h1>\n",
    "<h3>There is no Correlation between body mass and bill depth</h3>"
   ]
  },
  {
   "cell_type": "markdown",
   "id": "01d74f6d-13f0-46bb-8e82-115603512dca",
   "metadata": {},
   "source": [
    "<h1>Question 14</h1>\n",
    "<h3>Correlation between flipper lenth and bill length</h3>"
   ]
  },
  {
   "cell_type": "markdown",
   "id": "a0cc0b64-2569-46b9-9e87-3200091b4ea8",
   "metadata": {},
   "source": [
    "<h1>Statistical treatment</h1>\n",
    "<h3>Correlation using Pearson r</h3>"
   ]
  },
  {
   "cell_type": "code",
   "execution_count": 74,
   "id": "fa88b91b-4844-4016-99a3-759a98a984e9",
   "metadata": {},
   "outputs": [],
   "source": [
    "bill_flip = penguins['bill_length_mm'].corr(penguins['flipper_length_mm'])"
   ]
  },
  {
   "cell_type": "code",
   "execution_count": 75,
   "id": "03e33e02-96ca-42f8-8f3e-73655e01a413",
   "metadata": {},
   "outputs": [
    {
     "data": {
      "text/plain": [
       "np.float64(0.6561813407464278)"
      ]
     },
     "execution_count": 75,
     "metadata": {},
     "output_type": "execute_result"
    }
   ],
   "source": [
    "bill_flip"
   ]
  },
  {
   "cell_type": "markdown",
   "id": "ceb04264-b60e-4abb-89ae-7a5712afc1ec",
   "metadata": {},
   "source": [
    "<h1>Insight #14</h1>\n",
    "<h3>There is positive Correlation between bill length and flipper length</h3>"
   ]
  },
  {
   "cell_type": "code",
   "execution_count": 76,
   "id": "d294f087-626d-4ffe-b2df-55fd9a8bae71",
   "metadata": {},
   "outputs": [
    {
     "name": "stdout",
     "output_type": "stream",
     "text": [
      "Defaulting to user installation because normal site-packages is not writeableNote: you may need to restart the kernel to use updated packages.\n",
      "\n",
      "Requirement already satisfied: scipy in c:\\users\\lab4-studentpc33\\appdata\\local\\packages\\pythonsoftwarefoundation.python.3.13_qbz5n2kfra8p0\\localcache\\local-packages\\python313\\site-packages (1.15.2)\n",
      "Requirement already satisfied: numpy<2.5,>=1.23.5 in c:\\users\\lab4-studentpc33\\appdata\\local\\packages\\pythonsoftwarefoundation.python.3.13_qbz5n2kfra8p0\\localcache\\local-packages\\python313\\site-packages (from scipy) (2.2.2)\n"
     ]
    },
    {
     "name": "stderr",
     "output_type": "stream",
     "text": [
      "\n",
      "[notice] A new release of pip is available: 24.3.1 -> 25.0.1\n",
      "[notice] To update, run: C:\\Users\\LAB4-StudentPC33\\AppData\\Local\\Microsoft\\WindowsApps\\PythonSoftwareFoundation.Python.3.13_qbz5n2kfra8p0\\python.exe -m pip install --upgrade pip\n"
     ]
    }
   ],
   "source": [
    "pip install scipy\n"
   ]
  },
  {
   "cell_type": "code",
   "execution_count": 80,
   "id": "3b155373-694e-4c55-81f1-128898b6c314",
   "metadata": {},
   "outputs": [],
   "source": [
    "from scipy.stats import f_oneway"
   ]
  },
  {
   "cell_type": "markdown",
   "id": "893077a8-3832-4ef6-b6be-e7bed0b6c892",
   "metadata": {},
   "source": [
    "<h1>Question # 15</h1>\n",
    " <h2>ANOVA TEST FOR Male and female based on Body Mass</h2>"
   ]
  },
  {
   "cell_type": "code",
   "execution_count": 83,
   "id": "cce19470-0fb0-4e8c-bfbe-6f77bae0c73c",
   "metadata": {},
   "outputs": [
    {
     "data": {
      "text/plain": [
       "np.float64(3.0226600487050246e-15)"
      ]
     },
     "execution_count": 83,
     "metadata": {},
     "output_type": "execute_result"
    }
   ],
   "source": [
    "\n",
    "f_stats,p_value = f_oneway(penguins[penguins['sex']== 'male']['body_mass_g'],\n",
    "penguins[penguins['sex']== 'female']['body_mass_g'])\n",
    "\n",
    "p_value"
   ]
  },
  {
   "cell_type": "markdown",
   "id": "949923d5-ad19-4d0c-b6dd-0aede66bd1d0",
   "metadata": {},
   "source": [
    "<h1>Insight # 15</h1>\n",
    " <h2>ANOVA test for Male and female based on Body Mass suggests STRONG CORRELATION</h2>"
   ]
  },
  {
   "cell_type": "markdown",
   "id": "f738d4aa-6b10-462c-896b-904451e282ca",
   "metadata": {},
   "source": [
    "<h1>Question # 16</h1>\n",
    " <h2>ANOVA TEST FOR Adelie and Chinstrap based on bill length</h2>"
   ]
  },
  {
   "cell_type": "code",
   "execution_count": 86,
   "id": "21881cf0-3578-41cd-adbe-739aed0f2474",
   "metadata": {},
   "outputs": [
    {
     "data": {
      "text/plain": [
       "np.float64(4.724199491448494e-62)"
      ]
     },
     "execution_count": 86,
     "metadata": {},
     "output_type": "execute_result"
    }
   ],
   "source": [
    "\n",
    "f_stats,p_value = f_oneway(penguins[penguins['species']== 'Adelie']['bill_length_mm'],\n",
    "penguins[penguins['species']== 'Chinstrap']['bill_length_mm'])\n",
    "\n",
    "p_value"
   ]
  },
  {
   "cell_type": "markdown",
   "id": "3e341be1-1780-48e5-909e-6422dc863a64",
   "metadata": {},
   "source": [
    "<h1>Insight # 15</h1>\n",
    " <h2>ANOVA test for Adelie and Chinstrap based on Bill length suggests STRONG CORRELATION</h2>"
   ]
  },
  {
   "cell_type": "code",
   "execution_count": 79,
   "id": "b8f46c0a-c48d-4cbe-8dc1-7251dc240958",
   "metadata": {},
   "outputs": [
    {
     "data": {
      "text/html": [
       "<div>\n",
       "<style scoped>\n",
       "    .dataframe tbody tr th:only-of-type {\n",
       "        vertical-align: middle;\n",
       "    }\n",
       "\n",
       "    .dataframe tbody tr th {\n",
       "        vertical-align: top;\n",
       "    }\n",
       "\n",
       "    .dataframe thead th {\n",
       "        text-align: right;\n",
       "    }\n",
       "</style>\n",
       "<table border=\"1\" class=\"dataframe\">\n",
       "  <thead>\n",
       "    <tr style=\"text-align: right;\">\n",
       "      <th></th>\n",
       "      <th>rowid</th>\n",
       "      <th>species</th>\n",
       "      <th>island</th>\n",
       "      <th>bill_length_mm</th>\n",
       "      <th>bill_depth_mm</th>\n",
       "      <th>flipper_length_mm</th>\n",
       "      <th>body_mass_g</th>\n",
       "      <th>sex</th>\n",
       "      <th>year</th>\n",
       "    </tr>\n",
       "  </thead>\n",
       "  <tbody>\n",
       "    <tr>\n",
       "      <th>0</th>\n",
       "      <td>1</td>\n",
       "      <td>Adelie</td>\n",
       "      <td>Torgersen</td>\n",
       "      <td>39.10000</td>\n",
       "      <td>18.70000</td>\n",
       "      <td>181.000000</td>\n",
       "      <td>3750.000000</td>\n",
       "      <td>male</td>\n",
       "      <td>2007</td>\n",
       "    </tr>\n",
       "    <tr>\n",
       "      <th>1</th>\n",
       "      <td>2</td>\n",
       "      <td>Adelie</td>\n",
       "      <td>Torgersen</td>\n",
       "      <td>39.50000</td>\n",
       "      <td>17.40000</td>\n",
       "      <td>186.000000</td>\n",
       "      <td>3800.000000</td>\n",
       "      <td>female</td>\n",
       "      <td>2007</td>\n",
       "    </tr>\n",
       "    <tr>\n",
       "      <th>2</th>\n",
       "      <td>3</td>\n",
       "      <td>Adelie</td>\n",
       "      <td>Torgersen</td>\n",
       "      <td>40.30000</td>\n",
       "      <td>18.00000</td>\n",
       "      <td>195.000000</td>\n",
       "      <td>3250.000000</td>\n",
       "      <td>female</td>\n",
       "      <td>2007</td>\n",
       "    </tr>\n",
       "    <tr>\n",
       "      <th>3</th>\n",
       "      <td>4</td>\n",
       "      <td>Adelie</td>\n",
       "      <td>Torgersen</td>\n",
       "      <td>43.92193</td>\n",
       "      <td>17.15117</td>\n",
       "      <td>200.915205</td>\n",
       "      <td>4201.754386</td>\n",
       "      <td>male</td>\n",
       "      <td>2007</td>\n",
       "    </tr>\n",
       "    <tr>\n",
       "      <th>4</th>\n",
       "      <td>5</td>\n",
       "      <td>Adelie</td>\n",
       "      <td>Torgersen</td>\n",
       "      <td>36.70000</td>\n",
       "      <td>19.30000</td>\n",
       "      <td>193.000000</td>\n",
       "      <td>3450.000000</td>\n",
       "      <td>female</td>\n",
       "      <td>2007</td>\n",
       "    </tr>\n",
       "    <tr>\n",
       "      <th>...</th>\n",
       "      <td>...</td>\n",
       "      <td>...</td>\n",
       "      <td>...</td>\n",
       "      <td>...</td>\n",
       "      <td>...</td>\n",
       "      <td>...</td>\n",
       "      <td>...</td>\n",
       "      <td>...</td>\n",
       "      <td>...</td>\n",
       "    </tr>\n",
       "    <tr>\n",
       "      <th>339</th>\n",
       "      <td>340</td>\n",
       "      <td>Chinstrap</td>\n",
       "      <td>Dream</td>\n",
       "      <td>55.80000</td>\n",
       "      <td>19.80000</td>\n",
       "      <td>207.000000</td>\n",
       "      <td>4000.000000</td>\n",
       "      <td>male</td>\n",
       "      <td>2009</td>\n",
       "    </tr>\n",
       "    <tr>\n",
       "      <th>340</th>\n",
       "      <td>341</td>\n",
       "      <td>Chinstrap</td>\n",
       "      <td>Dream</td>\n",
       "      <td>43.50000</td>\n",
       "      <td>18.10000</td>\n",
       "      <td>202.000000</td>\n",
       "      <td>3400.000000</td>\n",
       "      <td>female</td>\n",
       "      <td>2009</td>\n",
       "    </tr>\n",
       "    <tr>\n",
       "      <th>341</th>\n",
       "      <td>342</td>\n",
       "      <td>Chinstrap</td>\n",
       "      <td>Dream</td>\n",
       "      <td>49.60000</td>\n",
       "      <td>18.20000</td>\n",
       "      <td>193.000000</td>\n",
       "      <td>3775.000000</td>\n",
       "      <td>male</td>\n",
       "      <td>2009</td>\n",
       "    </tr>\n",
       "    <tr>\n",
       "      <th>342</th>\n",
       "      <td>343</td>\n",
       "      <td>Chinstrap</td>\n",
       "      <td>Dream</td>\n",
       "      <td>50.80000</td>\n",
       "      <td>19.00000</td>\n",
       "      <td>210.000000</td>\n",
       "      <td>4100.000000</td>\n",
       "      <td>male</td>\n",
       "      <td>2009</td>\n",
       "    </tr>\n",
       "    <tr>\n",
       "      <th>343</th>\n",
       "      <td>344</td>\n",
       "      <td>Chinstrap</td>\n",
       "      <td>Dream</td>\n",
       "      <td>50.20000</td>\n",
       "      <td>18.70000</td>\n",
       "      <td>198.000000</td>\n",
       "      <td>3775.000000</td>\n",
       "      <td>female</td>\n",
       "      <td>2009</td>\n",
       "    </tr>\n",
       "  </tbody>\n",
       "</table>\n",
       "<p>344 rows × 9 columns</p>\n",
       "</div>"
      ],
      "text/plain": [
       "     rowid    species     island  bill_length_mm  bill_depth_mm  \\\n",
       "0        1     Adelie  Torgersen        39.10000       18.70000   \n",
       "1        2     Adelie  Torgersen        39.50000       17.40000   \n",
       "2        3     Adelie  Torgersen        40.30000       18.00000   \n",
       "3        4     Adelie  Torgersen        43.92193       17.15117   \n",
       "4        5     Adelie  Torgersen        36.70000       19.30000   \n",
       "..     ...        ...        ...             ...            ...   \n",
       "339    340  Chinstrap      Dream        55.80000       19.80000   \n",
       "340    341  Chinstrap      Dream        43.50000       18.10000   \n",
       "341    342  Chinstrap      Dream        49.60000       18.20000   \n",
       "342    343  Chinstrap      Dream        50.80000       19.00000   \n",
       "343    344  Chinstrap      Dream        50.20000       18.70000   \n",
       "\n",
       "     flipper_length_mm  body_mass_g     sex  year  \n",
       "0           181.000000  3750.000000    male  2007  \n",
       "1           186.000000  3800.000000  female  2007  \n",
       "2           195.000000  3250.000000  female  2007  \n",
       "3           200.915205  4201.754386    male  2007  \n",
       "4           193.000000  3450.000000  female  2007  \n",
       "..                 ...          ...     ...   ...  \n",
       "339         207.000000  4000.000000    male  2009  \n",
       "340         202.000000  3400.000000  female  2009  \n",
       "341         193.000000  3775.000000    male  2009  \n",
       "342         210.000000  4100.000000    male  2009  \n",
       "343         198.000000  3775.000000  female  2009  \n",
       "\n",
       "[344 rows x 9 columns]"
      ]
     },
     "execution_count": 79,
     "metadata": {},
     "output_type": "execute_result"
    }
   ],
   "source": [
    "penguins"
   ]
  },
  {
   "cell_type": "code",
   "execution_count": null,
   "id": "192712b0-4b3e-41f6-92ca-baad438f06bf",
   "metadata": {},
   "outputs": [],
   "source": []
  }
 ],
 "metadata": {
  "kernelspec": {
   "display_name": "Python 3 (ipykernel)",
   "language": "python",
   "name": "python3"
  },
  "language_info": {
   "codemirror_mode": {
    "name": "ipython",
    "version": 3
   },
   "file_extension": ".py",
   "mimetype": "text/x-python",
   "name": "python",
   "nbconvert_exporter": "python",
   "pygments_lexer": "ipython3",
   "version": "3.13.2"
  }
 },
 "nbformat": 4,
 "nbformat_minor": 5
}
