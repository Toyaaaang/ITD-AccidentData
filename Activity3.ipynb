{
 "cells": [
  {
   "cell_type": "code",
   "execution_count": 1,
   "id": "0d2ef1e5-c8d5-45ed-8597-bf5a975077f8",
   "metadata": {},
   "outputs": [],
   "source": [
    "import numpy as np\n",
    "import seaborn as sns\n",
    "import matplotlib.pyplot as plt\n",
    "import pandas as pd"
   ]
  },
  {
   "cell_type": "code",
   "execution_count": 2,
   "id": "f7626bff-3244-4af5-bab8-d82803de45c3",
   "metadata": {},
   "outputs": [],
   "source": [
    "accidents = pd.read_csv('datasets\\\\accident_data.csv')"
   ]
  },
  {
   "cell_type": "code",
   "execution_count": 3,
   "id": "784433fa-d696-4859-b33b-9e821679fb5a",
   "metadata": {},
   "outputs": [
    {
     "data": {
      "text/html": [
       "<div>\n",
       "<style scoped>\n",
       "    .dataframe tbody tr th:only-of-type {\n",
       "        vertical-align: middle;\n",
       "    }\n",
       "\n",
       "    .dataframe tbody tr th {\n",
       "        vertical-align: top;\n",
       "    }\n",
       "\n",
       "    .dataframe thead th {\n",
       "        text-align: right;\n",
       "    }\n",
       "</style>\n",
       "<table border=\"1\" class=\"dataframe\">\n",
       "  <thead>\n",
       "    <tr style=\"text-align: right;\">\n",
       "      <th></th>\n",
       "      <th>Index</th>\n",
       "      <th>Accident_Severity</th>\n",
       "      <th>Accident Date</th>\n",
       "      <th>Latitude</th>\n",
       "      <th>Light_Conditions</th>\n",
       "      <th>District Area</th>\n",
       "      <th>Longitude</th>\n",
       "      <th>Number_of_Casualties</th>\n",
       "      <th>Number_of_Vehicles</th>\n",
       "      <th>Road_Surface_Conditions</th>\n",
       "      <th>Road_Type</th>\n",
       "      <th>Urban_or_Rural_Area</th>\n",
       "      <th>Weather_Conditions</th>\n",
       "      <th>Vehicle_Type</th>\n",
       "    </tr>\n",
       "  </thead>\n",
       "  <tbody>\n",
       "    <tr>\n",
       "      <th>0</th>\n",
       "      <td>200701BS64157</td>\n",
       "      <td>Serious</td>\n",
       "      <td>5/6/2019</td>\n",
       "      <td>51.506187</td>\n",
       "      <td>Darkness - lights lit</td>\n",
       "      <td>Kensington and Chelsea</td>\n",
       "      <td>-0.209082</td>\n",
       "      <td>1</td>\n",
       "      <td>2</td>\n",
       "      <td>Dry</td>\n",
       "      <td>Single carriageway</td>\n",
       "      <td>Urban</td>\n",
       "      <td>Fine no high winds</td>\n",
       "      <td>Car</td>\n",
       "    </tr>\n",
       "    <tr>\n",
       "      <th>1</th>\n",
       "      <td>200701BS65737</td>\n",
       "      <td>Serious</td>\n",
       "      <td>2/7/2019</td>\n",
       "      <td>51.495029</td>\n",
       "      <td>Daylight</td>\n",
       "      <td>Kensington and Chelsea</td>\n",
       "      <td>-0.173647</td>\n",
       "      <td>1</td>\n",
       "      <td>2</td>\n",
       "      <td>Wet or damp</td>\n",
       "      <td>Single carriageway</td>\n",
       "      <td>Urban</td>\n",
       "      <td>Raining no high winds</td>\n",
       "      <td>Car</td>\n",
       "    </tr>\n",
       "    <tr>\n",
       "      <th>2</th>\n",
       "      <td>200701BS66127</td>\n",
       "      <td>Serious</td>\n",
       "      <td>26-08-2019</td>\n",
       "      <td>51.517715</td>\n",
       "      <td>Darkness - lighting unknown</td>\n",
       "      <td>Kensington and Chelsea</td>\n",
       "      <td>-0.210215</td>\n",
       "      <td>1</td>\n",
       "      <td>3</td>\n",
       "      <td>Dry</td>\n",
       "      <td>NaN</td>\n",
       "      <td>Urban</td>\n",
       "      <td>NaN</td>\n",
       "      <td>Taxi/Private hire car</td>\n",
       "    </tr>\n",
       "    <tr>\n",
       "      <th>3</th>\n",
       "      <td>200701BS66128</td>\n",
       "      <td>Serious</td>\n",
       "      <td>16-08-2019</td>\n",
       "      <td>51.495478</td>\n",
       "      <td>Daylight</td>\n",
       "      <td>Kensington and Chelsea</td>\n",
       "      <td>-0.202731</td>\n",
       "      <td>1</td>\n",
       "      <td>4</td>\n",
       "      <td>Dry</td>\n",
       "      <td>Single carriageway</td>\n",
       "      <td>Urban</td>\n",
       "      <td>Fine no high winds</td>\n",
       "      <td>Bus or coach (17 or more pass seats)</td>\n",
       "    </tr>\n",
       "    <tr>\n",
       "      <th>4</th>\n",
       "      <td>200701BS66837</td>\n",
       "      <td>Slight</td>\n",
       "      <td>3/9/2019</td>\n",
       "      <td>51.488576</td>\n",
       "      <td>Darkness - lights lit</td>\n",
       "      <td>Kensington and Chelsea</td>\n",
       "      <td>-0.192487</td>\n",
       "      <td>1</td>\n",
       "      <td>2</td>\n",
       "      <td>Dry</td>\n",
       "      <td>NaN</td>\n",
       "      <td>Urban</td>\n",
       "      <td>NaN</td>\n",
       "      <td>Other vehicle</td>\n",
       "    </tr>\n",
       "    <tr>\n",
       "      <th>...</th>\n",
       "      <td>...</td>\n",
       "      <td>...</td>\n",
       "      <td>...</td>\n",
       "      <td>...</td>\n",
       "      <td>...</td>\n",
       "      <td>...</td>\n",
       "      <td>...</td>\n",
       "      <td>...</td>\n",
       "      <td>...</td>\n",
       "      <td>...</td>\n",
       "      <td>...</td>\n",
       "      <td>...</td>\n",
       "      <td>...</td>\n",
       "      <td>...</td>\n",
       "    </tr>\n",
       "    <tr>\n",
       "      <th>660674</th>\n",
       "      <td>201091NM01760</td>\n",
       "      <td>Slight</td>\n",
       "      <td>18-02-2022</td>\n",
       "      <td>57.374005</td>\n",
       "      <td>Daylight</td>\n",
       "      <td>Highland</td>\n",
       "      <td>-3.467828</td>\n",
       "      <td>2</td>\n",
       "      <td>1</td>\n",
       "      <td>Dry</td>\n",
       "      <td>Single carriageway</td>\n",
       "      <td>Rural</td>\n",
       "      <td>Fine no high winds</td>\n",
       "      <td>Car</td>\n",
       "    </tr>\n",
       "    <tr>\n",
       "      <th>660675</th>\n",
       "      <td>201091NM01881</td>\n",
       "      <td>Slight</td>\n",
       "      <td>21-02-2022</td>\n",
       "      <td>57.232273</td>\n",
       "      <td>Darkness - no lighting</td>\n",
       "      <td>Highland</td>\n",
       "      <td>-3.809281</td>\n",
       "      <td>1</td>\n",
       "      <td>1</td>\n",
       "      <td>Frost or ice</td>\n",
       "      <td>Single carriageway</td>\n",
       "      <td>Rural</td>\n",
       "      <td>Fine no high winds</td>\n",
       "      <td>Car</td>\n",
       "    </tr>\n",
       "    <tr>\n",
       "      <th>660676</th>\n",
       "      <td>201091NM01935</td>\n",
       "      <td>Slight</td>\n",
       "      <td>23-02-2022</td>\n",
       "      <td>57.585044</td>\n",
       "      <td>Daylight</td>\n",
       "      <td>Highland</td>\n",
       "      <td>-3.862727</td>\n",
       "      <td>1</td>\n",
       "      <td>3</td>\n",
       "      <td>Frost or ice</td>\n",
       "      <td>Single carriageway</td>\n",
       "      <td>Rural</td>\n",
       "      <td>Fine no high winds</td>\n",
       "      <td>Car</td>\n",
       "    </tr>\n",
       "    <tr>\n",
       "      <th>660677</th>\n",
       "      <td>201091NM01964</td>\n",
       "      <td>Serious</td>\n",
       "      <td>23-02-2022</td>\n",
       "      <td>57.214898</td>\n",
       "      <td>Darkness - no lighting</td>\n",
       "      <td>Highland</td>\n",
       "      <td>-3.823997</td>\n",
       "      <td>1</td>\n",
       "      <td>2</td>\n",
       "      <td>Wet or damp</td>\n",
       "      <td>Single carriageway</td>\n",
       "      <td>Rural</td>\n",
       "      <td>Fine no high winds</td>\n",
       "      <td>Motorcycle over 500cc</td>\n",
       "    </tr>\n",
       "    <tr>\n",
       "      <th>660678</th>\n",
       "      <td>201091NM02142</td>\n",
       "      <td>Serious</td>\n",
       "      <td>28-02-2022</td>\n",
       "      <td>57.575210</td>\n",
       "      <td>Daylight</td>\n",
       "      <td>Highland</td>\n",
       "      <td>-3.895673</td>\n",
       "      <td>1</td>\n",
       "      <td>1</td>\n",
       "      <td>Wet or damp</td>\n",
       "      <td>Dual carriageway</td>\n",
       "      <td>Rural</td>\n",
       "      <td>Snowing no high winds</td>\n",
       "      <td>Car</td>\n",
       "    </tr>\n",
       "  </tbody>\n",
       "</table>\n",
       "<p>660679 rows × 14 columns</p>\n",
       "</div>"
      ],
      "text/plain": [
       "                Index Accident_Severity Accident Date   Latitude  \\\n",
       "0       200701BS64157           Serious      5/6/2019  51.506187   \n",
       "1       200701BS65737           Serious      2/7/2019  51.495029   \n",
       "2       200701BS66127           Serious    26-08-2019  51.517715   \n",
       "3       200701BS66128           Serious    16-08-2019  51.495478   \n",
       "4       200701BS66837            Slight      3/9/2019  51.488576   \n",
       "...               ...               ...           ...        ...   \n",
       "660674  201091NM01760            Slight    18-02-2022  57.374005   \n",
       "660675  201091NM01881            Slight    21-02-2022  57.232273   \n",
       "660676  201091NM01935            Slight    23-02-2022  57.585044   \n",
       "660677  201091NM01964           Serious    23-02-2022  57.214898   \n",
       "660678  201091NM02142           Serious    28-02-2022  57.575210   \n",
       "\n",
       "                   Light_Conditions           District Area  Longitude  \\\n",
       "0             Darkness - lights lit  Kensington and Chelsea  -0.209082   \n",
       "1                          Daylight  Kensington and Chelsea  -0.173647   \n",
       "2       Darkness - lighting unknown  Kensington and Chelsea  -0.210215   \n",
       "3                          Daylight  Kensington and Chelsea  -0.202731   \n",
       "4             Darkness - lights lit  Kensington and Chelsea  -0.192487   \n",
       "...                             ...                     ...        ...   \n",
       "660674                     Daylight                Highland  -3.467828   \n",
       "660675       Darkness - no lighting                Highland  -3.809281   \n",
       "660676                     Daylight                Highland  -3.862727   \n",
       "660677       Darkness - no lighting                Highland  -3.823997   \n",
       "660678                     Daylight                Highland  -3.895673   \n",
       "\n",
       "        Number_of_Casualties  Number_of_Vehicles Road_Surface_Conditions  \\\n",
       "0                          1                   2                     Dry   \n",
       "1                          1                   2             Wet or damp   \n",
       "2                          1                   3                     Dry   \n",
       "3                          1                   4                     Dry   \n",
       "4                          1                   2                     Dry   \n",
       "...                      ...                 ...                     ...   \n",
       "660674                     2                   1                     Dry   \n",
       "660675                     1                   1            Frost or ice   \n",
       "660676                     1                   3            Frost or ice   \n",
       "660677                     1                   2             Wet or damp   \n",
       "660678                     1                   1             Wet or damp   \n",
       "\n",
       "                 Road_Type Urban_or_Rural_Area     Weather_Conditions  \\\n",
       "0       Single carriageway               Urban     Fine no high winds   \n",
       "1       Single carriageway               Urban  Raining no high winds   \n",
       "2                      NaN               Urban                    NaN   \n",
       "3       Single carriageway               Urban     Fine no high winds   \n",
       "4                      NaN               Urban                    NaN   \n",
       "...                    ...                 ...                    ...   \n",
       "660674  Single carriageway               Rural     Fine no high winds   \n",
       "660675  Single carriageway               Rural     Fine no high winds   \n",
       "660676  Single carriageway               Rural     Fine no high winds   \n",
       "660677  Single carriageway               Rural     Fine no high winds   \n",
       "660678    Dual carriageway               Rural  Snowing no high winds   \n",
       "\n",
       "                                Vehicle_Type  \n",
       "0                                        Car  \n",
       "1                                        Car  \n",
       "2                      Taxi/Private hire car  \n",
       "3       Bus or coach (17 or more pass seats)  \n",
       "4                              Other vehicle  \n",
       "...                                      ...  \n",
       "660674                                   Car  \n",
       "660675                                   Car  \n",
       "660676                                   Car  \n",
       "660677                 Motorcycle over 500cc  \n",
       "660678                                   Car  \n",
       "\n",
       "[660679 rows x 14 columns]"
      ]
     },
     "execution_count": 3,
     "metadata": {},
     "output_type": "execute_result"
    }
   ],
   "source": [
    "accidents"
   ]
  },
  {
   "cell_type": "code",
   "execution_count": 4,
   "id": "e328b1c9-81b5-4952-93c4-1c4c34d82906",
   "metadata": {},
   "outputs": [
    {
     "name": "stdout",
     "output_type": "stream",
     "text": [
      "<class 'pandas.core.frame.DataFrame'>\n",
      "RangeIndex: 660679 entries, 0 to 660678\n",
      "Data columns (total 14 columns):\n",
      " #   Column                   Non-Null Count   Dtype  \n",
      "---  ------                   --------------   -----  \n",
      " 0   Index                    660679 non-null  object \n",
      " 1   Accident_Severity        660679 non-null  object \n",
      " 2   Accident Date            660679 non-null  object \n",
      " 3   Latitude                 660654 non-null  float64\n",
      " 4   Light_Conditions         660679 non-null  object \n",
      " 5   District Area            660679 non-null  object \n",
      " 6   Longitude                660653 non-null  float64\n",
      " 7   Number_of_Casualties     660679 non-null  int64  \n",
      " 8   Number_of_Vehicles       660679 non-null  int64  \n",
      " 9   Road_Surface_Conditions  659953 non-null  object \n",
      " 10  Road_Type                656159 non-null  object \n",
      " 11  Urban_or_Rural_Area      660664 non-null  object \n",
      " 12  Weather_Conditions       646551 non-null  object \n",
      " 13  Vehicle_Type             660679 non-null  object \n",
      "dtypes: float64(2), int64(2), object(10)\n",
      "memory usage: 70.6+ MB\n"
     ]
    }
   ],
   "source": [
    "accidents.info()"
   ]
  },
  {
   "cell_type": "code",
   "execution_count": 5,
   "id": "16b0f362-4248-4e65-8f41-6f80dcbcdea2",
   "metadata": {},
   "outputs": [
    {
     "data": {
      "text/html": [
       "<div>\n",
       "<style scoped>\n",
       "    .dataframe tbody tr th:only-of-type {\n",
       "        vertical-align: middle;\n",
       "    }\n",
       "\n",
       "    .dataframe tbody tr th {\n",
       "        vertical-align: top;\n",
       "    }\n",
       "\n",
       "    .dataframe thead th {\n",
       "        text-align: right;\n",
       "    }\n",
       "</style>\n",
       "<table border=\"1\" class=\"dataframe\">\n",
       "  <thead>\n",
       "    <tr style=\"text-align: right;\">\n",
       "      <th></th>\n",
       "      <th>Latitude</th>\n",
       "      <th>Longitude</th>\n",
       "      <th>Number_of_Casualties</th>\n",
       "      <th>Number_of_Vehicles</th>\n",
       "    </tr>\n",
       "  </thead>\n",
       "  <tbody>\n",
       "    <tr>\n",
       "      <th>count</th>\n",
       "      <td>660654.000000</td>\n",
       "      <td>660653.000000</td>\n",
       "      <td>660679.000000</td>\n",
       "      <td>660679.000000</td>\n",
       "    </tr>\n",
       "    <tr>\n",
       "      <th>mean</th>\n",
       "      <td>52.553866</td>\n",
       "      <td>-1.431210</td>\n",
       "      <td>1.357040</td>\n",
       "      <td>1.831255</td>\n",
       "    </tr>\n",
       "    <tr>\n",
       "      <th>std</th>\n",
       "      <td>1.406922</td>\n",
       "      <td>1.383330</td>\n",
       "      <td>0.824847</td>\n",
       "      <td>0.715269</td>\n",
       "    </tr>\n",
       "    <tr>\n",
       "      <th>min</th>\n",
       "      <td>49.914430</td>\n",
       "      <td>-7.516225</td>\n",
       "      <td>1.000000</td>\n",
       "      <td>1.000000</td>\n",
       "    </tr>\n",
       "    <tr>\n",
       "      <th>25%</th>\n",
       "      <td>51.490690</td>\n",
       "      <td>-2.332291</td>\n",
       "      <td>1.000000</td>\n",
       "      <td>1.000000</td>\n",
       "    </tr>\n",
       "    <tr>\n",
       "      <th>50%</th>\n",
       "      <td>52.315641</td>\n",
       "      <td>-1.411667</td>\n",
       "      <td>1.000000</td>\n",
       "      <td>2.000000</td>\n",
       "    </tr>\n",
       "    <tr>\n",
       "      <th>75%</th>\n",
       "      <td>53.453452</td>\n",
       "      <td>-0.232869</td>\n",
       "      <td>1.000000</td>\n",
       "      <td>2.000000</td>\n",
       "    </tr>\n",
       "    <tr>\n",
       "      <th>max</th>\n",
       "      <td>60.757544</td>\n",
       "      <td>1.762010</td>\n",
       "      <td>68.000000</td>\n",
       "      <td>32.000000</td>\n",
       "    </tr>\n",
       "  </tbody>\n",
       "</table>\n",
       "</div>"
      ],
      "text/plain": [
       "            Latitude      Longitude  Number_of_Casualties  Number_of_Vehicles\n",
       "count  660654.000000  660653.000000         660679.000000       660679.000000\n",
       "mean       52.553866      -1.431210              1.357040            1.831255\n",
       "std         1.406922       1.383330              0.824847            0.715269\n",
       "min        49.914430      -7.516225              1.000000            1.000000\n",
       "25%        51.490690      -2.332291              1.000000            1.000000\n",
       "50%        52.315641      -1.411667              1.000000            2.000000\n",
       "75%        53.453452      -0.232869              1.000000            2.000000\n",
       "max        60.757544       1.762010             68.000000           32.000000"
      ]
     },
     "execution_count": 5,
     "metadata": {},
     "output_type": "execute_result"
    }
   ],
   "source": [
    "accidents.describe()"
   ]
  },
  {
   "cell_type": "code",
   "execution_count": 6,
   "id": "61d69507-fefe-417f-a699-9effbc71742c",
   "metadata": {},
   "outputs": [
    {
     "data": {
      "text/html": [
       "<div>\n",
       "<style scoped>\n",
       "    .dataframe tbody tr th:only-of-type {\n",
       "        vertical-align: middle;\n",
       "    }\n",
       "\n",
       "    .dataframe tbody tr th {\n",
       "        vertical-align: top;\n",
       "    }\n",
       "\n",
       "    .dataframe thead th {\n",
       "        text-align: right;\n",
       "    }\n",
       "</style>\n",
       "<table border=\"1\" class=\"dataframe\">\n",
       "  <thead>\n",
       "    <tr style=\"text-align: right;\">\n",
       "      <th></th>\n",
       "      <th>Index</th>\n",
       "      <th>Accident_Severity</th>\n",
       "      <th>Accident Date</th>\n",
       "      <th>Latitude</th>\n",
       "      <th>Light_Conditions</th>\n",
       "      <th>District Area</th>\n",
       "      <th>Longitude</th>\n",
       "      <th>Number_of_Casualties</th>\n",
       "      <th>Number_of_Vehicles</th>\n",
       "      <th>Road_Surface_Conditions</th>\n",
       "      <th>Road_Type</th>\n",
       "      <th>Urban_or_Rural_Area</th>\n",
       "      <th>Weather_Conditions</th>\n",
       "      <th>Vehicle_Type</th>\n",
       "    </tr>\n",
       "  </thead>\n",
       "  <tbody>\n",
       "    <tr>\n",
       "      <th>0</th>\n",
       "      <td>False</td>\n",
       "      <td>False</td>\n",
       "      <td>False</td>\n",
       "      <td>False</td>\n",
       "      <td>False</td>\n",
       "      <td>False</td>\n",
       "      <td>False</td>\n",
       "      <td>False</td>\n",
       "      <td>False</td>\n",
       "      <td>False</td>\n",
       "      <td>False</td>\n",
       "      <td>False</td>\n",
       "      <td>False</td>\n",
       "      <td>False</td>\n",
       "    </tr>\n",
       "    <tr>\n",
       "      <th>1</th>\n",
       "      <td>False</td>\n",
       "      <td>False</td>\n",
       "      <td>False</td>\n",
       "      <td>False</td>\n",
       "      <td>False</td>\n",
       "      <td>False</td>\n",
       "      <td>False</td>\n",
       "      <td>False</td>\n",
       "      <td>False</td>\n",
       "      <td>False</td>\n",
       "      <td>False</td>\n",
       "      <td>False</td>\n",
       "      <td>False</td>\n",
       "      <td>False</td>\n",
       "    </tr>\n",
       "    <tr>\n",
       "      <th>2</th>\n",
       "      <td>False</td>\n",
       "      <td>False</td>\n",
       "      <td>False</td>\n",
       "      <td>False</td>\n",
       "      <td>False</td>\n",
       "      <td>False</td>\n",
       "      <td>False</td>\n",
       "      <td>False</td>\n",
       "      <td>False</td>\n",
       "      <td>False</td>\n",
       "      <td>True</td>\n",
       "      <td>False</td>\n",
       "      <td>True</td>\n",
       "      <td>False</td>\n",
       "    </tr>\n",
       "    <tr>\n",
       "      <th>3</th>\n",
       "      <td>False</td>\n",
       "      <td>False</td>\n",
       "      <td>False</td>\n",
       "      <td>False</td>\n",
       "      <td>False</td>\n",
       "      <td>False</td>\n",
       "      <td>False</td>\n",
       "      <td>False</td>\n",
       "      <td>False</td>\n",
       "      <td>False</td>\n",
       "      <td>False</td>\n",
       "      <td>False</td>\n",
       "      <td>False</td>\n",
       "      <td>False</td>\n",
       "    </tr>\n",
       "    <tr>\n",
       "      <th>4</th>\n",
       "      <td>False</td>\n",
       "      <td>False</td>\n",
       "      <td>False</td>\n",
       "      <td>False</td>\n",
       "      <td>False</td>\n",
       "      <td>False</td>\n",
       "      <td>False</td>\n",
       "      <td>False</td>\n",
       "      <td>False</td>\n",
       "      <td>False</td>\n",
       "      <td>True</td>\n",
       "      <td>False</td>\n",
       "      <td>True</td>\n",
       "      <td>False</td>\n",
       "    </tr>\n",
       "    <tr>\n",
       "      <th>...</th>\n",
       "      <td>...</td>\n",
       "      <td>...</td>\n",
       "      <td>...</td>\n",
       "      <td>...</td>\n",
       "      <td>...</td>\n",
       "      <td>...</td>\n",
       "      <td>...</td>\n",
       "      <td>...</td>\n",
       "      <td>...</td>\n",
       "      <td>...</td>\n",
       "      <td>...</td>\n",
       "      <td>...</td>\n",
       "      <td>...</td>\n",
       "      <td>...</td>\n",
       "    </tr>\n",
       "    <tr>\n",
       "      <th>660674</th>\n",
       "      <td>False</td>\n",
       "      <td>False</td>\n",
       "      <td>False</td>\n",
       "      <td>False</td>\n",
       "      <td>False</td>\n",
       "      <td>False</td>\n",
       "      <td>False</td>\n",
       "      <td>False</td>\n",
       "      <td>False</td>\n",
       "      <td>False</td>\n",
       "      <td>False</td>\n",
       "      <td>False</td>\n",
       "      <td>False</td>\n",
       "      <td>False</td>\n",
       "    </tr>\n",
       "    <tr>\n",
       "      <th>660675</th>\n",
       "      <td>False</td>\n",
       "      <td>False</td>\n",
       "      <td>False</td>\n",
       "      <td>False</td>\n",
       "      <td>False</td>\n",
       "      <td>False</td>\n",
       "      <td>False</td>\n",
       "      <td>False</td>\n",
       "      <td>False</td>\n",
       "      <td>False</td>\n",
       "      <td>False</td>\n",
       "      <td>False</td>\n",
       "      <td>False</td>\n",
       "      <td>False</td>\n",
       "    </tr>\n",
       "    <tr>\n",
       "      <th>660676</th>\n",
       "      <td>False</td>\n",
       "      <td>False</td>\n",
       "      <td>False</td>\n",
       "      <td>False</td>\n",
       "      <td>False</td>\n",
       "      <td>False</td>\n",
       "      <td>False</td>\n",
       "      <td>False</td>\n",
       "      <td>False</td>\n",
       "      <td>False</td>\n",
       "      <td>False</td>\n",
       "      <td>False</td>\n",
       "      <td>False</td>\n",
       "      <td>False</td>\n",
       "    </tr>\n",
       "    <tr>\n",
       "      <th>660677</th>\n",
       "      <td>False</td>\n",
       "      <td>False</td>\n",
       "      <td>False</td>\n",
       "      <td>False</td>\n",
       "      <td>False</td>\n",
       "      <td>False</td>\n",
       "      <td>False</td>\n",
       "      <td>False</td>\n",
       "      <td>False</td>\n",
       "      <td>False</td>\n",
       "      <td>False</td>\n",
       "      <td>False</td>\n",
       "      <td>False</td>\n",
       "      <td>False</td>\n",
       "    </tr>\n",
       "    <tr>\n",
       "      <th>660678</th>\n",
       "      <td>False</td>\n",
       "      <td>False</td>\n",
       "      <td>False</td>\n",
       "      <td>False</td>\n",
       "      <td>False</td>\n",
       "      <td>False</td>\n",
       "      <td>False</td>\n",
       "      <td>False</td>\n",
       "      <td>False</td>\n",
       "      <td>False</td>\n",
       "      <td>False</td>\n",
       "      <td>False</td>\n",
       "      <td>False</td>\n",
       "      <td>False</td>\n",
       "    </tr>\n",
       "  </tbody>\n",
       "</table>\n",
       "<p>660679 rows × 14 columns</p>\n",
       "</div>"
      ],
      "text/plain": [
       "        Index  Accident_Severity  Accident Date  Latitude  Light_Conditions  \\\n",
       "0       False              False          False     False             False   \n",
       "1       False              False          False     False             False   \n",
       "2       False              False          False     False             False   \n",
       "3       False              False          False     False             False   \n",
       "4       False              False          False     False             False   \n",
       "...       ...                ...            ...       ...               ...   \n",
       "660674  False              False          False     False             False   \n",
       "660675  False              False          False     False             False   \n",
       "660676  False              False          False     False             False   \n",
       "660677  False              False          False     False             False   \n",
       "660678  False              False          False     False             False   \n",
       "\n",
       "        District Area  Longitude  Number_of_Casualties  Number_of_Vehicles  \\\n",
       "0               False      False                 False               False   \n",
       "1               False      False                 False               False   \n",
       "2               False      False                 False               False   \n",
       "3               False      False                 False               False   \n",
       "4               False      False                 False               False   \n",
       "...               ...        ...                   ...                 ...   \n",
       "660674          False      False                 False               False   \n",
       "660675          False      False                 False               False   \n",
       "660676          False      False                 False               False   \n",
       "660677          False      False                 False               False   \n",
       "660678          False      False                 False               False   \n",
       "\n",
       "        Road_Surface_Conditions  Road_Type  Urban_or_Rural_Area  \\\n",
       "0                         False      False                False   \n",
       "1                         False      False                False   \n",
       "2                         False       True                False   \n",
       "3                         False      False                False   \n",
       "4                         False       True                False   \n",
       "...                         ...        ...                  ...   \n",
       "660674                    False      False                False   \n",
       "660675                    False      False                False   \n",
       "660676                    False      False                False   \n",
       "660677                    False      False                False   \n",
       "660678                    False      False                False   \n",
       "\n",
       "        Weather_Conditions  Vehicle_Type  \n",
       "0                    False         False  \n",
       "1                    False         False  \n",
       "2                     True         False  \n",
       "3                    False         False  \n",
       "4                     True         False  \n",
       "...                    ...           ...  \n",
       "660674               False         False  \n",
       "660675               False         False  \n",
       "660676               False         False  \n",
       "660677               False         False  \n",
       "660678               False         False  \n",
       "\n",
       "[660679 rows x 14 columns]"
      ]
     },
     "execution_count": 6,
     "metadata": {},
     "output_type": "execute_result"
    }
   ],
   "source": [
    "accidents.isnull()"
   ]
  },
  {
   "cell_type": "code",
   "execution_count": 7,
   "id": "064bc38f-d3e3-4e72-be63-280e9f3ee160",
   "metadata": {},
   "outputs": [
    {
     "data": {
      "text/plain": [
       "Index                          0\n",
       "Accident_Severity              0\n",
       "Accident Date                  0\n",
       "Latitude                      25\n",
       "Light_Conditions               0\n",
       "District Area                  0\n",
       "Longitude                     26\n",
       "Number_of_Casualties           0\n",
       "Number_of_Vehicles             0\n",
       "Road_Surface_Conditions      726\n",
       "Road_Type                   4520\n",
       "Urban_or_Rural_Area           15\n",
       "Weather_Conditions         14128\n",
       "Vehicle_Type                   0\n",
       "dtype: int64"
      ]
     },
     "execution_count": 7,
     "metadata": {},
     "output_type": "execute_result"
    }
   ],
   "source": [
    "accidents.isnull().sum()"
   ]
  },
  {
   "cell_type": "code",
   "execution_count": 8,
   "id": "0e0e8cbb-039a-4a8e-bbb3-5c8f2b39d354",
   "metadata": {},
   "outputs": [],
   "source": [
    "accidents['Latitude']=accidents['Latitude'].fillna(accidents['Latitude'].mode()[0])"
   ]
  },
  {
   "cell_type": "code",
   "execution_count": 9,
   "id": "4be55252-5932-47eb-b662-55ebd6073d29",
   "metadata": {},
   "outputs": [],
   "source": [
    "accidents['Longitude']=accidents['Longitude'].fillna(accidents['Longitude'].mode()[0])"
   ]
  },
  {
   "cell_type": "code",
   "execution_count": 10,
   "id": "a2a28275-70c0-4bd2-bb23-751a63dacc76",
   "metadata": {},
   "outputs": [],
   "source": [
    "accidents['Road_Surface_Conditions']=accidents['Road_Surface_Conditions'].fillna(accidents['Road_Surface_Conditions'].mode()[0])"
   ]
  },
  {
   "cell_type": "code",
   "execution_count": 11,
   "id": "641b29b3-15f3-4ec0-bafb-7bb4670d5991",
   "metadata": {},
   "outputs": [],
   "source": [
    "accidents['Road_Type']=accidents['Road_Type'].fillna(accidents['Road_Type'].mode()[0])"
   ]
  },
  {
   "cell_type": "code",
   "execution_count": 12,
   "id": "cc6e87c5-7048-48e4-b3bf-d2e760540e4e",
   "metadata": {},
   "outputs": [],
   "source": [
    "accidents['Urban_or_Rural_Area']=accidents['Urban_or_Rural_Area'].fillna(accidents['Longitude'].mode()[0])"
   ]
  },
  {
   "cell_type": "code",
   "execution_count": 13,
   "id": "cb16a292-2b0e-4d72-bd36-b1ff07640922",
   "metadata": {},
   "outputs": [
    {
     "data": {
      "text/plain": [
       "Index                       object\n",
       "Accident_Severity           object\n",
       "Accident Date               object\n",
       "Latitude                   float64\n",
       "Light_Conditions            object\n",
       "District Area               object\n",
       "Longitude                  float64\n",
       "Number_of_Casualties         int64\n",
       "Number_of_Vehicles           int64\n",
       "Road_Surface_Conditions     object\n",
       "Road_Type                   object\n",
       "Urban_or_Rural_Area         object\n",
       "Weather_Conditions          object\n",
       "Vehicle_Type                object\n",
       "dtype: object"
      ]
     },
     "execution_count": 13,
     "metadata": {},
     "output_type": "execute_result"
    }
   ],
   "source": [
    "accidents.dtypes"
   ]
  },
  {
   "cell_type": "code",
   "execution_count": 14,
   "id": "d9931960-061b-48b2-91c0-255dc2f222e5",
   "metadata": {},
   "outputs": [
    {
     "data": {
      "text/plain": [
       "Index                       object\n",
       "Accident_Severity           object\n",
       "Accident Date               object\n",
       "Latitude                   float64\n",
       "Light_Conditions            object\n",
       "District Area               object\n",
       "Longitude                  float64\n",
       "Number_of_Casualties         int64\n",
       "Number_of_Vehicles           int64\n",
       "Road_Surface_Conditions     object\n",
       "Road_Type                   object\n",
       "Urban_or_Rural_Area         object\n",
       "Weather_Conditions          object\n",
       "Vehicle_Type                object\n",
       "dtype: object"
      ]
     },
     "execution_count": 14,
     "metadata": {},
     "output_type": "execute_result"
    }
   ],
   "source": [
    "accidents.dtypes"
   ]
  },
  {
   "cell_type": "code",
   "execution_count": 15,
   "id": "31c5f03e-0938-4132-8a08-4e654e92d21c",
   "metadata": {},
   "outputs": [],
   "source": [
    "accidents['Accident Date'] = accidents['Accident Date'].astype('str')"
   ]
  },
  {
   "cell_type": "code",
   "execution_count": 16,
   "id": "a5263485-ce52-4655-842f-b4a6b7f8f8e4",
   "metadata": {},
   "outputs": [],
   "source": [
    "accidents['Accident Date'] = accidents['Accident Date'].str.strip()\n",
    "accidents['Accident Date'] = accidents['Accident Date'].str.replace('/','-')"
   ]
  },
  {
   "cell_type": "code",
   "execution_count": 17,
   "id": "f0988738-dc61-4561-a317-9061ef9c237d",
   "metadata": {},
   "outputs": [],
   "source": [
    "accidents['Accident Date'] = pd.to_datetime(accidents['Accident Date'], dayfirst = True, errors = 'coerce')"
   ]
  },
  {
   "cell_type": "code",
   "execution_count": 18,
   "id": "28c39b15-7155-4ba6-8e1d-7acd3e17ae4a",
   "metadata": {},
   "outputs": [
    {
     "data": {
      "text/plain": [
       "Index                              object\n",
       "Accident_Severity                  object\n",
       "Accident Date              datetime64[ns]\n",
       "Latitude                          float64\n",
       "Light_Conditions                   object\n",
       "District Area                      object\n",
       "Longitude                         float64\n",
       "Number_of_Casualties                int64\n",
       "Number_of_Vehicles                  int64\n",
       "Road_Surface_Conditions            object\n",
       "Road_Type                          object\n",
       "Urban_or_Rural_Area                object\n",
       "Weather_Conditions                 object\n",
       "Vehicle_Type                       object\n",
       "dtype: object"
      ]
     },
     "execution_count": 18,
     "metadata": {},
     "output_type": "execute_result"
    }
   ],
   "source": [
    "accidents.dtypes"
   ]
  },
  {
   "cell_type": "code",
   "execution_count": 19,
   "id": "a50debfd-cf2a-45f2-8790-6af7c48737ad",
   "metadata": {},
   "outputs": [
    {
     "data": {
      "text/plain": [
       "Index                          0\n",
       "Accident_Severity              0\n",
       "Accident Date                  0\n",
       "Latitude                       0\n",
       "Light_Conditions               0\n",
       "District Area                  0\n",
       "Longitude                      0\n",
       "Number_of_Casualties           0\n",
       "Number_of_Vehicles             0\n",
       "Road_Surface_Conditions        0\n",
       "Road_Type                      0\n",
       "Urban_or_Rural_Area            0\n",
       "Weather_Conditions         14128\n",
       "Vehicle_Type                   0\n",
       "dtype: int64"
      ]
     },
     "execution_count": 19,
     "metadata": {},
     "output_type": "execute_result"
    }
   ],
   "source": [
    "accidents.isnull().sum()"
   ]
  },
  {
   "cell_type": "code",
   "execution_count": 20,
   "id": "b9310624-ceb7-42a2-b19d-e4458afea2fb",
   "metadata": {},
   "outputs": [],
   "source": [
    "accidents['year']=accidents['Accident Date'].dt.year"
   ]
  },
  {
   "cell_type": "code",
   "execution_count": 21,
   "id": "95cda9ff-bce8-45e9-852a-27b803bc694d",
   "metadata": {},
   "outputs": [],
   "source": [
    "accidents['month']=accidents['Accident Date'].dt.month"
   ]
  },
  {
   "cell_type": "code",
   "execution_count": 22,
   "id": "8a7680eb-7f8d-4d23-9828-d8253c288d00",
   "metadata": {},
   "outputs": [
    {
     "data": {
      "text/plain": [
       "Index                          0\n",
       "Accident_Severity              0\n",
       "Accident Date                  0\n",
       "Latitude                       0\n",
       "Light_Conditions               0\n",
       "District Area                  0\n",
       "Longitude                      0\n",
       "Number_of_Casualties           0\n",
       "Number_of_Vehicles             0\n",
       "Road_Surface_Conditions        0\n",
       "Road_Type                      0\n",
       "Urban_or_Rural_Area            0\n",
       "Weather_Conditions         14128\n",
       "Vehicle_Type                   0\n",
       "year                           0\n",
       "month                          0\n",
       "dtype: int64"
      ]
     },
     "execution_count": 22,
     "metadata": {},
     "output_type": "execute_result"
    }
   ],
   "source": [
    "accidents.isnull().sum()"
   ]
  },
  {
   "cell_type": "markdown",
   "id": "9cc319f0-5ac7-46f1-ae30-fb4474ebefd5",
   "metadata": {},
   "source": [
    "<h1>QUESTION 1</h1>\n",
    "<H3>Accident severity based on light conditions</H3>"
   ]
  },
  {
   "cell_type": "code",
   "execution_count": 23,
   "id": "7a2bc9da-dcf5-4cf3-80cf-f3745af04b30",
   "metadata": {},
   "outputs": [],
   "source": [
    "severity1 = accidents.groupby(['Accident_Severity','Light_Conditions']).size()"
   ]
  },
  {
   "cell_type": "code",
   "execution_count": 24,
   "id": "6ab3a999-f95a-4d55-b2b5-1fde20e5efcf",
   "metadata": {},
   "outputs": [
    {
     "data": {
      "text/html": [
       "<div>\n",
       "<style scoped>\n",
       "    .dataframe tbody tr th:only-of-type {\n",
       "        vertical-align: middle;\n",
       "    }\n",
       "\n",
       "    .dataframe tbody tr th {\n",
       "        vertical-align: top;\n",
       "    }\n",
       "\n",
       "    .dataframe thead th {\n",
       "        text-align: right;\n",
       "    }\n",
       "</style>\n",
       "<table border=\"1\" class=\"dataframe\">\n",
       "  <thead>\n",
       "    <tr style=\"text-align: right;\">\n",
       "      <th>Light_Conditions</th>\n",
       "      <th>Darkness - lighting unknown</th>\n",
       "      <th>Darkness - lights lit</th>\n",
       "      <th>Darkness - lights unlit</th>\n",
       "      <th>Darkness - no lighting</th>\n",
       "      <th>Daylight</th>\n",
       "    </tr>\n",
       "    <tr>\n",
       "      <th>Accident_Severity</th>\n",
       "      <th></th>\n",
       "      <th></th>\n",
       "      <th></th>\n",
       "      <th></th>\n",
       "      <th></th>\n",
       "    </tr>\n",
       "  </thead>\n",
       "  <tbody>\n",
       "    <tr>\n",
       "      <th>Fatal</th>\n",
       "      <td>68</td>\n",
       "      <td>1860</td>\n",
       "      <td>45</td>\n",
       "      <td>1612</td>\n",
       "      <td>5076</td>\n",
       "    </tr>\n",
       "    <tr>\n",
       "      <th>Serious</th>\n",
       "      <td>794</td>\n",
       "      <td>19130</td>\n",
       "      <td>360</td>\n",
       "      <td>7174</td>\n",
       "      <td>60759</td>\n",
       "    </tr>\n",
       "    <tr>\n",
       "      <th>Slight</th>\n",
       "      <td>5622</td>\n",
       "      <td>108345</td>\n",
       "      <td>2138</td>\n",
       "      <td>28651</td>\n",
       "      <td>419045</td>\n",
       "    </tr>\n",
       "  </tbody>\n",
       "</table>\n",
       "</div>"
      ],
      "text/plain": [
       "Light_Conditions   Darkness - lighting unknown  Darkness - lights lit  \\\n",
       "Accident_Severity                                                       \n",
       "Fatal                                       68                   1860   \n",
       "Serious                                    794                  19130   \n",
       "Slight                                    5622                 108345   \n",
       "\n",
       "Light_Conditions   Darkness - lights unlit  Darkness - no lighting  Daylight  \n",
       "Accident_Severity                                                             \n",
       "Fatal                                   45                    1612      5076  \n",
       "Serious                                360                    7174     60759  \n",
       "Slight                                2138                   28651    419045  "
      ]
     },
     "execution_count": 24,
     "metadata": {},
     "output_type": "execute_result"
    }
   ],
   "source": [
    "severity1.unstack()"
   ]
  },
  {
   "cell_type": "markdown",
   "id": "49aae081-2c99-45b9-9b2d-6a4b5db820b5",
   "metadata": {},
   "source": [
    "<h1>Insight 1</h1>\n",
    "<h3>There are more fatal accidents in daylight with 5,076, serious accidents are more occuring in the darkness where lights are lit, and slight damage occurs in daylight</h3>"
   ]
  },
  {
   "cell_type": "markdown",
   "id": "783d49b8-c900-46ee-8714-56ef9443066b",
   "metadata": {},
   "source": [
    "<h1>QUESTION 2</h1>\n",
    "<H3>Accident severity based on district area, what area has the most fatal accidents?</H3>"
   ]
  },
  {
   "cell_type": "code",
   "execution_count": 25,
   "id": "81460e67-99a7-4d22-96ce-404f0f86a15b",
   "metadata": {},
   "outputs": [],
   "source": [
    "severity2 = accidents.groupby(['Accident_Severity','District Area']).size()"
   ]
  },
  {
   "cell_type": "code",
   "execution_count": 26,
   "id": "7d3b9b19-0640-49e8-96ab-bd1f7c2040f1",
   "metadata": {},
   "outputs": [
    {
     "data": {
      "text/html": [
       "<div>\n",
       "<style scoped>\n",
       "    .dataframe tbody tr th:only-of-type {\n",
       "        vertical-align: middle;\n",
       "    }\n",
       "\n",
       "    .dataframe tbody tr th {\n",
       "        vertical-align: top;\n",
       "    }\n",
       "\n",
       "    .dataframe thead th {\n",
       "        text-align: right;\n",
       "    }\n",
       "</style>\n",
       "<table border=\"1\" class=\"dataframe\">\n",
       "  <thead>\n",
       "    <tr style=\"text-align: right;\">\n",
       "      <th>District Area</th>\n",
       "      <th>Aberdeen City</th>\n",
       "      <th>Aberdeenshire</th>\n",
       "      <th>Adur</th>\n",
       "      <th>Allerdale</th>\n",
       "      <th>Alnwick</th>\n",
       "      <th>Amber Valley</th>\n",
       "      <th>Angus</th>\n",
       "      <th>Argyll and Bute</th>\n",
       "      <th>Arun</th>\n",
       "      <th>Ashfield</th>\n",
       "      <th>...</th>\n",
       "      <th>Wokingham</th>\n",
       "      <th>Wolverhampton</th>\n",
       "      <th>Worcester</th>\n",
       "      <th>Worthing</th>\n",
       "      <th>Wrexham</th>\n",
       "      <th>Wychavon</th>\n",
       "      <th>Wycombe</th>\n",
       "      <th>Wyre</th>\n",
       "      <th>Wyre Forest</th>\n",
       "      <th>York</th>\n",
       "    </tr>\n",
       "    <tr>\n",
       "      <th>Accident_Severity</th>\n",
       "      <th></th>\n",
       "      <th></th>\n",
       "      <th></th>\n",
       "      <th></th>\n",
       "      <th></th>\n",
       "      <th></th>\n",
       "      <th></th>\n",
       "      <th></th>\n",
       "      <th></th>\n",
       "      <th></th>\n",
       "      <th></th>\n",
       "      <th></th>\n",
       "      <th></th>\n",
       "      <th></th>\n",
       "      <th></th>\n",
       "      <th></th>\n",
       "      <th></th>\n",
       "      <th></th>\n",
       "      <th></th>\n",
       "      <th></th>\n",
       "      <th></th>\n",
       "    </tr>\n",
       "  </thead>\n",
       "  <tbody>\n",
       "    <tr>\n",
       "      <th>Fatal</th>\n",
       "      <td>12</td>\n",
       "      <td>66</td>\n",
       "      <td>8</td>\n",
       "      <td>24</td>\n",
       "      <td>6</td>\n",
       "      <td>19</td>\n",
       "      <td>32</td>\n",
       "      <td>27</td>\n",
       "      <td>15</td>\n",
       "      <td>11</td>\n",
       "      <td>...</td>\n",
       "      <td>13</td>\n",
       "      <td>20</td>\n",
       "      <td>3</td>\n",
       "      <td>4</td>\n",
       "      <td>14</td>\n",
       "      <td>30</td>\n",
       "      <td>20</td>\n",
       "      <td>15</td>\n",
       "      <td>22</td>\n",
       "      <td>21</td>\n",
       "    </tr>\n",
       "    <tr>\n",
       "      <th>Serious</th>\n",
       "      <td>239</td>\n",
       "      <td>463</td>\n",
       "      <td>101</td>\n",
       "      <td>143</td>\n",
       "      <td>33</td>\n",
       "      <td>173</td>\n",
       "      <td>163</td>\n",
       "      <td>184</td>\n",
       "      <td>253</td>\n",
       "      <td>201</td>\n",
       "      <td>...</td>\n",
       "      <td>167</td>\n",
       "      <td>282</td>\n",
       "      <td>74</td>\n",
       "      <td>140</td>\n",
       "      <td>148</td>\n",
       "      <td>193</td>\n",
       "      <td>216</td>\n",
       "      <td>186</td>\n",
       "      <td>132</td>\n",
       "      <td>255</td>\n",
       "    </tr>\n",
       "    <tr>\n",
       "      <th>Slight</th>\n",
       "      <td>1072</td>\n",
       "      <td>1401</td>\n",
       "      <td>510</td>\n",
       "      <td>961</td>\n",
       "      <td>193</td>\n",
       "      <td>1155</td>\n",
       "      <td>601</td>\n",
       "      <td>625</td>\n",
       "      <td>1108</td>\n",
       "      <td>1183</td>\n",
       "      <td>...</td>\n",
       "      <td>1130</td>\n",
       "      <td>2164</td>\n",
       "      <td>781</td>\n",
       "      <td>864</td>\n",
       "      <td>1140</td>\n",
       "      <td>1138</td>\n",
       "      <td>1493</td>\n",
       "      <td>1037</td>\n",
       "      <td>815</td>\n",
       "      <td>1621</td>\n",
       "    </tr>\n",
       "  </tbody>\n",
       "</table>\n",
       "<p>3 rows × 422 columns</p>\n",
       "</div>"
      ],
      "text/plain": [
       "District Area      Aberdeen City  Aberdeenshire  Adur  Allerdale  Alnwick  \\\n",
       "Accident_Severity                                                           \n",
       "Fatal                         12             66     8         24        6   \n",
       "Serious                      239            463   101        143       33   \n",
       "Slight                      1072           1401   510        961      193   \n",
       "\n",
       "District Area      Amber Valley  Angus  Argyll and Bute  Arun  Ashfield  ...  \\\n",
       "Accident_Severity                                                        ...   \n",
       "Fatal                        19     32               27    15        11  ...   \n",
       "Serious                     173    163              184   253       201  ...   \n",
       "Slight                     1155    601              625  1108      1183  ...   \n",
       "\n",
       "District Area      Wokingham  Wolverhampton  Worcester  Worthing  Wrexham  \\\n",
       "Accident_Severity                                                           \n",
       "Fatal                     13             20          3         4       14   \n",
       "Serious                  167            282         74       140      148   \n",
       "Slight                  1130           2164        781       864     1140   \n",
       "\n",
       "District Area      Wychavon  Wycombe  Wyre  Wyre Forest  York  \n",
       "Accident_Severity                                              \n",
       "Fatal                    30       20    15           22    21  \n",
       "Serious                 193      216   186          132   255  \n",
       "Slight                 1138     1493  1037          815  1621  \n",
       "\n",
       "[3 rows x 422 columns]"
      ]
     },
     "execution_count": 26,
     "metadata": {},
     "output_type": "execute_result"
    }
   ],
   "source": [
    "severity2.unstack()"
   ]
  },
  {
   "cell_type": "markdown",
   "id": "ce52b6cb-ed9a-4c56-9b4e-5c390682176f",
   "metadata": {},
   "source": [
    "<h1>Insight 2</h1>\n",
    "<h3>There are more fatal and serious accidents in the district of Aberdeenshire</h3>"
   ]
  },
  {
   "cell_type": "markdown",
   "id": "77328e08-88c4-495a-a3ee-756d56fdd8c3",
   "metadata": {},
   "source": [
    "<h1>QUESTION 3</h1>\n",
    "<H3>Accident severity based on road surface conditions</H3>"
   ]
  },
  {
   "cell_type": "code",
   "execution_count": 27,
   "id": "1b0e2c3d-f2d2-45a3-9bfb-dfcf32c17842",
   "metadata": {},
   "outputs": [],
   "source": [
    "severity3 = accidents.groupby(['Accident_Severity','Road_Surface_Conditions']).size()"
   ]
  },
  {
   "cell_type": "code",
   "execution_count": 28,
   "id": "6712bbf2-08bc-40c0-ae6a-87e8472e3721",
   "metadata": {},
   "outputs": [
    {
     "data": {
      "text/html": [
       "<div>\n",
       "<style scoped>\n",
       "    .dataframe tbody tr th:only-of-type {\n",
       "        vertical-align: middle;\n",
       "    }\n",
       "\n",
       "    .dataframe tbody tr th {\n",
       "        vertical-align: top;\n",
       "    }\n",
       "\n",
       "    .dataframe thead th {\n",
       "        text-align: right;\n",
       "    }\n",
       "</style>\n",
       "<table border=\"1\" class=\"dataframe\">\n",
       "  <thead>\n",
       "    <tr style=\"text-align: right;\">\n",
       "      <th>Road_Surface_Conditions</th>\n",
       "      <th>Dry</th>\n",
       "      <th>Flood over 3cm. deep</th>\n",
       "      <th>Frost or ice</th>\n",
       "      <th>Snow</th>\n",
       "      <th>Wet or damp</th>\n",
       "    </tr>\n",
       "    <tr>\n",
       "      <th>Accident_Severity</th>\n",
       "      <th></th>\n",
       "      <th></th>\n",
       "      <th></th>\n",
       "      <th></th>\n",
       "      <th></th>\n",
       "    </tr>\n",
       "  </thead>\n",
       "  <tbody>\n",
       "    <tr>\n",
       "      <th>Fatal</th>\n",
       "      <td>5790</td>\n",
       "      <td>23</td>\n",
       "      <td>193</td>\n",
       "      <td>35</td>\n",
       "      <td>2620</td>\n",
       "    </tr>\n",
       "    <tr>\n",
       "      <th>Serious</th>\n",
       "      <td>61708</td>\n",
       "      <td>152</td>\n",
       "      <td>2007</td>\n",
       "      <td>565</td>\n",
       "      <td>23785</td>\n",
       "    </tr>\n",
       "    <tr>\n",
       "      <th>Slight</th>\n",
       "      <td>381049</td>\n",
       "      <td>842</td>\n",
       "      <td>16317</td>\n",
       "      <td>5290</td>\n",
       "      <td>160303</td>\n",
       "    </tr>\n",
       "  </tbody>\n",
       "</table>\n",
       "</div>"
      ],
      "text/plain": [
       "Road_Surface_Conditions     Dry  Flood over 3cm. deep  Frost or ice  Snow  \\\n",
       "Accident_Severity                                                           \n",
       "Fatal                      5790                    23           193    35   \n",
       "Serious                   61708                   152          2007   565   \n",
       "Slight                   381049                   842         16317  5290   \n",
       "\n",
       "Road_Surface_Conditions  Wet or damp  \n",
       "Accident_Severity                     \n",
       "Fatal                           2620  \n",
       "Serious                        23785  \n",
       "Slight                        160303  "
      ]
     },
     "execution_count": 28,
     "metadata": {},
     "output_type": "execute_result"
    }
   ],
   "source": [
    "severity3.unstack()"
   ]
  },
  {
   "cell_type": "markdown",
   "id": "28ec941c-4f3b-4167-a527-01b296461ae6",
   "metadata": {},
   "source": [
    "<h1>Insight 3</h1>\n",
    "<h3>There are more fatal and serious accidents in dry road surface conditions</h3>"
   ]
  },
  {
   "cell_type": "markdown",
   "id": "0cedcdb5-5479-4724-92fe-406167e12b7c",
   "metadata": {},
   "source": [
    "<h1>QUESTION 4</h1>\n",
    "<H3>Accident severity based on area of loacation(Rural or Urban)"
   ]
  },
  {
   "cell_type": "code",
   "execution_count": 29,
   "id": "c9aa13ff-c58c-48d5-8351-c7ef76491d62",
   "metadata": {},
   "outputs": [],
   "source": [
    "severity4 = accidents.groupby(['Accident_Severity','Urban_or_Rural_Area']).size()"
   ]
  },
  {
   "cell_type": "code",
   "execution_count": 30,
   "id": "d3e5c4e2-6ae3-4e3b-b9c8-098b2f8dd178",
   "metadata": {},
   "outputs": [
    {
     "data": {
      "text/html": [
       "<div>\n",
       "<style scoped>\n",
       "    .dataframe tbody tr th:only-of-type {\n",
       "        vertical-align: middle;\n",
       "    }\n",
       "\n",
       "    .dataframe tbody tr th {\n",
       "        vertical-align: top;\n",
       "    }\n",
       "\n",
       "    .dataframe thead th {\n",
       "        text-align: right;\n",
       "    }\n",
       "</style>\n",
       "<table border=\"1\" class=\"dataframe\">\n",
       "  <thead>\n",
       "    <tr style=\"text-align: right;\">\n",
       "      <th>Urban_or_Rural_Area</th>\n",
       "      <th>-0.977611</th>\n",
       "      <th>Rural</th>\n",
       "      <th>Unallocated</th>\n",
       "      <th>Urban</th>\n",
       "    </tr>\n",
       "    <tr>\n",
       "      <th>Accident_Severity</th>\n",
       "      <th></th>\n",
       "      <th></th>\n",
       "      <th></th>\n",
       "      <th></th>\n",
       "    </tr>\n",
       "  </thead>\n",
       "  <tbody>\n",
       "    <tr>\n",
       "      <th>Fatal</th>\n",
       "      <td>NaN</td>\n",
       "      <td>5601.0</td>\n",
       "      <td>NaN</td>\n",
       "      <td>3060.0</td>\n",
       "    </tr>\n",
       "    <tr>\n",
       "      <th>Serious</th>\n",
       "      <td>2.0</td>\n",
       "      <td>37312.0</td>\n",
       "      <td>1.0</td>\n",
       "      <td>50902.0</td>\n",
       "    </tr>\n",
       "    <tr>\n",
       "      <th>Slight</th>\n",
       "      <td>13.0</td>\n",
       "      <td>196077.0</td>\n",
       "      <td>10.0</td>\n",
       "      <td>367701.0</td>\n",
       "    </tr>\n",
       "  </tbody>\n",
       "</table>\n",
       "</div>"
      ],
      "text/plain": [
       "Urban_or_Rural_Area  -0.977611     Rural   Unallocated     Urban\n",
       "Accident_Severity                                               \n",
       "Fatal                      NaN    5601.0           NaN    3060.0\n",
       "Serious                    2.0   37312.0           1.0   50902.0\n",
       "Slight                    13.0  196077.0          10.0  367701.0"
      ]
     },
     "execution_count": 30,
     "metadata": {},
     "output_type": "execute_result"
    }
   ],
   "source": [
    "severity4.unstack()"
   ]
  },
  {
   "cell_type": "markdown",
   "id": "2b32b61c-6e25-4bc0-a2eb-04e3ae6f1dff",
   "metadata": {},
   "source": [
    "<h1>Insight 4</h1>\n",
    "<h3>There are more fatal accidents in rural areas, serious and slight accidents on Urban areas</h3>"
   ]
  },
  {
   "cell_type": "markdown",
   "id": "e0109ffa-903a-4212-bb09-788de86ec507",
   "metadata": {},
   "source": [
    "<h1>QUESTION 5</h1>\n",
    "<H3>Accident severity based on vehicle type, what type of vehicle is likely to have a fatal accident?</H3>"
   ]
  },
  {
   "cell_type": "code",
   "execution_count": 31,
   "id": "efdcf490-de0e-47f0-aea5-8d0abdebe5c0",
   "metadata": {},
   "outputs": [],
   "source": [
    "severity5 = accidents.groupby(['Accident_Severity','Vehicle_Type']).size()"
   ]
  },
  {
   "cell_type": "code",
   "execution_count": 32,
   "id": "952de237-0d0e-4b0d-9d37-c5cfca67e483",
   "metadata": {},
   "outputs": [
    {
     "data": {
      "text/html": [
       "<div>\n",
       "<style scoped>\n",
       "    .dataframe tbody tr th:only-of-type {\n",
       "        vertical-align: middle;\n",
       "    }\n",
       "\n",
       "    .dataframe tbody tr th {\n",
       "        vertical-align: top;\n",
       "    }\n",
       "\n",
       "    .dataframe thead th {\n",
       "        text-align: right;\n",
       "    }\n",
       "</style>\n",
       "<table border=\"1\" class=\"dataframe\">\n",
       "  <thead>\n",
       "    <tr style=\"text-align: right;\">\n",
       "      <th>Vehicle_Type</th>\n",
       "      <th>Agricultural vehicle</th>\n",
       "      <th>Bus or coach (17 or more pass seats)</th>\n",
       "      <th>Car</th>\n",
       "      <th>Data missing or out of range</th>\n",
       "      <th>Goods 7.5 tonnes mgw and over</th>\n",
       "      <th>Goods over 3.5t. and under 7.5t</th>\n",
       "      <th>Minibus (8 - 16 passenger seats)</th>\n",
       "      <th>Motorcycle 125cc and under</th>\n",
       "      <th>Motorcycle 50cc and under</th>\n",
       "      <th>Motorcycle over 125cc and up to 500cc</th>\n",
       "      <th>Motorcycle over 500cc</th>\n",
       "      <th>Other vehicle</th>\n",
       "      <th>Pedal cycle</th>\n",
       "      <th>Ridden horse</th>\n",
       "      <th>Taxi/Private hire car</th>\n",
       "      <th>Van / Goods 3.5 tonnes mgw or under</th>\n",
       "    </tr>\n",
       "    <tr>\n",
       "      <th>Accident_Severity</th>\n",
       "      <th></th>\n",
       "      <th></th>\n",
       "      <th></th>\n",
       "      <th></th>\n",
       "      <th></th>\n",
       "      <th></th>\n",
       "      <th></th>\n",
       "      <th></th>\n",
       "      <th></th>\n",
       "      <th></th>\n",
       "      <th></th>\n",
       "      <th></th>\n",
       "      <th></th>\n",
       "      <th></th>\n",
       "      <th></th>\n",
       "      <th></th>\n",
       "    </tr>\n",
       "  </thead>\n",
       "  <tbody>\n",
       "    <tr>\n",
       "      <th>Fatal</th>\n",
       "      <td>21.0</td>\n",
       "      <td>325.0</td>\n",
       "      <td>6577.0</td>\n",
       "      <td>NaN</td>\n",
       "      <td>216.0</td>\n",
       "      <td>67.0</td>\n",
       "      <td>29.0</td>\n",
       "      <td>189.0</td>\n",
       "      <td>95.0</td>\n",
       "      <td>105.0</td>\n",
       "      <td>339.0</td>\n",
       "      <td>70.0</td>\n",
       "      <td>6.0</td>\n",
       "      <td>NaN</td>\n",
       "      <td>155.0</td>\n",
       "      <td>467.0</td>\n",
       "    </tr>\n",
       "    <tr>\n",
       "      <th>Serious</th>\n",
       "      <td>282.0</td>\n",
       "      <td>3373.0</td>\n",
       "      <td>66461.0</td>\n",
       "      <td>NaN</td>\n",
       "      <td>2321.0</td>\n",
       "      <td>857.0</td>\n",
       "      <td>276.0</td>\n",
       "      <td>2031.0</td>\n",
       "      <td>1014.0</td>\n",
       "      <td>1014.0</td>\n",
       "      <td>3457.0</td>\n",
       "      <td>767.0</td>\n",
       "      <td>39.0</td>\n",
       "      <td>NaN</td>\n",
       "      <td>1771.0</td>\n",
       "      <td>4554.0</td>\n",
       "    </tr>\n",
       "    <tr>\n",
       "      <th>Slight</th>\n",
       "      <td>1644.0</td>\n",
       "      <td>22180.0</td>\n",
       "      <td>424954.0</td>\n",
       "      <td>6.0</td>\n",
       "      <td>14770.0</td>\n",
       "      <td>5172.0</td>\n",
       "      <td>1671.0</td>\n",
       "      <td>13049.0</td>\n",
       "      <td>6494.0</td>\n",
       "      <td>6537.0</td>\n",
       "      <td>21861.0</td>\n",
       "      <td>4800.0</td>\n",
       "      <td>152.0</td>\n",
       "      <td>4.0</td>\n",
       "      <td>11368.0</td>\n",
       "      <td>29139.0</td>\n",
       "    </tr>\n",
       "  </tbody>\n",
       "</table>\n",
       "</div>"
      ],
      "text/plain": [
       "Vehicle_Type       Agricultural vehicle  Bus or coach (17 or more pass seats)  \\\n",
       "Accident_Severity                                                               \n",
       "Fatal                              21.0                                 325.0   \n",
       "Serious                           282.0                                3373.0   \n",
       "Slight                           1644.0                               22180.0   \n",
       "\n",
       "Vehicle_Type            Car  Data missing or out of range  \\\n",
       "Accident_Severity                                           \n",
       "Fatal                6577.0                           NaN   \n",
       "Serious             66461.0                           NaN   \n",
       "Slight             424954.0                           6.0   \n",
       "\n",
       "Vehicle_Type       Goods 7.5 tonnes mgw and over  \\\n",
       "Accident_Severity                                  \n",
       "Fatal                                      216.0   \n",
       "Serious                                   2321.0   \n",
       "Slight                                   14770.0   \n",
       "\n",
       "Vehicle_Type       Goods over 3.5t. and under 7.5t  \\\n",
       "Accident_Severity                                    \n",
       "Fatal                                         67.0   \n",
       "Serious                                      857.0   \n",
       "Slight                                      5172.0   \n",
       "\n",
       "Vehicle_Type       Minibus (8 - 16 passenger seats)  \\\n",
       "Accident_Severity                                     \n",
       "Fatal                                          29.0   \n",
       "Serious                                       276.0   \n",
       "Slight                                       1671.0   \n",
       "\n",
       "Vehicle_Type       Motorcycle 125cc and under  Motorcycle 50cc and under  \\\n",
       "Accident_Severity                                                          \n",
       "Fatal                                   189.0                       95.0   \n",
       "Serious                                2031.0                     1014.0   \n",
       "Slight                                13049.0                     6494.0   \n",
       "\n",
       "Vehicle_Type       Motorcycle over 125cc and up to 500cc  \\\n",
       "Accident_Severity                                          \n",
       "Fatal                                              105.0   \n",
       "Serious                                           1014.0   \n",
       "Slight                                            6537.0   \n",
       "\n",
       "Vehicle_Type       Motorcycle over 500cc  Other vehicle  Pedal cycle  \\\n",
       "Accident_Severity                                                      \n",
       "Fatal                              339.0           70.0          6.0   \n",
       "Serious                           3457.0          767.0         39.0   \n",
       "Slight                           21861.0         4800.0        152.0   \n",
       "\n",
       "Vehicle_Type       Ridden horse  Taxi/Private hire car  \\\n",
       "Accident_Severity                                        \n",
       "Fatal                       NaN                  155.0   \n",
       "Serious                     NaN                 1771.0   \n",
       "Slight                      4.0                11368.0   \n",
       "\n",
       "Vehicle_Type       Van / Goods 3.5 tonnes mgw or under  \n",
       "Accident_Severity                                       \n",
       "Fatal                                            467.0  \n",
       "Serious                                         4554.0  \n",
       "Slight                                         29139.0  "
      ]
     },
     "execution_count": 32,
     "metadata": {},
     "output_type": "execute_result"
    }
   ],
   "source": [
    "severity5.unstack()"
   ]
  },
  {
   "cell_type": "markdown",
   "id": "5ad3165a-583e-47f6-bf9b-180c872008c3",
   "metadata": {},
   "source": [
    "<h1>Insight 5</h1><h3>There is a high chance that cars can have fatal accidents, followed by motorcyles and vans</h3>"
   ]
  },
  {
   "cell_type": "markdown",
   "id": "b76280fe-8e5a-4c0f-8295-017bdd4b5d46",
   "metadata": {},
   "source": [
    "<h1>QUESTION 6</h1>\n",
    "<H3>Number of accident severity</H3>"
   ]
  },
  {
   "cell_type": "code",
   "execution_count": 33,
   "id": "1962c2fd-c4a1-4f74-b97a-9ff4859dd620",
   "metadata": {},
   "outputs": [
    {
     "data": {
      "text/plain": [
       "Accident_Severity\n",
       "Slight     563801\n",
       "Serious     88217\n",
       "Fatal        8661\n",
       "Name: count, dtype: int64"
      ]
     },
     "execution_count": 33,
     "metadata": {},
     "output_type": "execute_result"
    }
   ],
   "source": [
    "accidents['Accident_Severity'].value_counts()"
   ]
  },
  {
   "cell_type": "markdown",
   "id": "b78fe467-b9cf-499c-bca3-4e4756fe4075",
   "metadata": {},
   "source": [
    "<h1>Insight 6</h1><h3>Accident severity has the following values: Slight     563,801\n",
    "Serious     88,217\n",
    "Fatal        8,661</h3>"
   ]
  },
  {
   "cell_type": "markdown",
   "id": "8d4b5980-10a3-4789-9dc7-fcab6d01fd50",
   "metadata": {},
   "source": [
    "<h1>QUESTION 7</h1>\n",
    "<H3>Most common roadtype accident?</H3>"
   ]
  },
  {
   "cell_type": "code",
   "execution_count": 34,
   "id": "4e814eaa-e6fe-4d35-9029-e492df70aca2",
   "metadata": {},
   "outputs": [
    {
     "data": {
      "text/plain": [
       "Road_Type\n",
       "Single carriageway    496663\n",
       "Dual carriageway       99424\n",
       "Roundabout             43992\n",
       "One way street         13559\n",
       "Slip road               7041\n",
       "Name: count, dtype: int64"
      ]
     },
     "execution_count": 34,
     "metadata": {},
     "output_type": "execute_result"
    }
   ],
   "source": [
    "accidents['Road_Type'].value_counts()"
   ]
  },
  {
   "cell_type": "markdown",
   "id": "ad9232d8-f19b-4208-8e10-8f3359d55258",
   "metadata": {},
   "source": [
    "<h1>Insight 7</h1><h3>There have been 75.17% of accidents recorded in Single carriageway type of road</h3>"
   ]
  },
  {
   "cell_type": "markdown",
   "id": "2917033b-104e-467c-8740-3fd9af76a543",
   "metadata": {},
   "source": [
    "<h1>QUESTION 8</h1>\n",
    "<H3>Accident by weather condition?</H3>"
   ]
  },
  {
   "cell_type": "code",
   "execution_count": 35,
   "id": "8359630d-a948-4487-a4e3-4ff6a6a34414",
   "metadata": {},
   "outputs": [
    {
     "data": {
      "text/plain": [
       "Weather_Conditions\n",
       "Fine no high winds       520885\n",
       "Raining no high winds     79696\n",
       "Other                     17150\n",
       "Raining + high winds       9615\n",
       "Fine + high winds          8554\n",
       "Snowing no high winds      6238\n",
       "Fog or mist                3528\n",
       "Snowing + high winds        885\n",
       "Name: count, dtype: int64"
      ]
     },
     "execution_count": 35,
     "metadata": {},
     "output_type": "execute_result"
    }
   ],
   "source": [
    "accidents['Weather_Conditions'].value_counts()"
   ]
  },
  {
   "cell_type": "markdown",
   "id": "e7723591-022a-4581-b4b5-d862279bb091",
   "metadata": {},
   "source": [
    "<h1>Insight 8</h1><h3>There have been 80.56% of accidents recorded in Fine no high winds type of weather condition</h3>"
   ]
  },
  {
   "cell_type": "markdown",
   "id": "22247bb5-1ce5-4a53-9801-a7dd4a0852a2",
   "metadata": {},
   "source": [
    "<h1>QUESTION 9</h1>\n",
    "<H3>Accident based on vehicle type? how severe is it?</H3>"
   ]
  },
  {
   "cell_type": "code",
   "execution_count": 36,
   "id": "f1d25293-8290-457a-803a-ce3db69debcc",
   "metadata": {},
   "outputs": [
    {
     "data": {
      "text/html": [
       "<div>\n",
       "<style scoped>\n",
       "    .dataframe tbody tr th:only-of-type {\n",
       "        vertical-align: middle;\n",
       "    }\n",
       "\n",
       "    .dataframe tbody tr th {\n",
       "        vertical-align: top;\n",
       "    }\n",
       "\n",
       "    .dataframe thead th {\n",
       "        text-align: right;\n",
       "    }\n",
       "</style>\n",
       "<table border=\"1\" class=\"dataframe\">\n",
       "  <thead>\n",
       "    <tr style=\"text-align: right;\">\n",
       "      <th>Vehicle_Type</th>\n",
       "      <th>Agricultural vehicle</th>\n",
       "      <th>Bus or coach (17 or more pass seats)</th>\n",
       "      <th>Car</th>\n",
       "      <th>Data missing or out of range</th>\n",
       "      <th>Goods 7.5 tonnes mgw and over</th>\n",
       "      <th>Goods over 3.5t. and under 7.5t</th>\n",
       "      <th>Minibus (8 - 16 passenger seats)</th>\n",
       "      <th>Motorcycle 125cc and under</th>\n",
       "      <th>Motorcycle 50cc and under</th>\n",
       "      <th>Motorcycle over 125cc and up to 500cc</th>\n",
       "      <th>Motorcycle over 500cc</th>\n",
       "      <th>Other vehicle</th>\n",
       "      <th>Pedal cycle</th>\n",
       "      <th>Ridden horse</th>\n",
       "      <th>Taxi/Private hire car</th>\n",
       "      <th>Van / Goods 3.5 tonnes mgw or under</th>\n",
       "    </tr>\n",
       "    <tr>\n",
       "      <th>Accident_Severity</th>\n",
       "      <th></th>\n",
       "      <th></th>\n",
       "      <th></th>\n",
       "      <th></th>\n",
       "      <th></th>\n",
       "      <th></th>\n",
       "      <th></th>\n",
       "      <th></th>\n",
       "      <th></th>\n",
       "      <th></th>\n",
       "      <th></th>\n",
       "      <th></th>\n",
       "      <th></th>\n",
       "      <th></th>\n",
       "      <th></th>\n",
       "      <th></th>\n",
       "    </tr>\n",
       "  </thead>\n",
       "  <tbody>\n",
       "    <tr>\n",
       "      <th>Fatal</th>\n",
       "      <td>21.0</td>\n",
       "      <td>325.0</td>\n",
       "      <td>6577.0</td>\n",
       "      <td>NaN</td>\n",
       "      <td>216.0</td>\n",
       "      <td>67.0</td>\n",
       "      <td>29.0</td>\n",
       "      <td>189.0</td>\n",
       "      <td>95.0</td>\n",
       "      <td>105.0</td>\n",
       "      <td>339.0</td>\n",
       "      <td>70.0</td>\n",
       "      <td>6.0</td>\n",
       "      <td>NaN</td>\n",
       "      <td>155.0</td>\n",
       "      <td>467.0</td>\n",
       "    </tr>\n",
       "    <tr>\n",
       "      <th>Serious</th>\n",
       "      <td>282.0</td>\n",
       "      <td>3373.0</td>\n",
       "      <td>66461.0</td>\n",
       "      <td>NaN</td>\n",
       "      <td>2321.0</td>\n",
       "      <td>857.0</td>\n",
       "      <td>276.0</td>\n",
       "      <td>2031.0</td>\n",
       "      <td>1014.0</td>\n",
       "      <td>1014.0</td>\n",
       "      <td>3457.0</td>\n",
       "      <td>767.0</td>\n",
       "      <td>39.0</td>\n",
       "      <td>NaN</td>\n",
       "      <td>1771.0</td>\n",
       "      <td>4554.0</td>\n",
       "    </tr>\n",
       "    <tr>\n",
       "      <th>Slight</th>\n",
       "      <td>1644.0</td>\n",
       "      <td>22180.0</td>\n",
       "      <td>424954.0</td>\n",
       "      <td>6.0</td>\n",
       "      <td>14770.0</td>\n",
       "      <td>5172.0</td>\n",
       "      <td>1671.0</td>\n",
       "      <td>13049.0</td>\n",
       "      <td>6494.0</td>\n",
       "      <td>6537.0</td>\n",
       "      <td>21861.0</td>\n",
       "      <td>4800.0</td>\n",
       "      <td>152.0</td>\n",
       "      <td>4.0</td>\n",
       "      <td>11368.0</td>\n",
       "      <td>29139.0</td>\n",
       "    </tr>\n",
       "  </tbody>\n",
       "</table>\n",
       "</div>"
      ],
      "text/plain": [
       "Vehicle_Type       Agricultural vehicle  Bus or coach (17 or more pass seats)  \\\n",
       "Accident_Severity                                                               \n",
       "Fatal                              21.0                                 325.0   \n",
       "Serious                           282.0                                3373.0   \n",
       "Slight                           1644.0                               22180.0   \n",
       "\n",
       "Vehicle_Type            Car  Data missing or out of range  \\\n",
       "Accident_Severity                                           \n",
       "Fatal                6577.0                           NaN   \n",
       "Serious             66461.0                           NaN   \n",
       "Slight             424954.0                           6.0   \n",
       "\n",
       "Vehicle_Type       Goods 7.5 tonnes mgw and over  \\\n",
       "Accident_Severity                                  \n",
       "Fatal                                      216.0   \n",
       "Serious                                   2321.0   \n",
       "Slight                                   14770.0   \n",
       "\n",
       "Vehicle_Type       Goods over 3.5t. and under 7.5t  \\\n",
       "Accident_Severity                                    \n",
       "Fatal                                         67.0   \n",
       "Serious                                      857.0   \n",
       "Slight                                      5172.0   \n",
       "\n",
       "Vehicle_Type       Minibus (8 - 16 passenger seats)  \\\n",
       "Accident_Severity                                     \n",
       "Fatal                                          29.0   \n",
       "Serious                                       276.0   \n",
       "Slight                                       1671.0   \n",
       "\n",
       "Vehicle_Type       Motorcycle 125cc and under  Motorcycle 50cc and under  \\\n",
       "Accident_Severity                                                          \n",
       "Fatal                                   189.0                       95.0   \n",
       "Serious                                2031.0                     1014.0   \n",
       "Slight                                13049.0                     6494.0   \n",
       "\n",
       "Vehicle_Type       Motorcycle over 125cc and up to 500cc  \\\n",
       "Accident_Severity                                          \n",
       "Fatal                                              105.0   \n",
       "Serious                                           1014.0   \n",
       "Slight                                            6537.0   \n",
       "\n",
       "Vehicle_Type       Motorcycle over 500cc  Other vehicle  Pedal cycle  \\\n",
       "Accident_Severity                                                      \n",
       "Fatal                              339.0           70.0          6.0   \n",
       "Serious                           3457.0          767.0         39.0   \n",
       "Slight                           21861.0         4800.0        152.0   \n",
       "\n",
       "Vehicle_Type       Ridden horse  Taxi/Private hire car  \\\n",
       "Accident_Severity                                        \n",
       "Fatal                       NaN                  155.0   \n",
       "Serious                     NaN                 1771.0   \n",
       "Slight                      4.0                11368.0   \n",
       "\n",
       "Vehicle_Type       Van / Goods 3.5 tonnes mgw or under  \n",
       "Accident_Severity                                       \n",
       "Fatal                                            467.0  \n",
       "Serious                                         4554.0  \n",
       "Slight                                         29139.0  "
      ]
     },
     "execution_count": 36,
     "metadata": {},
     "output_type": "execute_result"
    }
   ],
   "source": [
    "accidents.groupby(['Accident_Severity','Vehicle_Type']).size().unstack()"
   ]
  },
  {
   "cell_type": "markdown",
   "id": "24cd8ebd-75ec-483b-b65c-0d758946247b",
   "metadata": {},
   "source": [
    "<h1>Insight 9</h1><h3>There have been 75.37% of accidents recorded in a Car</h3>"
   ]
  },
  {
   "cell_type": "markdown",
   "id": "49f1ab97-beb7-4f77-a332-44db7299b072",
   "metadata": {},
   "source": [
    "<h1>Insight 10</h1><h3>But based on recorded data in all types of severity of accident the leading vehicle is an Agricultural vehicle</h3>"
   ]
  },
  {
   "cell_type": "markdown",
   "id": "983867a1-a485-4900-abd1-f7cddba403ee",
   "metadata": {},
   "source": [
    "<h1>QUESTION 10</h1>\n",
    "<H3>Number of Casualties? How about per District?What District has the most casualty?least?</H3>"
   ]
  },
  {
   "cell_type": "code",
   "execution_count": 37,
   "id": "3174e166-8a3b-48f2-959b-6cc3365e001a",
   "metadata": {},
   "outputs": [
    {
     "data": {
      "text/plain": [
       "np.int64(896568)"
      ]
     },
     "execution_count": 37,
     "metadata": {},
     "output_type": "execute_result"
    }
   ],
   "source": [
    "accidents['Number_of_Casualties'].sum()"
   ]
  },
  {
   "cell_type": "markdown",
   "id": "7695ad9f-3a7b-4310-9b0e-56b82a84f979",
   "metadata": {},
   "source": [
    "<h1>Insight 11</h1><h3>There have been a total of 896,568 casualties</h3>"
   ]
  },
  {
   "cell_type": "code",
   "execution_count": 38,
   "id": "4cfb4a11-8f9b-4cc5-964d-71ad707cb21b",
   "metadata": {},
   "outputs": [
    {
     "data": {
      "text/plain": [
       "Number_of_Casualties  District Area          \n",
       "1                     Aberdeen City              1181\n",
       "                      Aberdeenshire              1531\n",
       "                      Adur                        478\n",
       "                      Allerdale                   805\n",
       "                      Alnwick                     156\n",
       "                                                 ... \n",
       "45                    Stratford-upon-Avon           1\n",
       "47                    Conwy                         1\n",
       "48                    Cornwall                      1\n",
       "62                    Staffordshire Moorlands       1\n",
       "68                    South Bucks                   1\n",
       "Length: 3171, dtype: int64"
      ]
     },
     "execution_count": 38,
     "metadata": {},
     "output_type": "execute_result"
    }
   ],
   "source": [
    "accidents.groupby(['Number_of_Casualties','District Area']).size()"
   ]
  },
  {
   "cell_type": "markdown",
   "id": "5c194a3c-c5c3-41d6-bd28-7240e9cc4761",
   "metadata": {},
   "source": [
    "<h1>Insight 12</h1><h3>The most number of casualty have been recorded in Aberdeen City with 1,181. The district with the least number of casualty is South Bucks with only 1</h3>"
   ]
  },
  {
   "cell_type": "code",
   "execution_count": 39,
   "id": "64e881ab-e114-4550-9abc-4ddba6c7e217",
   "metadata": {},
   "outputs": [
    {
     "name": "stdout",
     "output_type": "stream",
     "text": [
      "<class 'pandas.core.frame.DataFrame'>\n",
      "RangeIndex: 660679 entries, 0 to 660678\n",
      "Data columns (total 16 columns):\n",
      " #   Column                   Non-Null Count   Dtype         \n",
      "---  ------                   --------------   -----         \n",
      " 0   Index                    660679 non-null  object        \n",
      " 1   Accident_Severity        660679 non-null  object        \n",
      " 2   Accident Date            660679 non-null  datetime64[ns]\n",
      " 3   Latitude                 660679 non-null  float64       \n",
      " 4   Light_Conditions         660679 non-null  object        \n",
      " 5   District Area            660679 non-null  object        \n",
      " 6   Longitude                660679 non-null  float64       \n",
      " 7   Number_of_Casualties     660679 non-null  int64         \n",
      " 8   Number_of_Vehicles       660679 non-null  int64         \n",
      " 9   Road_Surface_Conditions  660679 non-null  object        \n",
      " 10  Road_Type                660679 non-null  object        \n",
      " 11  Urban_or_Rural_Area      660679 non-null  object        \n",
      " 12  Weather_Conditions       646551 non-null  object        \n",
      " 13  Vehicle_Type             660679 non-null  object        \n",
      " 14  year                     660679 non-null  int32         \n",
      " 15  month                    660679 non-null  int32         \n",
      "dtypes: datetime64[ns](1), float64(2), int32(2), int64(2), object(9)\n",
      "memory usage: 75.6+ MB\n"
     ]
    }
   ],
   "source": [
    "accidents.info()"
   ]
  },
  {
   "cell_type": "markdown",
   "id": "09edf72f-6dfc-40ce-b780-89c7a4d9e543",
   "metadata": {},
   "source": [
    "<h1>QUESTION 11</h1>\n",
    "<H3>Number casualties based on light conditions?</H3>"
   ]
  },
  {
   "cell_type": "code",
   "execution_count": 40,
   "id": "a4a63638-a766-4987-b1c9-4699bce73307",
   "metadata": {},
   "outputs": [
    {
     "data": {
      "text/plain": [
       "Number_of_Casualties  Light_Conditions           \n",
       "1                     Darkness - lighting unknown      5125\n",
       "                      Darkness - lights lit           98406\n",
       "                      Darkness - lights unlit          1975\n",
       "                      Darkness - no lighting          24927\n",
       "                      Daylight                       373608\n",
       "                                                      ...  \n",
       "45                    Daylight                            1\n",
       "47                    Daylight                            1\n",
       "48                    Darkness - no lighting              1\n",
       "62                    Daylight                            1\n",
       "68                    Darkness - lights lit               1\n",
       "Length: 88, dtype: int64"
      ]
     },
     "execution_count": 40,
     "metadata": {},
     "output_type": "execute_result"
    }
   ],
   "source": [
    "accidents.groupby(['Number_of_Casualties','Light_Conditions']).size()"
   ]
  },
  {
   "cell_type": "markdown",
   "id": "4d3989ce-cdfa-4645-b90b-3a5e3fff7bc5",
   "metadata": {},
   "source": [
    "<h1>Insight 13</h1><h3>There have been a total of 56% of recorded casualties in Daylight</h3>"
   ]
  },
  {
   "cell_type": "code",
   "execution_count": 41,
   "id": "ccd837a7-cce8-4fde-988e-84209c8d029b",
   "metadata": {},
   "outputs": [
    {
     "name": "stdout",
     "output_type": "stream",
     "text": [
      "<class 'pandas.core.frame.DataFrame'>\n",
      "RangeIndex: 660679 entries, 0 to 660678\n",
      "Data columns (total 16 columns):\n",
      " #   Column                   Non-Null Count   Dtype         \n",
      "---  ------                   --------------   -----         \n",
      " 0   Index                    660679 non-null  object        \n",
      " 1   Accident_Severity        660679 non-null  object        \n",
      " 2   Accident Date            660679 non-null  datetime64[ns]\n",
      " 3   Latitude                 660679 non-null  float64       \n",
      " 4   Light_Conditions         660679 non-null  object        \n",
      " 5   District Area            660679 non-null  object        \n",
      " 6   Longitude                660679 non-null  float64       \n",
      " 7   Number_of_Casualties     660679 non-null  int64         \n",
      " 8   Number_of_Vehicles       660679 non-null  int64         \n",
      " 9   Road_Surface_Conditions  660679 non-null  object        \n",
      " 10  Road_Type                660679 non-null  object        \n",
      " 11  Urban_or_Rural_Area      660679 non-null  object        \n",
      " 12  Weather_Conditions       646551 non-null  object        \n",
      " 13  Vehicle_Type             660679 non-null  object        \n",
      " 14  year                     660679 non-null  int32         \n",
      " 15  month                    660679 non-null  int32         \n",
      "dtypes: datetime64[ns](1), float64(2), int32(2), int64(2), object(9)\n",
      "memory usage: 75.6+ MB\n"
     ]
    }
   ],
   "source": [
    "accidents.info()"
   ]
  },
  {
   "cell_type": "markdown",
   "id": "27073a5b-90c0-4de7-ab5f-83065742058e",
   "metadata": {},
   "source": [
    "<h1>QUESTION 12</h1>\n",
    "<H3>Number of vehicle in an accident based on light conditions?</H3>"
   ]
  },
  {
   "cell_type": "code",
   "execution_count": 42,
   "id": "8d74f667-80a7-472f-a03b-a9294b6132db",
   "metadata": {},
   "outputs": [
    {
     "data": {
      "text/plain": [
       "Light_Conditions\n",
       "Darkness - lighting unknown    1.758482\n",
       "Darkness - lights lit          1.775498\n",
       "Darkness - lights unlit        1.752654\n",
       "Darkness - no lighting         1.599781\n",
       "Daylight                       1.865385\n",
       "Name: Number_of_Vehicles, dtype: float64"
      ]
     },
     "execution_count": 42,
     "metadata": {},
     "output_type": "execute_result"
    }
   ],
   "source": [
    "accidents.groupby('Light_Conditions')['Number_of_Vehicles'].mean()"
   ]
  },
  {
   "cell_type": "markdown",
   "id": "972ccbb2-86e6-4478-8e44-0cfec20a0fec",
   "metadata": {},
   "source": [
    "<h1>INSIGHT 14</h1>\n",
    "<H3>Number of vehicle is atleast 2 meaning to say most accidents occuring is between to vehicles</H3>"
   ]
  },
  {
   "cell_type": "markdown",
   "id": "5ee22aaf-ef50-4475-894c-4cff19942859",
   "metadata": {},
   "source": [
    "<h1>QUESTION 13</h1>\n",
    "<H3> How does the number of vehicles involved in an accident relate to the accident severity and the type of vehicle?</H3>"
   ]
  },
  {
   "cell_type": "code",
   "execution_count": 43,
   "id": "644c548f-4217-4bde-9123-865ffd9c7b69",
   "metadata": {},
   "outputs": [
    {
     "data": {
      "text/plain": [
       "Vehicle_Type\n",
       "Agricultural vehicle                     1.831509\n",
       "Bus or coach (17 or more pass seats)     1.857439\n",
       "Car                                      1.856622\n",
       "Data missing or out of range             1.666667\n",
       "Goods 7.5 tonnes mgw and over            1.857820\n",
       "Goods over 3.5t. and under 7.5t          1.855955\n",
       "Minibus (8 - 16 passenger seats)         1.825853\n",
       "Motorcycle 125cc and under               1.840677\n",
       "Motorcycle 50cc and under                1.905263\n",
       "Motorcycle over 125cc and up to 500cc    1.876190\n",
       "Motorcycle over 500cc                    1.860619\n",
       "Other vehicle                            1.848542\n",
       "Pedal cycle                              1.848684\n",
       "Ridden horse                             1.500000\n",
       "Taxi/Private hire car                    1.864620\n",
       "Van / Goods 3.5 tonnes mgw or under      1.846426\n",
       "dtype: float64"
      ]
     },
     "execution_count": 43,
     "metadata": {},
     "output_type": "execute_result"
    }
   ],
   "source": [
    "a= accidents.groupby(['Accident_Severity', 'Vehicle_Type'])['Number_of_Vehicles'].mean().unstack()\n",
    "a.max()"
   ]
  },
  {
   "cell_type": "markdown",
   "id": "a4b22bf8-c911-4170-b01b-44def09aed59",
   "metadata": {},
   "source": [
    "<h1>INSIGHT 15</h1>\n",
    "<H3>A higher number of vehicles on the road(1.8) increases the severity of accidents due to traffic congestion and various influencing factors such as vehicle types and environmental conditions.</H3>"
   ]
  },
  {
   "cell_type": "code",
   "execution_count": 44,
   "id": "dc5b1074-475e-413c-ab19-b0da2c7ddb64",
   "metadata": {},
   "outputs": [],
   "source": [
    "accidents['month'] = accidents['month'].astype('Int64')\n"
   ]
  },
  {
   "cell_type": "code",
   "execution_count": 45,
   "id": "46f909b0-3caa-45f0-a063-4f0a8ba0c29d",
   "metadata": {},
   "outputs": [],
   "source": [
    "accidents['Accident_Severity'] = accidents['Accident_Severity'].fillna('Unknown')\n"
   ]
  },
  {
   "cell_type": "code",
   "execution_count": 46,
   "id": "bc1b78c0-1c9d-4036-b0f9-6d2ba47c125d",
   "metadata": {},
   "outputs": [
    {
     "data": {
      "text/plain": [
       "Index                          0\n",
       "Accident_Severity              0\n",
       "Accident Date                  0\n",
       "Latitude                       0\n",
       "Light_Conditions               0\n",
       "District Area                  0\n",
       "Longitude                      0\n",
       "Number_of_Casualties           0\n",
       "Number_of_Vehicles             0\n",
       "Road_Surface_Conditions        0\n",
       "Road_Type                      0\n",
       "Urban_or_Rural_Area            0\n",
       "Weather_Conditions         14128\n",
       "Vehicle_Type                   0\n",
       "year                           0\n",
       "month                          0\n",
       "dtype: int64"
      ]
     },
     "execution_count": 46,
     "metadata": {},
     "output_type": "execute_result"
    }
   ],
   "source": [
    "accidents.isnull().sum()"
   ]
  },
  {
   "cell_type": "markdown",
   "id": "2dc4b1ae-9355-4f20-af7c-bc6a10dff91b",
   "metadata": {},
   "source": [
    "<h1>QUESTION 14</h1>\n",
    "<H3>Number of casualties per month and how severe?</H3>"
   ]
  },
  {
   "cell_type": "code",
   "execution_count": 47,
   "id": "296b32b1-8bd7-4e35-a780-9c3ad09a1360",
   "metadata": {},
   "outputs": [
    {
     "name": "stdout",
     "output_type": "stream",
     "text": [
      "Accident_Severity  Fatal  Serious  Slight\n",
      "month                                    \n",
      "1                   1453     9832   59753\n",
      "2                   1181     9104   56228\n",
      "3                   1260    10381   61435\n",
      "4                   1304    10869   58447\n",
      "5                   1526    11334   63936\n",
      "6                   1242    11341   63713\n",
      "7                   1385    11608   65497\n",
      "8                   1586    11403   62291\n",
      "9                   1355    11538   63160\n",
      "10                  1489    11465   67348\n",
      "11                  1414    11061   68978\n",
      "12                  1288     9503   59860\n"
     ]
    }
   ],
   "source": [
    "\n",
    "# Group by month and accident severity, summing the number of casualties\n",
    "casualties_per_month = accidents.groupby(['month', 'Accident_Severity'])['Number_of_Casualties'].sum().reset_index()\n",
    "\n",
    "# Pivot the table for better readability\n",
    "table = casualties_per_month.pivot(index='month', columns='Accident_Severity', values='Number_of_Casualties')\n",
    "\n",
    "# Fill NaN values with 0 for better visualization\n",
    "table = table.fillna(0)\n",
    "\n",
    "# Display the table\n",
    "print(table)\n"
   ]
  },
  {
   "cell_type": "code",
   "execution_count": 48,
   "id": "4ac8d158-8c02-42e2-acf5-4defa89a1a6a",
   "metadata": {},
   "outputs": [
    {
     "ename": "NameError",
     "evalue": "name 'grouped' is not defined",
     "output_type": "error",
     "traceback": [
      "\u001b[1;31m---------------------------------------------------------------------------\u001b[0m",
      "\u001b[1;31mNameError\u001b[0m                                 Traceback (most recent call last)",
      "Cell \u001b[1;32mIn[48], line 1\u001b[0m\n\u001b[1;32m----> 1\u001b[0m \u001b[43mgrouped\u001b[49m\u001b[38;5;241m.\u001b[39munstack()\n",
      "\u001b[1;31mNameError\u001b[0m: name 'grouped' is not defined"
     ]
    }
   ],
   "source": [
    "grouped.unstack()"
   ]
  },
  {
   "cell_type": "markdown",
   "id": "bc7f743a-46e5-42d8-a571-1c343df6bb63",
   "metadata": {},
   "source": [
    "<h1>INSIGHT 16</h1>\n",
    "<H3>Casualties are highest in May–October, with slight injuries being the most common, while serious injuries peak mid-year and fatalities are highest in August and May, highlighting the need for targeted road safety measures during these months.</H3>"
   ]
  },
  {
   "cell_type": "markdown",
   "id": "90e59764-1033-458f-94db-7974f13c4675",
   "metadata": {},
   "source": [
    "⃣<h1>QUESTION 15\n",
    "<h3>Which month has the highest total number of casualties, and how does severity vary?"
   ]
  },
  {
   "cell_type": "code",
   "execution_count": null,
   "id": "82710125-2af7-43a4-9b15-1ce11212d23e",
   "metadata": {},
   "outputs": [],
   "source": [
    "accidents.groupby(['month', 'Accident_Severity'])['Number_of_Casualties'].sum()\n"
   ]
  },
  {
   "cell_type": "markdown",
   "id": "280fa3de-cb5e-4e8a-a59d-b8de7cb33b82",
   "metadata": {},
   "source": [
    "<h1>INSIGHT 17</h1>\n",
    "<H3>Casualties are highest in May–October, with slight injuries being the most common, while serious injuries peak mid-year and fatalities are highest in August and May, highlighting the need for targeted road safety measures during these months.</H3></H3>"
   ]
  },
  {
   "cell_type": "markdown",
   "id": "0a42da80-8c84-4e63-8fec-01197fdfef0a",
   "metadata": {},
   "source": [
    "<h1>QUESTION 16</h1>\n",
    "<H3>How does the number of casualties correlate with weather conditions?</H3>\n"
   ]
  },
  {
   "cell_type": "code",
   "execution_count": null,
   "id": "c9f980d0-e09e-4c4d-a773-5dafa7840983",
   "metadata": {},
   "outputs": [],
   "source": [
    "accidents.groupby('Weather_Conditions')['Number_of_Casualties'].sum()\n"
   ]
  },
  {
   "cell_type": "markdown",
   "id": "08a1a171-f238-44c2-abef-899e6fe6bca0",
   "metadata": {},
   "source": [
    "<h1>INSIGHTS 18</h1>\n",
    "<H3>Most accidents occur in fine weather without high winds (703,445), followed by rainy conditions without high winds (112,229), suggesting that driver behavior, rather than severe weather, plays a major role in accident occurrence.</H3>\n"
   ]
  },
  {
   "cell_type": "markdown",
   "id": "6a7cf996-3293-48a4-ab53-2d8432888e61",
   "metadata": {},
   "source": [
    "<h1>QUESTION 17</h1>\n",
    "<H3>Are urban or rural areas more prone to severe accidents?</H3>\n"
   ]
  },
  {
   "cell_type": "code",
   "execution_count": null,
   "id": "19f666be-db54-4b98-a0ab-8ce85743ad57",
   "metadata": {},
   "outputs": [],
   "source": [
    "accidents.groupby(['Urban_or_Rural_Area', 'Accident_Severity'])['Number_of_Casualties'].sum()\n"
   ]
  },
  {
   "cell_type": "markdown",
   "id": "3de0afea-9da5-4076-abd5-8735b40d9314",
   "metadata": {},
   "source": [
    "<h1>INSIGHT 19</h1>\n",
    "<H3>Accidents in urban areas result in the highest number of casualties overall, while fatal accidents are more common in rural areas, suggesting that higher traffic density increases minor accidents in cities, whereas rural roads contribute to more severe crashes.</H3>\n"
   ]
  },
  {
   "cell_type": "markdown",
   "id": "b303035b-2273-40b9-90db-01a731b41728",
   "metadata": {},
   "source": [
    "<h1>QUESTION 18</h1>\n",
    "<H3>What is the average number of vehicles involved in accidents by severity?</H3>\n"
   ]
  },
  {
   "cell_type": "code",
   "execution_count": null,
   "id": "f162d13a-18c2-4e13-9c4e-ed5b4cf9a080",
   "metadata": {},
   "outputs": [],
   "source": [
    "accidents.groupby('Accident_Severity')['Number_of_Vehicles'].mean()\n"
   ]
  },
  {
   "cell_type": "markdown",
   "id": "567cebb3-7cff-4e7d-a027-3f85632b1192",
   "metadata": {},
   "source": [
    "<h1>INSIGHT 20</h1>\n",
    "<H3>On average, slight accidents involve the most vehicles (1.86 per accident), followed by fatal (1.79) and serious (1.68) accidents, indicating that multi-vehicle collisions are more common in minor accidents, while severe crashes may involve single vehicles at higher impact.?</H3>\n"
   ]
  },
  {
   "cell_type": "markdown",
   "id": "1c85319d-2de4-40cb-9668-968b4006764d",
   "metadata": {},
   "source": [
    "<h1>QUESTION 19</h1>\n",
    "<H3> Which road types are associated with the highest number of fatalities?</H3>\n"
   ]
  },
  {
   "cell_type": "code",
   "execution_count": null,
   "id": "06804c49-768a-4940-b379-c5c3e1d4081f",
   "metadata": {},
   "outputs": [],
   "source": [
    "accidents.groupby(['Road_Type', 'Accident_Severity'])['Number_of_Casualties'].sum().loc[:, 'Fatal']\n"
   ]
  },
  {
   "cell_type": "markdown",
   "id": "d593d534-ce84-4947-a4c7-ba368e881e3c",
   "metadata": {},
   "source": [
    "<h1>INSIGHT 21</h1>\n",
    "<H3>Most accidents occur on single carriageways (12,423), followed by dual carriageways (3,598), indicating that roads with two-way traffic and mixed vehicle speeds pose a higher risk for severe accidents.</H3>\n"
   ]
  },
  {
   "cell_type": "markdown",
   "id": "61e88cb4-5dcb-4f4e-adba-0059365b28d9",
   "metadata": {},
   "source": [
    "<h1>QUESTION 20</h1>\n",
    "<H3>Find the Correlation Between Number of Casualties and Other Numeric Factors</H3>\n"
   ]
  },
  {
   "cell_type": "code",
   "execution_count": null,
   "id": "aea50ce5-6af5-48b8-a86c-76d30a72ec69",
   "metadata": {},
   "outputs": [],
   "source": [
    "accidents[['Number_of_Casualties', 'Number_of_Vehicles', 'year', 'month']].corr()\n"
   ]
  },
  {
   "cell_type": "markdown",
   "id": "e4e445cd-cdb4-4c49-bbfe-5e84efa23206",
   "metadata": {},
   "source": [
    "<h1>INSIGHT 21</h1>\n",
    "<H3>The number of casualties has a weak positive correlation (0.23) with the number of vehicles involved, suggesting that accidents with more vehicles tend to result in more casualties, but the impact is not strong. Additionally, year and month have almost no correlation with casualties or vehicles, indicating that **accident severity remains relatively consistent over time.</H3>\n"
   ]
  },
  {
   "cell_type": "code",
   "execution_count": null,
   "id": "e880d720-3f93-4903-b04e-d398b305f3fe",
   "metadata": {},
   "outputs": [],
   "source": []
  },
  {
   "cell_type": "code",
   "execution_count": null,
   "id": "a482d92e-4c04-4777-9312-38482a3af138",
   "metadata": {},
   "outputs": [],
   "source": []
  },
  {
   "cell_type": "code",
   "execution_count": null,
   "id": "a16eee4a-8203-4657-bb92-f7cd3abbb822",
   "metadata": {},
   "outputs": [],
   "source": []
  },
  {
   "cell_type": "code",
   "execution_count": null,
   "id": "46c37140-9139-4ad9-adda-3a22a37e9eee",
   "metadata": {},
   "outputs": [],
   "source": []
  },
  {
   "cell_type": "code",
   "execution_count": null,
   "id": "19906408-4f7a-4e1a-81f1-5260d15c1dfc",
   "metadata": {},
   "outputs": [],
   "source": []
  }
 ],
 "metadata": {
  "kernelspec": {
   "display_name": "Python 3 (ipykernel)",
   "language": "python",
   "name": "python3"
  },
  "language_info": {
   "codemirror_mode": {
    "name": "ipython",
    "version": 3
   },
   "file_extension": ".py",
   "mimetype": "text/x-python",
   "name": "python",
   "nbconvert_exporter": "python",
   "pygments_lexer": "ipython3",
   "version": "3.13.2"
  }
 },
 "nbformat": 4,
 "nbformat_minor": 5
}
