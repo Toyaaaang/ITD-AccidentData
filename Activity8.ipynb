{
 "cells": [
  {
   "cell_type": "code",
   "execution_count": 45,
   "id": "8580a589-fcbd-4998-9bae-de81540c8645",
   "metadata": {},
   "outputs": [],
   "source": [
    "import numpy as np\n",
    "import pandas as pd \n",
    "import seaborn as sns \n",
    "import matplotlib.pyplot as plt \n",
    "import warnings \n",
    "warnings.filterwarnings('ignore')"
   ]
  },
  {
   "cell_type": "code",
   "execution_count": 46,
   "id": "2ddd34cf-e55d-4bb5-8955-1069d5c50819",
   "metadata": {},
   "outputs": [],
   "source": [
    "df = pd.read_csv('datasets\\\\Chicago_Crimes.csv')"
   ]
  },
  {
   "cell_type": "code",
   "execution_count": 47,
   "id": "072dc5df-0e85-46aa-9bb3-338904e1e607",
   "metadata": {},
   "outputs": [],
   "source": [
    "df['Date'] = pd.to_datetime(df['Date'], errors='coerce')  # convert to datetime\n",
    "df['Year'] = df['Date'].dt.year\n",
    "df['Month'] = df['Date'].dt.month"
   ]
  },
  {
   "cell_type": "markdown",
   "id": "37fc2bd6-d4f4-40cb-a74e-e1e543f239cb",
   "metadata": {},
   "source": [
    "<h3>Filtering</h1>"
   ]
  },
  {
   "cell_type": "code",
   "execution_count": 48,
   "id": "c48faf60-b13c-4b74-aa20-c2672e5874f5",
   "metadata": {},
   "outputs": [],
   "source": [
    "filter1 =df[df['Primary Type']== 'ASSAULT']\n",
    "filter2 = filter1[filter1['Arrest'] == True]\n",
    "filter3 = filter2[filter2['Year'] == 2025]\n",
    "filter4 = filter3[filter3['Location Description'] == 'STREET']"
   ]
  },
  {
   "cell_type": "code",
   "execution_count": 49,
   "id": "2a6c79f7-9b5f-42bc-a6da-00f794dc0445",
   "metadata": {},
   "outputs": [],
   "source": [
    "A_Assault = filter4.groupby(['Longitude', 'Latitude']).size().reset_index(name= 'Arrested Assault')"
   ]
  },
  {
   "cell_type": "code",
   "execution_count": 50,
   "id": "e7cb8aee-baca-424e-af84-0349c3e39c27",
   "metadata": {},
   "outputs": [
    {
     "data": {
      "text/plain": [
       "<folium.plugins.heat_map.HeatMap at 0x1f1f0ed7f10>"
      ]
     },
     "execution_count": 50,
     "metadata": {},
     "output_type": "execute_result"
    }
   ],
   "source": [
    "import folium\n",
    "from folium.plugins import HeatMap\n",
    "\n",
    "heat_df = A_Assault[['Latitude', 'Longitude', 'Arrested Assault']].values.tolist()\n",
    "map_ = folium.Map(location=[41.8781, -87.6298], zoom_start=11)\n",
    "\n",
    "HeatMap(heat_df).add_to(map_)\n"
   ]
  },
  {
   "cell_type": "markdown",
   "id": "d62ffbd8-1cc1-48f2-80a7-e83f0687d31d",
   "metadata": {},
   "source": [
    "<h2>INSIGHT 1</h2>\n",
    "<H1>Assault on the Streets of Chicago that has been arrested</H1>\n",
    "<h3>In 2025, Chicago's South Side neighborhoods, particularly areas like South Michigan Avenue and East 65th Street, have experienced a notable uptick in violent crimes, including assaults and robberies. While specific data for South Aberdeen Street and East Lake Street is limited, the broader region has seen incidents such as a woman being critically injured in an attack near Michigan Avenue in November 2023 . Additionally, more than a dozen cars were broken into on the Near South Side, with items including guns stolen . These incidents underscore the ongoing safety challenges in these neighborhoods.</h3>"
   ]
  },
  {
   "cell_type": "code",
   "execution_count": 51,
   "id": "e6a40c12-3236-4beb-87fb-04dd753227a8",
   "metadata": {},
   "outputs": [
    {
     "data": {
      "text/html": [
       "<div style=\"width:100%;\"><div style=\"position:relative;width:100%;height:0;padding-bottom:60%;\"><span style=\"color:#565656\">Make this Notebook Trusted to load map: File -> Trust Notebook</span><iframe srcdoc=\"&lt;!DOCTYPE html&gt;\n",
       "&lt;html&gt;\n",
       "&lt;head&gt;\n",
       "    \n",
       "    &lt;meta http-equiv=&quot;content-type&quot; content=&quot;text/html; charset=UTF-8&quot; /&gt;\n",
       "    \n",
       "        &lt;script&gt;\n",
       "            L_NO_TOUCH = false;\n",
       "            L_DISABLE_3D = false;\n",
       "        &lt;/script&gt;\n",
       "    \n",
       "    &lt;style&gt;html, body {width: 100%;height: 100%;margin: 0;padding: 0;}&lt;/style&gt;\n",
       "    &lt;style&gt;#map {position:absolute;top:0;bottom:0;right:0;left:0;}&lt;/style&gt;\n",
       "    &lt;script src=&quot;https://cdn.jsdelivr.net/npm/leaflet@1.9.3/dist/leaflet.js&quot;&gt;&lt;/script&gt;\n",
       "    &lt;script src=&quot;https://code.jquery.com/jquery-3.7.1.min.js&quot;&gt;&lt;/script&gt;\n",
       "    &lt;script src=&quot;https://cdn.jsdelivr.net/npm/bootstrap@5.2.2/dist/js/bootstrap.bundle.min.js&quot;&gt;&lt;/script&gt;\n",
       "    &lt;script src=&quot;https://cdnjs.cloudflare.com/ajax/libs/Leaflet.awesome-markers/2.0.2/leaflet.awesome-markers.js&quot;&gt;&lt;/script&gt;\n",
       "    &lt;link rel=&quot;stylesheet&quot; href=&quot;https://cdn.jsdelivr.net/npm/leaflet@1.9.3/dist/leaflet.css&quot;/&gt;\n",
       "    &lt;link rel=&quot;stylesheet&quot; href=&quot;https://cdn.jsdelivr.net/npm/bootstrap@5.2.2/dist/css/bootstrap.min.css&quot;/&gt;\n",
       "    &lt;link rel=&quot;stylesheet&quot; href=&quot;https://netdna.bootstrapcdn.com/bootstrap/3.0.0/css/bootstrap-glyphicons.css&quot;/&gt;\n",
       "    &lt;link rel=&quot;stylesheet&quot; href=&quot;https://cdn.jsdelivr.net/npm/@fortawesome/fontawesome-free@6.2.0/css/all.min.css&quot;/&gt;\n",
       "    &lt;link rel=&quot;stylesheet&quot; href=&quot;https://cdnjs.cloudflare.com/ajax/libs/Leaflet.awesome-markers/2.0.2/leaflet.awesome-markers.css&quot;/&gt;\n",
       "    &lt;link rel=&quot;stylesheet&quot; href=&quot;https://cdn.jsdelivr.net/gh/python-visualization/folium/folium/templates/leaflet.awesome.rotate.min.css&quot;/&gt;\n",
       "    \n",
       "            &lt;meta name=&quot;viewport&quot; content=&quot;width=device-width,\n",
       "                initial-scale=1.0, maximum-scale=1.0, user-scalable=no&quot; /&gt;\n",
       "            &lt;style&gt;\n",
       "                #map_0245147eabab10a8a61ef2c94e216866 {\n",
       "                    position: relative;\n",
       "                    width: 100.0%;\n",
       "                    height: 100.0%;\n",
       "                    left: 0.0%;\n",
       "                    top: 0.0%;\n",
       "                }\n",
       "                .leaflet-container { font-size: 1rem; }\n",
       "            &lt;/style&gt;\n",
       "        \n",
       "    &lt;script src=&quot;https://cdn.jsdelivr.net/gh/python-visualization/folium@main/folium/templates/leaflet_heat.min.js&quot;&gt;&lt;/script&gt;\n",
       "&lt;/head&gt;\n",
       "&lt;body&gt;\n",
       "    \n",
       "    \n",
       "            &lt;div class=&quot;folium-map&quot; id=&quot;map_0245147eabab10a8a61ef2c94e216866&quot; &gt;&lt;/div&gt;\n",
       "        \n",
       "&lt;/body&gt;\n",
       "&lt;script&gt;\n",
       "    \n",
       "    \n",
       "            var map_0245147eabab10a8a61ef2c94e216866 = L.map(\n",
       "                &quot;map_0245147eabab10a8a61ef2c94e216866&quot;,\n",
       "                {\n",
       "                    center: [41.8781, -87.6298],\n",
       "                    crs: L.CRS.EPSG3857,\n",
       "                    ...{\n",
       "  &quot;zoom&quot;: 11,\n",
       "  &quot;zoomControl&quot;: true,\n",
       "  &quot;preferCanvas&quot;: false,\n",
       "}\n",
       "\n",
       "                }\n",
       "            );\n",
       "\n",
       "            \n",
       "\n",
       "        \n",
       "    \n",
       "            var tile_layer_ed47eb1e17b5c2e7959be0f53f7cdaf9 = L.tileLayer(\n",
       "                &quot;https://tile.openstreetmap.org/{z}/{x}/{y}.png&quot;,\n",
       "                {\n",
       "  &quot;minZoom&quot;: 0,\n",
       "  &quot;maxZoom&quot;: 19,\n",
       "  &quot;maxNativeZoom&quot;: 19,\n",
       "  &quot;noWrap&quot;: false,\n",
       "  &quot;attribution&quot;: &quot;\\u0026copy; \\u003ca href=\\&quot;https://www.openstreetmap.org/copyright\\&quot;\\u003eOpenStreetMap\\u003c/a\\u003e contributors&quot;,\n",
       "  &quot;subdomains&quot;: &quot;abc&quot;,\n",
       "  &quot;detectRetina&quot;: false,\n",
       "  &quot;tms&quot;: false,\n",
       "  &quot;opacity&quot;: 1,\n",
       "}\n",
       "\n",
       "            );\n",
       "        \n",
       "    \n",
       "            tile_layer_ed47eb1e17b5c2e7959be0f53f7cdaf9.addTo(map_0245147eabab10a8a61ef2c94e216866);\n",
       "        \n",
       "    \n",
       "            var heat_map_5de41dfb82811659b20b696cbe584956 = L.heatLayer(\n",
       "                [[41.909224529, -87.777791622, 1.0], [41.895995456, -87.772334331, 1.0], [41.893094286, -87.772231169, 1.0], [41.881183818, -87.76157228, 1.0], [41.909981092, -87.752659874, 1.0], [41.975292995, -87.750926925, 1.0], [41.875483068, -87.745085159, 1.0], [41.937749035, -87.740665125, 1.0], [41.935752015, -87.738162368, 1.0], [41.878743645, -87.736124908, 1.0], [41.883784731, -87.735578531, 1.0], [41.912465307, -87.732522476, 1.0], [41.854713363, -87.724844718, 1.0], [41.870735748, -87.724075964, 1.0], [41.866260112, -87.718457311, 1.0], [41.91134731, -87.717808027, 1.0], [41.959976534, -87.715553381, 1.0], [41.858303435, -87.715189395, 1.0], [41.841905622, -87.713504951, 1.0], [41.912997042, -87.711777872, 1.0], [41.872497397, -87.710742126, 1.0], [41.858568011, -87.710319284, 1.0], [41.840806317, -87.709155782, 1.0], [41.839955532, -87.706121788, 1.0], [41.783955089, -87.704493576, 1.0], [41.778962112, -87.703790763, 1.0], [41.795835835, -87.703621991, 1.0], [41.990447044, -87.698746362, 1.0], [41.776766148, -87.698210298, 1.0], [41.875902562, -87.69615018, 1.0], [41.910227448, -87.6961359, 1.0], [41.763935202, -87.690566076, 1.0], [41.822893602, -87.689118243, 1.0], [41.902999018, -87.688739745, 1.0], [41.934089387, -87.687941658, 1.0], [41.873882904, -87.686840358, 1.0], [41.838509873, -87.686433211, 1.0], [41.789485613, -87.683915798, 1.0], [42.015451197, -87.680481208, 1.0], [42.009269306, -87.675326876, 1.0], [42.00167049, -87.673863642, 1.0], [41.812222809, -87.666808738, 1.0], [41.694399654, -87.666481439, 1.0], [41.813312219, -87.666324236, 1.0], [42.019844934, -87.666216277, 1.0], [41.857112307, -87.666126249, 1.0], [41.794035506, -87.663814097, 1.0], [41.75322329, -87.663505427, 1.0], [41.857190995, -87.661735179, 1.0], [41.76312381, -87.661467128, 1.0], [41.869387636, -87.658659333, 1.0], [41.788449223, -87.658371945, 1.0], [41.860008714, -87.656485619, 1.0], [41.714978435, -87.655998622, 1.0], [41.978211897, -87.655746547, 1.0], [41.975559264, -87.654987667, 1.0], [41.802850483, -87.652664297, 1.0], [41.802477219, -87.652657244, 1.0], [41.766401059, -87.648086494, 1.0], [41.858281851, -87.646654964, 1.0], [41.750185415, -87.644029945, 1.0], [41.827159155, -87.641619819, 1.0], [41.926227907, -87.639139581, 1.0], [41.685119668, -87.638907587, 1.0], [41.780409069, -87.635057334, 1.0], [41.892383161, -87.634588313, 1.0], [41.879393185, -87.632992969, 1.0], [41.903129838, -87.631929153, 1.0], [41.903478069, -87.631433102, 1.0], [41.897021755, -87.629781141, 1.0], [41.699805673, -87.628716247, 1.0], [41.880251406, -87.626157171, 1.0], [41.885729338, -87.625780935, 1.0], [41.857196267, -87.625596317, 1.0], [41.880404956, -87.624356147, 1.0], [41.76508964, -87.623288534, 1.0], [41.772831904, -87.622942868, 1.0], [41.682581566, -87.617504356, 1.0], [41.783412793, -87.615701951, 1.0], [41.777950825, -87.615568537, 1.0], [41.807580274, -87.61547631, 1.0], [41.805124173, -87.615041585, 1.0], [41.7766178, -87.614802505, 1.0], [41.751164599, -87.612198632, 1.0], [41.69187607, -87.611711564, 1.0], [41.774327797, -87.610663438, 1.0], [41.696888796, -87.608909298, 1.0], [41.824058215, -87.606523648, 1.0], [41.74181305, -87.604967558, 1.0], [41.730949275, -87.604683641, 1.0], [41.800196824, -87.603936354, 1.0], [41.732105874, -87.603582467, 1.0], [41.750328686, -87.601521784, 1.0], [41.717810825, -87.595858138, 1.0], [41.803056534, -87.586453094, 1.0], [41.769261197, -87.584425842, 1.0], [41.74938132, -87.572285187, 1.0], [41.711241451, -87.56576559, 1.0], [41.709903512, -87.563906369, 1.0], [41.759040861, -87.562348408, 1.0], [41.733068435, -87.55133095, 1.0], [41.746053316, -87.549146964, 1.0], [41.654974814, -87.547146046, 1.0]],\n",
       "                {\n",
       "  &quot;minOpacity&quot;: 0.5,\n",
       "  &quot;maxZoom&quot;: 18,\n",
       "  &quot;radius&quot;: 25,\n",
       "  &quot;blur&quot;: 15,\n",
       "}\n",
       "            );\n",
       "        \n",
       "    \n",
       "            heat_map_5de41dfb82811659b20b696cbe584956.addTo(map_0245147eabab10a8a61ef2c94e216866);\n",
       "        \n",
       "&lt;/script&gt;\n",
       "&lt;/html&gt;\" style=\"position:absolute;width:100%;height:100%;left:0;top:0;border:none !important;\" allowfullscreen webkitallowfullscreen mozallowfullscreen></iframe></div></div>"
      ],
      "text/plain": [
       "<folium.folium.Map at 0x1f1f0c3d310>"
      ]
     },
     "execution_count": 51,
     "metadata": {},
     "output_type": "execute_result"
    }
   ],
   "source": [
    "\n",
    "map_"
   ]
  },
  {
   "cell_type": "markdown",
   "id": "604a63f6-5493-4972-be5d-79dc5cc74107",
   "metadata": {},
   "source": [
    "<h3>Filtering</h1>"
   ]
  },
  {
   "cell_type": "code",
   "execution_count": 52,
   "id": "8e4995c4-8624-4f7e-8130-36dff8616822",
   "metadata": {},
   "outputs": [],
   "source": [
    "filter1=df[df['Primary Type']== 'GAMBLING']\n"
   ]
  },
  {
   "cell_type": "code",
   "execution_count": 53,
   "id": "0c93eb22-1321-4847-8e21-13b31790b40d",
   "metadata": {},
   "outputs": [],
   "source": [
    "gambling = filter1.groupby(['Longitude', 'Latitude']).size().reset_index(name= 'Arrested Assault')"
   ]
  },
  {
   "cell_type": "code",
   "execution_count": 54,
   "id": "6bd47ed8-2170-44f2-8a22-ad46135e7016",
   "metadata": {},
   "outputs": [
    {
     "data": {
      "text/plain": [
       "<folium.plugins.heat_map.HeatMap at 0x1f1f001a9d0>"
      ]
     },
     "execution_count": 54,
     "metadata": {},
     "output_type": "execute_result"
    }
   ],
   "source": [
    "import folium\n",
    "from folium.plugins import HeatMap\n",
    "\n",
    "heat_df = gambling[['Latitude', 'Longitude', 'Arrested Assault']].values.tolist()\n",
    "map_ = folium.Map(location=[41.8781, -87.6298], zoom_start=11)\n",
    "\n",
    "HeatMap(heat_df).add_to(map_)\n",
    "\n"
   ]
  },
  {
   "cell_type": "markdown",
   "id": "e64cebd2-7c32-48ea-b6c7-e7b47bb0e4ae",
   "metadata": {},
   "source": [
    "<h2>Insight #2</h2>\n",
    "<h1>Gambling Crimes in Chicago</h2>\n",
    "<h3>Historically, Chicago has grappled with illegal gambling, notably in the early 20th-century Levee District, which was notorious for vice activities and corruption. While modern regulations strictly prohibit unauthorized gambling, enforcement remains a challenge. Efforts to expand legalized gambling, including proposals for video gambling machines, have faced resistance from city officials who prefer centralized gambling venues. The Illinois Gaming Board has approved the Medinah Temple as a temporary casino site, with plans for a permanent Bally's casino underway. These developments reflect Chicago's ongoing struggle to balance economic interests with crime prevention and community safety.</h3>"
   ]
  },
  {
   "cell_type": "code",
   "execution_count": 55,
   "id": "b952c193-374e-4706-a190-c5c3a6cd08ae",
   "metadata": {},
   "outputs": [
    {
     "data": {
      "text/html": [
       "<div style=\"width:100%;\"><div style=\"position:relative;width:100%;height:0;padding-bottom:60%;\"><span style=\"color:#565656\">Make this Notebook Trusted to load map: File -> Trust Notebook</span><iframe srcdoc=\"&lt;!DOCTYPE html&gt;\n",
       "&lt;html&gt;\n",
       "&lt;head&gt;\n",
       "    \n",
       "    &lt;meta http-equiv=&quot;content-type&quot; content=&quot;text/html; charset=UTF-8&quot; /&gt;\n",
       "    \n",
       "        &lt;script&gt;\n",
       "            L_NO_TOUCH = false;\n",
       "            L_DISABLE_3D = false;\n",
       "        &lt;/script&gt;\n",
       "    \n",
       "    &lt;style&gt;html, body {width: 100%;height: 100%;margin: 0;padding: 0;}&lt;/style&gt;\n",
       "    &lt;style&gt;#map {position:absolute;top:0;bottom:0;right:0;left:0;}&lt;/style&gt;\n",
       "    &lt;script src=&quot;https://cdn.jsdelivr.net/npm/leaflet@1.9.3/dist/leaflet.js&quot;&gt;&lt;/script&gt;\n",
       "    &lt;script src=&quot;https://code.jquery.com/jquery-3.7.1.min.js&quot;&gt;&lt;/script&gt;\n",
       "    &lt;script src=&quot;https://cdn.jsdelivr.net/npm/bootstrap@5.2.2/dist/js/bootstrap.bundle.min.js&quot;&gt;&lt;/script&gt;\n",
       "    &lt;script src=&quot;https://cdnjs.cloudflare.com/ajax/libs/Leaflet.awesome-markers/2.0.2/leaflet.awesome-markers.js&quot;&gt;&lt;/script&gt;\n",
       "    &lt;link rel=&quot;stylesheet&quot; href=&quot;https://cdn.jsdelivr.net/npm/leaflet@1.9.3/dist/leaflet.css&quot;/&gt;\n",
       "    &lt;link rel=&quot;stylesheet&quot; href=&quot;https://cdn.jsdelivr.net/npm/bootstrap@5.2.2/dist/css/bootstrap.min.css&quot;/&gt;\n",
       "    &lt;link rel=&quot;stylesheet&quot; href=&quot;https://netdna.bootstrapcdn.com/bootstrap/3.0.0/css/bootstrap-glyphicons.css&quot;/&gt;\n",
       "    &lt;link rel=&quot;stylesheet&quot; href=&quot;https://cdn.jsdelivr.net/npm/@fortawesome/fontawesome-free@6.2.0/css/all.min.css&quot;/&gt;\n",
       "    &lt;link rel=&quot;stylesheet&quot; href=&quot;https://cdnjs.cloudflare.com/ajax/libs/Leaflet.awesome-markers/2.0.2/leaflet.awesome-markers.css&quot;/&gt;\n",
       "    &lt;link rel=&quot;stylesheet&quot; href=&quot;https://cdn.jsdelivr.net/gh/python-visualization/folium/folium/templates/leaflet.awesome.rotate.min.css&quot;/&gt;\n",
       "    \n",
       "            &lt;meta name=&quot;viewport&quot; content=&quot;width=device-width,\n",
       "                initial-scale=1.0, maximum-scale=1.0, user-scalable=no&quot; /&gt;\n",
       "            &lt;style&gt;\n",
       "                #map_2ab5dd6b70bfd7ac683b19e8195a8231 {\n",
       "                    position: relative;\n",
       "                    width: 100.0%;\n",
       "                    height: 100.0%;\n",
       "                    left: 0.0%;\n",
       "                    top: 0.0%;\n",
       "                }\n",
       "                .leaflet-container { font-size: 1rem; }\n",
       "            &lt;/style&gt;\n",
       "        \n",
       "    &lt;script src=&quot;https://cdn.jsdelivr.net/gh/python-visualization/folium@main/folium/templates/leaflet_heat.min.js&quot;&gt;&lt;/script&gt;\n",
       "&lt;/head&gt;\n",
       "&lt;body&gt;\n",
       "    \n",
       "    \n",
       "            &lt;div class=&quot;folium-map&quot; id=&quot;map_2ab5dd6b70bfd7ac683b19e8195a8231&quot; &gt;&lt;/div&gt;\n",
       "        \n",
       "&lt;/body&gt;\n",
       "&lt;script&gt;\n",
       "    \n",
       "    \n",
       "            var map_2ab5dd6b70bfd7ac683b19e8195a8231 = L.map(\n",
       "                &quot;map_2ab5dd6b70bfd7ac683b19e8195a8231&quot;,\n",
       "                {\n",
       "                    center: [41.8781, -87.6298],\n",
       "                    crs: L.CRS.EPSG3857,\n",
       "                    ...{\n",
       "  &quot;zoom&quot;: 11,\n",
       "  &quot;zoomControl&quot;: true,\n",
       "  &quot;preferCanvas&quot;: false,\n",
       "}\n",
       "\n",
       "                }\n",
       "            );\n",
       "\n",
       "            \n",
       "\n",
       "        \n",
       "    \n",
       "            var tile_layer_0725b40455fe8ad57ab153cf759be753 = L.tileLayer(\n",
       "                &quot;https://tile.openstreetmap.org/{z}/{x}/{y}.png&quot;,\n",
       "                {\n",
       "  &quot;minZoom&quot;: 0,\n",
       "  &quot;maxZoom&quot;: 19,\n",
       "  &quot;maxNativeZoom&quot;: 19,\n",
       "  &quot;noWrap&quot;: false,\n",
       "  &quot;attribution&quot;: &quot;\\u0026copy; \\u003ca href=\\&quot;https://www.openstreetmap.org/copyright\\&quot;\\u003eOpenStreetMap\\u003c/a\\u003e contributors&quot;,\n",
       "  &quot;subdomains&quot;: &quot;abc&quot;,\n",
       "  &quot;detectRetina&quot;: false,\n",
       "  &quot;tms&quot;: false,\n",
       "  &quot;opacity&quot;: 1,\n",
       "}\n",
       "\n",
       "            );\n",
       "        \n",
       "    \n",
       "            tile_layer_0725b40455fe8ad57ab153cf759be753.addTo(map_2ab5dd6b70bfd7ac683b19e8195a8231);\n",
       "        \n",
       "    \n",
       "            var heat_map_8b63773c5add82f1d5d795ea69796b59 = L.heatLayer(\n",
       "                [[41.880815147, -87.75263391, 1.0], [41.899058176, -87.721834322, 1.0], [41.924613111, -87.716309891, 1.0], [41.750343555, -87.664282962, 1.0], [41.885598628, -87.651349647, 1.0], [41.750094836, -87.644027249, 1.0], [41.876911126, -87.628301671, 2.0], [41.877801855, -87.627667648, 1.0], [41.866657026, -87.625811383, 1.0], [41.790516017, -87.625596883, 1.0], [41.790548947, -87.625596521, 1.0], [41.885874461, -87.625283558, 1.0], [41.895538876, -87.624265922, 1.0], [41.692358646, -87.623096746, 1.0], [41.692584917, -87.622852604, 1.0], [41.810171042, -87.62123563, 1.0], [41.81035919, -87.606583156, 1.0]],\n",
       "                {\n",
       "  &quot;minOpacity&quot;: 0.5,\n",
       "  &quot;maxZoom&quot;: 18,\n",
       "  &quot;radius&quot;: 25,\n",
       "  &quot;blur&quot;: 15,\n",
       "}\n",
       "            );\n",
       "        \n",
       "    \n",
       "            heat_map_8b63773c5add82f1d5d795ea69796b59.addTo(map_2ab5dd6b70bfd7ac683b19e8195a8231);\n",
       "        \n",
       "&lt;/script&gt;\n",
       "&lt;/html&gt;\" style=\"position:absolute;width:100%;height:100%;left:0;top:0;border:none !important;\" allowfullscreen webkitallowfullscreen mozallowfullscreen></iframe></div></div>"
      ],
      "text/plain": [
       "<folium.folium.Map at 0x1f1f0d8ba50>"
      ]
     },
     "execution_count": 55,
     "metadata": {},
     "output_type": "execute_result"
    }
   ],
   "source": [
    "map_"
   ]
  },
  {
   "cell_type": "code",
   "execution_count": 56,
   "id": "4085fdd8-fc9c-4c16-9625-909f9fcbf1cd",
   "metadata": {},
   "outputs": [],
   "source": [
    "filter1 =df[df['Primary Type']== 'OFFENSE INVOLVING CHILDREN']\n",
    "\n",
    "filter2 = filter1[filter1['Description'] == 'SEXUAL ASSAULT OF CHILD BY FAMILY MEMBER']\n"
   ]
  },
  {
   "cell_type": "code",
   "execution_count": 57,
   "id": "be2d5346-0622-4d08-94ea-ef0935ff9f7c",
   "metadata": {},
   "outputs": [],
   "source": [
    "child_s_assault = filter2.groupby(['Longitude', 'Latitude']).size().reset_index(name= 'Arrested Assault')"
   ]
  },
  {
   "cell_type": "code",
   "execution_count": 58,
   "id": "f075ddfc-8a9c-436e-938e-b04e2aaf3998",
   "metadata": {},
   "outputs": [
    {
     "data": {
      "text/plain": [
       "<folium.plugins.heat_map.HeatMap at 0x1f1ebd51dd0>"
      ]
     },
     "execution_count": 58,
     "metadata": {},
     "output_type": "execute_result"
    }
   ],
   "source": [
    "import folium\n",
    "from folium.plugins import HeatMap\n",
    "\n",
    "heat_df = child_s_assault[['Latitude', 'Longitude', 'Arrested Assault']].values.tolist()\n",
    "map_ = folium.Map(location=[41.8781, -87.6298], zoom_start=11)\n",
    "\n",
    "HeatMap(heat_df).add_to(map_)\n",
    "\n"
   ]
  },
  {
   "cell_type": "markdown",
   "id": "29f705c6-1e4c-4155-b51b-ee8fb41e1181",
   "metadata": {},
   "source": [
    "\n",
    "<h2>Insight #3</h2>\n",
    "<h1>Sexual Offences with child Involvement</h2>\n",
    "<h3>In recent years, Chicago's South and West Side neighborhoods have experienced concerning incidents involving child sexual offenses and assaults. In December 2024, a boy was sexually assaulted at knifepoint near Cicero Avenue and 5th Avenue in Lawndale, with the suspect still at large . Earlier, in October 2024, a 14-year-old mentally challenged girl was repeatedly assaulted by a man in his home on South Marshfield Avenue . In November 2024, a 16-year-old boy was fatally shot, and a 15-year-old wounded, in a shooting on South Avers Avenue in Little Village . Additionally, in December 2024, a man attempted to lure a girl walking to school in Little Village, raising community concerns . These incidents underscore the persistent safety challenges faced by youth in these communities.​\n",
    "</h3>"
   ]
  },
  {
   "cell_type": "code",
   "execution_count": 59,
   "id": "a2c2d65a-771e-4814-b218-681a3406f981",
   "metadata": {},
   "outputs": [
    {
     "data": {
      "text/html": [
       "<div style=\"width:100%;\"><div style=\"position:relative;width:100%;height:0;padding-bottom:60%;\"><span style=\"color:#565656\">Make this Notebook Trusted to load map: File -> Trust Notebook</span><iframe srcdoc=\"&lt;!DOCTYPE html&gt;\n",
       "&lt;html&gt;\n",
       "&lt;head&gt;\n",
       "    \n",
       "    &lt;meta http-equiv=&quot;content-type&quot; content=&quot;text/html; charset=UTF-8&quot; /&gt;\n",
       "    \n",
       "        &lt;script&gt;\n",
       "            L_NO_TOUCH = false;\n",
       "            L_DISABLE_3D = false;\n",
       "        &lt;/script&gt;\n",
       "    \n",
       "    &lt;style&gt;html, body {width: 100%;height: 100%;margin: 0;padding: 0;}&lt;/style&gt;\n",
       "    &lt;style&gt;#map {position:absolute;top:0;bottom:0;right:0;left:0;}&lt;/style&gt;\n",
       "    &lt;script src=&quot;https://cdn.jsdelivr.net/npm/leaflet@1.9.3/dist/leaflet.js&quot;&gt;&lt;/script&gt;\n",
       "    &lt;script src=&quot;https://code.jquery.com/jquery-3.7.1.min.js&quot;&gt;&lt;/script&gt;\n",
       "    &lt;script src=&quot;https://cdn.jsdelivr.net/npm/bootstrap@5.2.2/dist/js/bootstrap.bundle.min.js&quot;&gt;&lt;/script&gt;\n",
       "    &lt;script src=&quot;https://cdnjs.cloudflare.com/ajax/libs/Leaflet.awesome-markers/2.0.2/leaflet.awesome-markers.js&quot;&gt;&lt;/script&gt;\n",
       "    &lt;link rel=&quot;stylesheet&quot; href=&quot;https://cdn.jsdelivr.net/npm/leaflet@1.9.3/dist/leaflet.css&quot;/&gt;\n",
       "    &lt;link rel=&quot;stylesheet&quot; href=&quot;https://cdn.jsdelivr.net/npm/bootstrap@5.2.2/dist/css/bootstrap.min.css&quot;/&gt;\n",
       "    &lt;link rel=&quot;stylesheet&quot; href=&quot;https://netdna.bootstrapcdn.com/bootstrap/3.0.0/css/bootstrap-glyphicons.css&quot;/&gt;\n",
       "    &lt;link rel=&quot;stylesheet&quot; href=&quot;https://cdn.jsdelivr.net/npm/@fortawesome/fontawesome-free@6.2.0/css/all.min.css&quot;/&gt;\n",
       "    &lt;link rel=&quot;stylesheet&quot; href=&quot;https://cdnjs.cloudflare.com/ajax/libs/Leaflet.awesome-markers/2.0.2/leaflet.awesome-markers.css&quot;/&gt;\n",
       "    &lt;link rel=&quot;stylesheet&quot; href=&quot;https://cdn.jsdelivr.net/gh/python-visualization/folium/folium/templates/leaflet.awesome.rotate.min.css&quot;/&gt;\n",
       "    \n",
       "            &lt;meta name=&quot;viewport&quot; content=&quot;width=device-width,\n",
       "                initial-scale=1.0, maximum-scale=1.0, user-scalable=no&quot; /&gt;\n",
       "            &lt;style&gt;\n",
       "                #map_177c8f96c32acdc7dd7e2ea3800b93c3 {\n",
       "                    position: relative;\n",
       "                    width: 100.0%;\n",
       "                    height: 100.0%;\n",
       "                    left: 0.0%;\n",
       "                    top: 0.0%;\n",
       "                }\n",
       "                .leaflet-container { font-size: 1rem; }\n",
       "            &lt;/style&gt;\n",
       "        \n",
       "    &lt;script src=&quot;https://cdn.jsdelivr.net/gh/python-visualization/folium@main/folium/templates/leaflet_heat.min.js&quot;&gt;&lt;/script&gt;\n",
       "&lt;/head&gt;\n",
       "&lt;body&gt;\n",
       "    \n",
       "    \n",
       "            &lt;div class=&quot;folium-map&quot; id=&quot;map_177c8f96c32acdc7dd7e2ea3800b93c3&quot; &gt;&lt;/div&gt;\n",
       "        \n",
       "&lt;/body&gt;\n",
       "&lt;script&gt;\n",
       "    \n",
       "    \n",
       "            var map_177c8f96c32acdc7dd7e2ea3800b93c3 = L.map(\n",
       "                &quot;map_177c8f96c32acdc7dd7e2ea3800b93c3&quot;,\n",
       "                {\n",
       "                    center: [41.8781, -87.6298],\n",
       "                    crs: L.CRS.EPSG3857,\n",
       "                    ...{\n",
       "  &quot;zoom&quot;: 11,\n",
       "  &quot;zoomControl&quot;: true,\n",
       "  &quot;preferCanvas&quot;: false,\n",
       "}\n",
       "\n",
       "                }\n",
       "            );\n",
       "\n",
       "            \n",
       "\n",
       "        \n",
       "    \n",
       "            var tile_layer_fe1db1fb6936a93f533baa1df71f0dea = L.tileLayer(\n",
       "                &quot;https://tile.openstreetmap.org/{z}/{x}/{y}.png&quot;,\n",
       "                {\n",
       "  &quot;minZoom&quot;: 0,\n",
       "  &quot;maxZoom&quot;: 19,\n",
       "  &quot;maxNativeZoom&quot;: 19,\n",
       "  &quot;noWrap&quot;: false,\n",
       "  &quot;attribution&quot;: &quot;\\u0026copy; \\u003ca href=\\&quot;https://www.openstreetmap.org/copyright\\&quot;\\u003eOpenStreetMap\\u003c/a\\u003e contributors&quot;,\n",
       "  &quot;subdomains&quot;: &quot;abc&quot;,\n",
       "  &quot;detectRetina&quot;: false,\n",
       "  &quot;tms&quot;: false,\n",
       "  &quot;opacity&quot;: 1,\n",
       "}\n",
       "\n",
       "            );\n",
       "        \n",
       "    \n",
       "            tile_layer_fe1db1fb6936a93f533baa1df71f0dea.addTo(map_177c8f96c32acdc7dd7e2ea3800b93c3);\n",
       "        \n",
       "    \n",
       "            var heat_map_983c6bedd585b57a93c0e78b430d62ff = L.heatLayer(\n",
       "                [[41.948434278, -87.782391884, 1.0], [41.791779421, -87.776911028, 1.0], [41.935597716, -87.771256019, 1.0], [41.881156289, -87.766537284, 1.0], [41.877458201, -87.763445136, 1.0], [41.911353393, -87.754326403, 1.0], [41.889534902, -87.749098991, 1.0], [41.912350875, -87.747553656, 1.0], [41.899583121, -87.74724794, 1.0], [41.919529019, -87.738860622, 1.0], [41.937710815, -87.736993755, 1.0], [41.839968862, -87.735377298, 1.0], [41.923456791, -87.735311263, 1.0], [41.89603887, -87.734733346, 2.0], [41.841424588, -87.73298933, 1.0], [41.897617697, -87.728617585, 1.0], [41.903567803, -87.727169208, 1.0], [41.774085908, -87.726303945, 1.0], [41.968372565, -87.725602842, 1.0], [41.847387855, -87.724642545, 1.0], [41.892497624, -87.72355701, 1.0], [41.847178209, -87.723404001, 1.0], [41.836043886, -87.72066948, 2.0], [41.859767799, -87.720109024, 1.0], [41.868097353, -87.716659073, 1.0], [41.967011098, -87.715768556, 1.0], [41.910730454, -87.713328183, 1.0], [41.735915452, -87.712967967, 1.0], [41.863472736, -87.710455229, 1.0], [41.89277569, -87.708914503, 1.0], [41.799867167, -87.708643687, 1.0], [41.796507951, -87.706087183, 1.0], [41.777118352, -87.704366059, 1.0], [41.851252117, -87.700336938, 1.0], [41.809433756, -87.699131187, 1.0], [41.816695267, -87.695688227, 1.0], [41.811380095, -87.694295688, 1.0], [41.739287164, -87.694248814, 1.0], [41.999655085, -87.683280511, 1.0], [41.906195006, -87.682231062, 1.0], [41.853047174, -87.679331066, 1.0], [41.720314213, -87.675986409, 1.0], [41.769338271, -87.674976619, 1.0], [41.791359668, -87.674226946, 1.0], [41.778555611, -87.673888787, 1.0], [41.794953513, -87.670684258, 1.0], [41.775203996, -87.668981218, 1.0], [41.875155116, -87.667906709, 1.0], [41.774990905, -87.665361322, 1.0], [41.897401921, -87.664939363, 1.0], [41.868219921, -87.664046556, 1.0], [41.727627012, -87.661609977, 1.0], [41.708089744, -87.659191202, 1.0], [41.987970501, -87.655323058, 1.0], [41.969110786, -87.653199102, 1.0], [41.755204004, -87.652651208, 1.0], [41.742776822, -87.651100583, 1.0], [41.791842924, -87.643880844, 1.0], [41.775577955, -87.64075923, 1.0], [41.728151369, -87.626417352, 1.0], [41.691659472, -87.624532363, 1.0], [41.855190551, -87.623871195, 1.0], [41.703003004, -87.618526638, 1.0], [41.74490536, -87.617988762, 1.0], [41.779073436, -87.615600014, 1.0], [41.821137496, -87.615119458, 1.0], [41.774319025, -87.605795029, 1.0], [41.657676679, -87.605272313, 1.0], [41.655806094, -87.604140696, 1.0], [41.731257101, -87.599151798, 1.0], [41.756917825, -87.58914335, 1.0], [41.773365641, -87.583428607, 1.0], [41.704059354, -87.565733832, 1.0], [41.718117718, -87.561929356, 1.0], [41.732830333, -87.555470131, 1.0], [41.700270913, -87.54008749, 1.0], [41.707592111, -87.53287077, 1.0]],\n",
       "                {\n",
       "  &quot;minOpacity&quot;: 0.5,\n",
       "  &quot;maxZoom&quot;: 18,\n",
       "  &quot;radius&quot;: 25,\n",
       "  &quot;blur&quot;: 15,\n",
       "}\n",
       "            );\n",
       "        \n",
       "    \n",
       "            heat_map_983c6bedd585b57a93c0e78b430d62ff.addTo(map_177c8f96c32acdc7dd7e2ea3800b93c3);\n",
       "        \n",
       "&lt;/script&gt;\n",
       "&lt;/html&gt;\" style=\"position:absolute;width:100%;height:100%;left:0;top:0;border:none !important;\" allowfullscreen webkitallowfullscreen mozallowfullscreen></iframe></div></div>"
      ],
      "text/plain": [
       "<folium.folium.Map at 0x1f1ebd50610>"
      ]
     },
     "execution_count": 59,
     "metadata": {},
     "output_type": "execute_result"
    }
   ],
   "source": [
    "map_"
   ]
  },
  {
   "cell_type": "code",
   "execution_count": 60,
   "id": "dd7a57dd-7c5c-4098-8046-eb61eac527ab",
   "metadata": {},
   "outputs": [],
   "source": [
    "filter1 =df[df['Primary Type']== 'PROSTITUTION']\n",
    "filter2 = filter1[filter1['Description'] == 'SOLICIT ON PUBLIC WAY']\n"
   ]
  },
  {
   "cell_type": "code",
   "execution_count": 61,
   "id": "86b8b77c-2370-43f1-abeb-ff6e2d403591",
   "metadata": {},
   "outputs": [],
   "source": [
    "prostitution = filter2.groupby(['Longitude', 'Latitude']).size().reset_index(name= 'Arrested Assault')"
   ]
  },
  {
   "cell_type": "code",
   "execution_count": 62,
   "id": "8f8d3aff-2dad-490d-9bb7-9ada8129568a",
   "metadata": {},
   "outputs": [
    {
     "data": {
      "text/plain": [
       "<folium.plugins.heat_map.HeatMap at 0x1f1f04a4210>"
      ]
     },
     "execution_count": 62,
     "metadata": {},
     "output_type": "execute_result"
    }
   ],
   "source": [
    "import folium\n",
    "from folium.plugins import HeatMap\n",
    "\n",
    "heat_df = prostitution[['Latitude', 'Longitude', 'Arrested Assault']].values.tolist()\n",
    "map_ = folium.Map(location=[41.8781, -87.6298], zoom_start=11)\n",
    "\n",
    "HeatMap(heat_df).add_to(map_)"
   ]
  },
  {
   "cell_type": "markdown",
   "id": "b4c20cc8-32d1-4f37-abfe-8e1df87c9a08",
   "metadata": {},
   "source": [
    "<h2>Insight #4</h2>\n",
    "<h1>Prostitution in Chicago</h2>\n",
    "<h3>In 2025, Chicago's approach to prostitution has been marked by intensified enforcement and evolving legal perspectives. The Cook County Sheriff's Office conducted multiple sting operations, resulting in the arrest of over 400 individuals since 2022, including 25 men in a recent Hillside operation targeting solicitation of sex . These initiatives often impose substantial fines and vehicle impoundments on offenders, aiming to curb demand for sex work . Concurrently, Illinois is deliberating a bill to decriminalize consensual adult sex work, seeking to enhance safety for sex workers and shift focus toward prosecuting traffickers and exploiters . Despite these efforts, data indicates that approximately 90% of prostitution-related arrests involve individuals selling sex, highlighting ongoing challenges in addressing systemic issues within the sex trade .\n",
    "</h3>"
   ]
  },
  {
   "cell_type": "code",
   "execution_count": 63,
   "id": "d79b83f2-9d55-4cd5-88de-aa8760345990",
   "metadata": {},
   "outputs": [
    {
     "data": {
      "text/html": [
       "<div style=\"width:100%;\"><div style=\"position:relative;width:100%;height:0;padding-bottom:60%;\"><span style=\"color:#565656\">Make this Notebook Trusted to load map: File -> Trust Notebook</span><iframe srcdoc=\"&lt;!DOCTYPE html&gt;\n",
       "&lt;html&gt;\n",
       "&lt;head&gt;\n",
       "    \n",
       "    &lt;meta http-equiv=&quot;content-type&quot; content=&quot;text/html; charset=UTF-8&quot; /&gt;\n",
       "    \n",
       "        &lt;script&gt;\n",
       "            L_NO_TOUCH = false;\n",
       "            L_DISABLE_3D = false;\n",
       "        &lt;/script&gt;\n",
       "    \n",
       "    &lt;style&gt;html, body {width: 100%;height: 100%;margin: 0;padding: 0;}&lt;/style&gt;\n",
       "    &lt;style&gt;#map {position:absolute;top:0;bottom:0;right:0;left:0;}&lt;/style&gt;\n",
       "    &lt;script src=&quot;https://cdn.jsdelivr.net/npm/leaflet@1.9.3/dist/leaflet.js&quot;&gt;&lt;/script&gt;\n",
       "    &lt;script src=&quot;https://code.jquery.com/jquery-3.7.1.min.js&quot;&gt;&lt;/script&gt;\n",
       "    &lt;script src=&quot;https://cdn.jsdelivr.net/npm/bootstrap@5.2.2/dist/js/bootstrap.bundle.min.js&quot;&gt;&lt;/script&gt;\n",
       "    &lt;script src=&quot;https://cdnjs.cloudflare.com/ajax/libs/Leaflet.awesome-markers/2.0.2/leaflet.awesome-markers.js&quot;&gt;&lt;/script&gt;\n",
       "    &lt;link rel=&quot;stylesheet&quot; href=&quot;https://cdn.jsdelivr.net/npm/leaflet@1.9.3/dist/leaflet.css&quot;/&gt;\n",
       "    &lt;link rel=&quot;stylesheet&quot; href=&quot;https://cdn.jsdelivr.net/npm/bootstrap@5.2.2/dist/css/bootstrap.min.css&quot;/&gt;\n",
       "    &lt;link rel=&quot;stylesheet&quot; href=&quot;https://netdna.bootstrapcdn.com/bootstrap/3.0.0/css/bootstrap-glyphicons.css&quot;/&gt;\n",
       "    &lt;link rel=&quot;stylesheet&quot; href=&quot;https://cdn.jsdelivr.net/npm/@fortawesome/fontawesome-free@6.2.0/css/all.min.css&quot;/&gt;\n",
       "    &lt;link rel=&quot;stylesheet&quot; href=&quot;https://cdnjs.cloudflare.com/ajax/libs/Leaflet.awesome-markers/2.0.2/leaflet.awesome-markers.css&quot;/&gt;\n",
       "    &lt;link rel=&quot;stylesheet&quot; href=&quot;https://cdn.jsdelivr.net/gh/python-visualization/folium/folium/templates/leaflet.awesome.rotate.min.css&quot;/&gt;\n",
       "    \n",
       "            &lt;meta name=&quot;viewport&quot; content=&quot;width=device-width,\n",
       "                initial-scale=1.0, maximum-scale=1.0, user-scalable=no&quot; /&gt;\n",
       "            &lt;style&gt;\n",
       "                #map_b339bc7de60e6d0398e7bdda96784ad3 {\n",
       "                    position: relative;\n",
       "                    width: 100.0%;\n",
       "                    height: 100.0%;\n",
       "                    left: 0.0%;\n",
       "                    top: 0.0%;\n",
       "                }\n",
       "                .leaflet-container { font-size: 1rem; }\n",
       "            &lt;/style&gt;\n",
       "        \n",
       "    &lt;script src=&quot;https://cdn.jsdelivr.net/gh/python-visualization/folium@main/folium/templates/leaflet_heat.min.js&quot;&gt;&lt;/script&gt;\n",
       "&lt;/head&gt;\n",
       "&lt;body&gt;\n",
       "    \n",
       "    \n",
       "            &lt;div class=&quot;folium-map&quot; id=&quot;map_b339bc7de60e6d0398e7bdda96784ad3&quot; &gt;&lt;/div&gt;\n",
       "        \n",
       "&lt;/body&gt;\n",
       "&lt;script&gt;\n",
       "    \n",
       "    \n",
       "            var map_b339bc7de60e6d0398e7bdda96784ad3 = L.map(\n",
       "                &quot;map_b339bc7de60e6d0398e7bdda96784ad3&quot;,\n",
       "                {\n",
       "                    center: [41.8781, -87.6298],\n",
       "                    crs: L.CRS.EPSG3857,\n",
       "                    ...{\n",
       "  &quot;zoom&quot;: 11,\n",
       "  &quot;zoomControl&quot;: true,\n",
       "  &quot;preferCanvas&quot;: false,\n",
       "}\n",
       "\n",
       "                }\n",
       "            );\n",
       "\n",
       "            \n",
       "\n",
       "        \n",
       "    \n",
       "            var tile_layer_26c257d537dd2e09be163070bceb8ad6 = L.tileLayer(\n",
       "                &quot;https://tile.openstreetmap.org/{z}/{x}/{y}.png&quot;,\n",
       "                {\n",
       "  &quot;minZoom&quot;: 0,\n",
       "  &quot;maxZoom&quot;: 19,\n",
       "  &quot;maxNativeZoom&quot;: 19,\n",
       "  &quot;noWrap&quot;: false,\n",
       "  &quot;attribution&quot;: &quot;\\u0026copy; \\u003ca href=\\&quot;https://www.openstreetmap.org/copyright\\&quot;\\u003eOpenStreetMap\\u003c/a\\u003e contributors&quot;,\n",
       "  &quot;subdomains&quot;: &quot;abc&quot;,\n",
       "  &quot;detectRetina&quot;: false,\n",
       "  &quot;tms&quot;: false,\n",
       "  &quot;opacity&quot;: 1,\n",
       "}\n",
       "\n",
       "            );\n",
       "        \n",
       "    \n",
       "            tile_layer_26c257d537dd2e09be163070bceb8ad6.addTo(map_b339bc7de60e6d0398e7bdda96784ad3);\n",
       "        \n",
       "    \n",
       "            var heat_map_d8fcc48721ea71f4b80d1fe9c3dcde1b = L.heatLayer(\n",
       "                [[41.871095169, -87.751040309, 1.0], [41.876772861, -87.746156543, 1.0], [41.895544549, -87.745823018, 1.0], [41.872924943, -87.744991122, 1.0], [41.805775207, -87.744949338, 1.0], [41.870932257, -87.744921277, 3.0], [41.870042954, -87.744889046, 1.0], [41.869447309, -87.744861466, 1.0], [41.869041122, -87.744854177, 2.0], [41.802124651, -87.74482136, 1.0], [41.803954591, -87.744723924, 1.0], [41.806979685, -87.744362454, 1.0], [41.802980697, -87.74425237, 1.0], [41.869551111, -87.744232689, 1.0], [41.799851811, -87.74417467, 1.0], [41.870464623, -87.744169228, 1.0], [41.869555451, -87.744008688, 1.0], [41.807591215, -87.743740637, 1.0], [41.869559544, -87.74373696, 1.0], [41.868610002, -87.743730999, 1.0], [41.868612614, -87.743705275, 1.0], [41.803965771, -87.743693185, 1.0], [41.868615113, -87.743657523, 1.0], [41.870472923, -87.743647792, 2.0], [41.8039653, -87.743601496, 1.0], [41.805790239, -87.743599432, 1.0], [41.87047529, -87.74357434, 1.0], [41.802142822, -87.743548522, 1.0], [41.870475027, -87.74352294, 1.0], [41.870474895, -87.743497241, 1.0], [41.86956377, -87.743490931, 1.0], [41.80396731, -87.743458435, 2.0], [41.87047713, -87.743398088, 1.0], [41.870477016, -87.74337606, 3.0], [41.868641027, -87.743359899, 1.0], [41.869565741, -87.743340381, 2.0], [41.868646138, -87.743286423, 1.0], [41.86864875, -87.743260699, 1.0], [41.810481067, -87.743229946, 1.0], [41.870478987, -87.743225509, 1.0], [41.87047861, -87.743152081, 2.0], [41.869567466, -87.743142105, 1.0], [41.806794971, -87.743128061, 1.0], [41.87048109, -87.743100657, 1.0], [41.805343087, -87.743097373, 4.0], [41.805063164, -87.743096274, 1.0], [41.805024727, -87.743092959, 1.0], [41.804802413, -87.743087664, 1.0], [41.870480977, -87.743078629, 3.0], [41.869569833, -87.743068653, 4.0], [41.803495911, -87.743044639, 1.0], [41.803515121, -87.743044463, 14.0], [41.869569701, -87.743042954, 2.0], [41.803402591, -87.743041828, 1.0], [41.80323516, -87.743036029, 1.0], [41.803051264, -87.743030382, 3.0], [41.86866942, -87.74301085, 6.0], [41.801676177, -87.742991656, 1.0], [41.801692642, -87.742991505, 3.0], [41.801599322, -87.742988694, 1.0], [41.801228804, -87.742981092, 3.0], [41.799911401, -87.742952841, 1.0], [41.799689087, -87.742947547, 1.0], [41.880070778, -87.742814123, 1.0], [41.805804002, -87.742539297, 1.0], [41.802156698, -87.742510452, 1.0], [41.803981562, -87.742493687, 1.0], [41.870914272, -87.742487191, 1.0], [41.870211606, -87.742460618, 2.0], [41.870258256, -87.742460188, 4.0], [41.870164937, -87.742457376, 2.0], [41.870016716, -87.742451398, 2.0], [41.870027693, -87.742451297, 4.0], [41.870035925, -87.742451221, 1.0], [41.869325046, -87.742428396, 3.0], [41.869363464, -87.742428042, 4.0], [41.869286609, -87.742425079, 1.0], [41.869091739, -87.74241953, 1.0], [41.805806124, -87.742418238, 1.0], [41.868973722, -87.742416946, 1.0], [41.803981109, -87.742405666, 1.0], [41.802156151, -87.742404096, 1.0], [41.803983759, -87.742387303, 1.0], [41.805805935, -87.742381561, 1.0], [41.802158725, -87.742371063, 1.0], [41.802158631, -87.742352726, 1.0], [41.803983495, -87.742335957, 1.0], [41.800336171, -87.742303456, 1.0], [41.802158367, -87.742301381, 1.0], [41.803983231, -87.74228461, 1.0], [41.86958279, -87.741853269, 1.0], [41.868814379, -87.741316978, 1.0], [41.868819621, -87.741269201, 1.0], [41.879294389, -87.74126065, 1.0], [41.805822071, -87.741251715, 1.0], [41.809482489, -87.741162989, 1.0], [41.870506273, -87.741062716, 1.0], [41.868848008, -87.740920151, 1.0], [41.805371653, -87.740650671, 1.0], [41.868868541, -87.740644603, 1.0], [41.870512309, -87.740636761, 1.0], [41.880171918, -87.740606259, 1.0], [41.868873764, -87.740593154, 1.0], [41.879474722, -87.740575982, 1.0], [41.868876375, -87.74056743, 2.0], [41.878467384, -87.740537555, 1.0], [41.878428947, -87.740534238, 1.0], [41.878437179, -87.740534162, 1.0], [41.881289015, -87.74011121, 1.0], [41.869087509, -87.739471382, 1.0], [41.869090196, -87.739460343, 3.0], [41.803562095, -87.739379977, 1.0], [41.801327916, -87.739316255, 1.0], [41.871263873, -87.738973931, 1.0], [41.871176042, -87.738971073, 1.0], [41.871044286, -87.738964951, 1.0], [41.870080872, -87.738929817, 2.0], [41.870001273, -87.738926883, 1.0], [41.869373123, -87.738451738, 4.0], [41.869440451, -87.738205124, 1.0], [41.879392195, -87.737885128, 1.0], [41.879150656, -87.737876354, 1.0], [41.879117707, -87.737872988, 1.0], [41.870151735, -87.737776301, 1.0], [41.870140739, -87.737772732, 1.0], [41.869987049, -87.737770487, 1.0], [41.869943124, -87.737767223, 1.0], [41.869951357, -87.737767147, 2.0], [41.869583263, -87.737697134, 3.0], [41.869758393, -87.737071352, 1.0], [41.869788006, -87.736960932, 1.0], [41.86983921, -87.736780552, 2.0], [41.870652574, -87.736457236, 1.0], [41.870095111, -87.73585662, 1.0], [41.902545936, -87.734297887, 1.0], [41.903561296, -87.727496206, 1.0], [41.900839535, -87.726555861, 1.0], [41.905440732, -87.726387394, 1.0], [41.904685949, -87.726365155, 1.0], [41.903950336, -87.726335388, 1.0], [41.90174914, -87.726275422, 1.0], [41.899476558, -87.72620879, 1.0], [41.900863425, -87.724329624, 1.0], [41.866727613, -87.722755629, 1.0], [41.694936031, -87.623170914, 1.0], [41.694404945, -87.622495716, 1.0], [41.694404379, -87.622404185, 1.0], [41.696248741, -87.621545365, 1.0], [41.694415246, -87.621499674, 1.0], [41.694419124, -87.621239664, 1.0], [41.805214082, -87.621107133, 1.0], [41.804692592, -87.62109457, 1.0], [41.692378887, -87.621046145, 1.0], [41.693519974, -87.620956666, 1.0], [41.699411804, -87.620917276, 1.0], [41.697608405, -87.620856623, 1.0], [41.697457454, -87.620854627, 1.0], [41.69753429, -87.620853779, 1.0], [41.697440967, -87.620851148, 1.0], [41.694232498, -87.620795021, 1.0], [41.694270916, -87.620794597, 1.0], [41.695799448, -87.620785048, 3.0], [41.695461828, -87.620774129, 1.0], [41.695332831, -87.620771891, 1.0], [41.695255972, -87.620769078, 1.0], [41.695275181, -87.620768866, 2.0], [41.69529439, -87.620768654, 1.0], [41.7030247, -87.620694297, 1.0], [41.703949088, -87.620621835, 1.0], [41.807004529, -87.619528441, 1.0], [41.757249379, -87.560387048, 1.0], [41.755822692, -87.55677583, 1.0], [41.75305825, -87.551377876, 1.0]],\n",
       "                {\n",
       "  &quot;minOpacity&quot;: 0.5,\n",
       "  &quot;maxZoom&quot;: 18,\n",
       "  &quot;radius&quot;: 25,\n",
       "  &quot;blur&quot;: 15,\n",
       "}\n",
       "            );\n",
       "        \n",
       "    \n",
       "            heat_map_d8fcc48721ea71f4b80d1fe9c3dcde1b.addTo(map_b339bc7de60e6d0398e7bdda96784ad3);\n",
       "        \n",
       "&lt;/script&gt;\n",
       "&lt;/html&gt;\" style=\"position:absolute;width:100%;height:100%;left:0;top:0;border:none !important;\" allowfullscreen webkitallowfullscreen mozallowfullscreen></iframe></div></div>"
      ],
      "text/plain": [
       "<folium.folium.Map at 0x1f1f04a4690>"
      ]
     },
     "execution_count": 63,
     "metadata": {},
     "output_type": "execute_result"
    }
   ],
   "source": [
    "map_"
   ]
  },
  {
   "cell_type": "code",
   "execution_count": 64,
   "id": "a05cb91d-a2d1-43ea-991a-218a1b95b9ee",
   "metadata": {},
   "outputs": [],
   "source": [
    "filter1 =df[df['Primary Type']== 'NARCOTICS']\n",
    "filter2 = filter1[filter1['Description'] == 'POSSESS - COCAINE']\n"
   ]
  },
  {
   "cell_type": "code",
   "execution_count": 65,
   "id": "68cfb9af-871d-4446-b32f-8d896143e6e1",
   "metadata": {},
   "outputs": [],
   "source": [
    "narcotics_coke = filter2.groupby(['Longitude', 'Latitude']).size().reset_index(name= 'Arrested Assault')"
   ]
  },
  {
   "cell_type": "code",
   "execution_count": 66,
   "id": "3ce76d7a-c69d-47ca-8815-ce683698b4c2",
   "metadata": {},
   "outputs": [
    {
     "data": {
      "text/plain": [
       "<folium.plugins.heat_map.HeatMap at 0x1f1e5ac0610>"
      ]
     },
     "execution_count": 66,
     "metadata": {},
     "output_type": "execute_result"
    }
   ],
   "source": [
    "import folium\n",
    "from folium.plugins import HeatMap\n",
    "\n",
    "heat_df = narcotics_coke[['Latitude', 'Longitude', 'Arrested Assault']].values.tolist()\n",
    "map_ = folium.Map(location=[41.8781, -87.6298], zoom_start=11)\n",
    "\n",
    "HeatMap(heat_df).add_to(map_)"
   ]
  },
  {
   "cell_type": "markdown",
   "id": "38bbbbfb-558c-42d0-872d-d473fbdb2e7a",
   "metadata": {},
   "source": [
    "<h2>Insight #5</h2>\n",
    "<h1>Narcotics & Cocaine Crimes in Chicago</h2>\n",
    "<h3>In 2025, Chicago continues to grapple with significant cocaine-related narcotics activity, marked by high-profile arrests and substantial drug seizures. In January, Jose Ramirez-Arellano received a 10-year federal prison sentence for attempting to traffic 10 kilograms of cocaine from California to Chicago, with authorities also seizing over 43,000 dollars in cash linked to his operations . Earlier, in September 2024, Antonio Carrazco-Martinez, who led the Chicago operations of a Mexico-based drug trafficking organization, was sentenced to 16 years for distributing large quantities of cocaine and heroin, and for laundering proceeds back to Mexico . Additionally, in November 2024, Illinois State Police intercepted a semitruck on Interstate 80 in Geneseo, uncovering approximately 1,146 pounds of cocaine valued at around $40 million, resulting in the arrest of two Canadian nationals . These incidents underscore the persistent challenges Chicago faces in combating cocaine trafficking and the ongoing efforts by law enforcement to disrupt these illicit operations.</h3>"
   ]
  },
  {
   "cell_type": "code",
   "execution_count": 67,
   "id": "899cf098-9043-4b35-bf69-4c112ad37c2d",
   "metadata": {},
   "outputs": [
    {
     "data": {
      "text/html": [
       "<div style=\"width:100%;\"><div style=\"position:relative;width:100%;height:0;padding-bottom:60%;\"><span style=\"color:#565656\">Make this Notebook Trusted to load map: File -> Trust Notebook</span><iframe srcdoc=\"&lt;!DOCTYPE html&gt;\n",
       "&lt;html&gt;\n",
       "&lt;head&gt;\n",
       "    \n",
       "    &lt;meta http-equiv=&quot;content-type&quot; content=&quot;text/html; charset=UTF-8&quot; /&gt;\n",
       "    \n",
       "        &lt;script&gt;\n",
       "            L_NO_TOUCH = false;\n",
       "            L_DISABLE_3D = false;\n",
       "        &lt;/script&gt;\n",
       "    \n",
       "    &lt;style&gt;html, body {width: 100%;height: 100%;margin: 0;padding: 0;}&lt;/style&gt;\n",
       "    &lt;style&gt;#map {position:absolute;top:0;bottom:0;right:0;left:0;}&lt;/style&gt;\n",
       "    &lt;script src=&quot;https://cdn.jsdelivr.net/npm/leaflet@1.9.3/dist/leaflet.js&quot;&gt;&lt;/script&gt;\n",
       "    &lt;script src=&quot;https://code.jquery.com/jquery-3.7.1.min.js&quot;&gt;&lt;/script&gt;\n",
       "    &lt;script src=&quot;https://cdn.jsdelivr.net/npm/bootstrap@5.2.2/dist/js/bootstrap.bundle.min.js&quot;&gt;&lt;/script&gt;\n",
       "    &lt;script src=&quot;https://cdnjs.cloudflare.com/ajax/libs/Leaflet.awesome-markers/2.0.2/leaflet.awesome-markers.js&quot;&gt;&lt;/script&gt;\n",
       "    &lt;link rel=&quot;stylesheet&quot; href=&quot;https://cdn.jsdelivr.net/npm/leaflet@1.9.3/dist/leaflet.css&quot;/&gt;\n",
       "    &lt;link rel=&quot;stylesheet&quot; href=&quot;https://cdn.jsdelivr.net/npm/bootstrap@5.2.2/dist/css/bootstrap.min.css&quot;/&gt;\n",
       "    &lt;link rel=&quot;stylesheet&quot; href=&quot;https://netdna.bootstrapcdn.com/bootstrap/3.0.0/css/bootstrap-glyphicons.css&quot;/&gt;\n",
       "    &lt;link rel=&quot;stylesheet&quot; href=&quot;https://cdn.jsdelivr.net/npm/@fortawesome/fontawesome-free@6.2.0/css/all.min.css&quot;/&gt;\n",
       "    &lt;link rel=&quot;stylesheet&quot; href=&quot;https://cdnjs.cloudflare.com/ajax/libs/Leaflet.awesome-markers/2.0.2/leaflet.awesome-markers.css&quot;/&gt;\n",
       "    &lt;link rel=&quot;stylesheet&quot; href=&quot;https://cdn.jsdelivr.net/gh/python-visualization/folium/folium/templates/leaflet.awesome.rotate.min.css&quot;/&gt;\n",
       "    \n",
       "            &lt;meta name=&quot;viewport&quot; content=&quot;width=device-width,\n",
       "                initial-scale=1.0, maximum-scale=1.0, user-scalable=no&quot; /&gt;\n",
       "            &lt;style&gt;\n",
       "                #map_9cd4ee751dbe5eabcd3bdbf7dc85f5c3 {\n",
       "                    position: relative;\n",
       "                    width: 100.0%;\n",
       "                    height: 100.0%;\n",
       "                    left: 0.0%;\n",
       "                    top: 0.0%;\n",
       "                }\n",
       "                .leaflet-container { font-size: 1rem; }\n",
       "            &lt;/style&gt;\n",
       "        \n",
       "    &lt;script src=&quot;https://cdn.jsdelivr.net/gh/python-visualization/folium@main/folium/templates/leaflet_heat.min.js&quot;&gt;&lt;/script&gt;\n",
       "&lt;/head&gt;\n",
       "&lt;body&gt;\n",
       "    \n",
       "    \n",
       "            &lt;div class=&quot;folium-map&quot; id=&quot;map_9cd4ee751dbe5eabcd3bdbf7dc85f5c3&quot; &gt;&lt;/div&gt;\n",
       "        \n",
       "&lt;/body&gt;\n",
       "&lt;script&gt;\n",
       "    \n",
       "    \n",
       "            var map_9cd4ee751dbe5eabcd3bdbf7dc85f5c3 = L.map(\n",
       "                &quot;map_9cd4ee751dbe5eabcd3bdbf7dc85f5c3&quot;,\n",
       "                {\n",
       "                    center: [41.8781, -87.6298],\n",
       "                    crs: L.CRS.EPSG3857,\n",
       "                    ...{\n",
       "  &quot;zoom&quot;: 11,\n",
       "  &quot;zoomControl&quot;: true,\n",
       "  &quot;preferCanvas&quot;: false,\n",
       "}\n",
       "\n",
       "                }\n",
       "            );\n",
       "\n",
       "            \n",
       "\n",
       "        \n",
       "    \n",
       "            var tile_layer_2481693619577515d24b787977498f1d = L.tileLayer(\n",
       "                &quot;https://tile.openstreetmap.org/{z}/{x}/{y}.png&quot;,\n",
       "                {\n",
       "  &quot;minZoom&quot;: 0,\n",
       "  &quot;maxZoom&quot;: 19,\n",
       "  &quot;maxNativeZoom&quot;: 19,\n",
       "  &quot;noWrap&quot;: false,\n",
       "  &quot;attribution&quot;: &quot;\\u0026copy; \\u003ca href=\\&quot;https://www.openstreetmap.org/copyright\\&quot;\\u003eOpenStreetMap\\u003c/a\\u003e contributors&quot;,\n",
       "  &quot;subdomains&quot;: &quot;abc&quot;,\n",
       "  &quot;detectRetina&quot;: false,\n",
       "  &quot;tms&quot;: false,\n",
       "  &quot;opacity&quot;: 1,\n",
       "}\n",
       "\n",
       "            );\n",
       "        \n",
       "    \n",
       "            tile_layer_2481693619577515d24b787977498f1d.addTo(map_9cd4ee751dbe5eabcd3bdbf7dc85f5c3);\n",
       "        \n",
       "    \n",
       "            var heat_map_a231a264708288b0b0614d92b69e2cbb = L.heatLayer(\n",
       "                [[41.953783081, -87.915105451, 2.0], [41.974861952, -87.890372151, 1.0], [41.941689067, -87.826495059, 1.0], [41.945614952, -87.789084163, 1.0], [41.92369245, -87.784706661, 1.0], [41.938346556, -87.784117969, 1.0], [41.99631787, -87.784090693, 1.0], [41.921792919, -87.78230512, 1.0], [41.987230974, -87.779913073, 1.0], [41.923783122, -87.778448036, 1.0], [41.9384404, -87.776821406, 1.0], [41.913763642, -87.771616635, 1.0], [41.794656611, -87.769273001, 1.0], [41.939787926, -87.768973479, 1.0], [41.777927449, -87.768169424, 1.0], [41.928067579, -87.767349615, 1.0], [41.903941523, -87.76649009, 1.0], [41.953201167, -87.765531798, 1.0], [41.918711651, -87.76551063, 1.0], [41.890203035, -87.765215951, 1.0], [41.969451889, -87.762111096, 1.0], [41.969243509, -87.760494984, 1.0], [41.917467509, -87.75595394, 1.0], [41.90950992, -87.75500067, 1.0], [41.90227194, -87.753629703, 1.0], [41.916849447, -87.752568222, 1.0], [41.812222279, -87.749398578, 1.0], [41.953401827, -87.748648437, 1.0], [41.960715124, -87.74810361, 1.0], [41.916910221, -87.747783854, 1.0], [41.91742047, -87.746136806, 1.0], [41.914667382, -87.746015079, 1.0], [41.895239896, -87.745814792, 1.0], [41.917856572, -87.745019507, 1.0], [41.803969809, -87.743410732, 1.0], [41.79635151, -87.742846156, 1.0], [41.954231037, -87.741773438, 1.0], [41.887622398, -87.738983914, 1.0], [41.924350021, -87.738213231, 1.0], [41.917042179, -87.736635084, 1.0], [41.886060526, -87.736262425, 1.0], [41.911588834, -87.73547349, 1.0], [41.908547945, -87.73384134, 1.0], [41.856918327, -87.733442782, 1.0], [41.806804668, -87.733345664, 1.0], [41.907711453, -87.732886663, 1.0], [41.789481308, -87.732550162, 1.0], [41.924418591, -87.732410343, 1.0], [41.91163332, -87.731905715, 1.0], [41.854330878, -87.730372628, 1.0], [41.739332692, -87.730082896, 1.0], [41.912208197, -87.730067025, 1.0], [41.905324412, -87.729830603, 1.0], [41.841866537, -87.72934832, 1.0], [41.782225049, -87.729343713, 1.0], [41.968234567, -87.728571616, 1.0], [41.939081232, -87.728277456, 1.0], [41.974187511, -87.72819536, 1.0], [41.956303593, -87.727691783, 1.0], [41.953007297, -87.727597997, 1.0], [41.805035138, -87.727174586, 1.0], [41.960957046, -87.727033704, 1.0], [41.930364, -87.726937627, 1.0], [41.918306803, -87.726596178, 1.0], [41.895363905, -87.726390989, 1.0], [41.840548035, -87.725988143, 1.0], [41.915352084, -87.725712984, 1.0], [41.970439296, -87.725667774, 1.0], [41.879297767, -87.725621359, 1.0], [41.836281151, -87.725555109, 1.0], [41.902680798, -87.725495186, 1.0], [41.836871883, -87.725171549, 1.0], [41.903249509, -87.725100409, 1.0], [41.859845862, -87.72498328, 1.0], [41.844252523, -87.724899806, 1.0], [41.841552673, -87.724477657, 1.0], [41.866184642, -87.724379838, 1.0], [41.901714249, -87.723832986, 1.0], [41.796087163, -87.723243221, 1.0], [41.839764898, -87.723206509, 1.0], [41.968823362, -87.723156905, 1.0], [41.902698535, -87.723147722, 1.0], [41.902697969, -87.723041199, 1.0], [41.786450554, -87.722978918, 1.0], [41.908860489, -87.722846576, 1.0], [41.778092941, -87.722746539, 1.0], [41.802804679, -87.722633017, 1.0], [41.807018302, -87.722332579, 1.0], [41.850553001, -87.722248798, 1.0], [41.843729934, -87.722093526, 1.0], [41.951091956, -87.721410761, 1.0], [41.837866301, -87.720710813, 1.0], [41.851615291, -87.719210554, 1.0], [41.844324387, -87.718810515, 1.0], [41.894302232, -87.718717316, 1.0], [41.894077177, -87.718712128, 1.0], [41.894096386, -87.718711944, 1.0], [41.845247429, -87.718478714, 1.0], [41.871422487, -87.718025992, 1.0], [41.970178464, -87.717403763, 1.0], [41.96517874, -87.716933469, 1.0], [41.807955081, -87.716865736, 1.0], [41.91000899, -87.71541454, 1.0], [41.847412519, -87.714875843, 1.0], [41.982994638, -87.714481297, 1.0], [41.86240758, -87.714445019, 1.0], [41.859894261, -87.714014058, 1.0], [41.949742235, -87.712799565, 1.0], [41.961729776, -87.71193688, 1.0], [41.793390915, -87.711728299, 1.0], [41.856474951, -87.7114812, 1.0], [41.894169523, -87.711398498, 1.0], [41.848885857, -87.71125741, 1.0], [41.847074361, -87.711205225, 1.0], [41.792672851, -87.710888137, 1.0], [41.875124065, -87.710819445, 1.0], [41.895513392, -87.710742689, 1.0], [41.844441775, -87.71054443, 1.0], [41.849307433, -87.710053127, 1.0], [41.844460888, -87.709010161, 1.0], [41.778877155, -87.708840106, 1.0], [41.976522689, -87.708700208, 1.0], [41.856790413, -87.708424071, 1.0], [41.95474382, -87.708041612, 1.0], [41.797109385, -87.707676617, 1.0], [41.83835106, -87.707297083, 1.0], [41.94663708, -87.706973954, 1.0], [41.907155649, -87.706926549, 1.0], [41.9053112, -87.706867435, 1.0], [41.891027715, -87.706415714, 1.0], [41.903487351, -87.705555482, 1.0], [41.793485288, -87.70536489, 1.0], [41.845564564, -87.705072405, 1.0], [41.843989099, -87.705025427, 1.0], [41.799934918, -87.704964513, 1.0], [41.841908596, -87.704961374, 1.0], [41.796152691, -87.704854768, 1.0], [41.797155079, -87.704485574, 1.0], [41.844525351, -87.704227448, 1.0], [41.78209025, -87.703224857, 1.0], [41.78018541, -87.703170178, 1.0], [41.991228232, -87.703064488, 1.0], [41.78443814, -87.702501543, 1.0], [41.847218644, -87.701441062, 1.0], [41.849435131, -87.700285115, 1.0], [41.79357525, -87.700255672, 1.0], [41.78447735, -87.700150848, 1.0], [41.772688748, -87.699317317, 1.0], [41.771733108, -87.69870719, 1.0], [41.935742229, -87.698425278, 1.0], [41.846414, -87.69835136, 1.0], [41.771537533, -87.698078584, 1.0], [41.870140733, -87.697338234, 1.0], [41.903195408, -87.696889079, 1.0], [41.813235457, -87.696808352, 1.0], [41.767854859, -87.696128116, 1.0], [41.786399399, -87.693898477, 1.0], [41.779112173, -87.693695901, 2.0], [41.764528555, -87.693620841, 1.0], [41.778660358, -87.693381423, 1.0], [41.979738594, -87.692710749, 1.0], [41.908436744, -87.692421212, 1.0], [41.785430246, -87.692346099, 1.0], [41.808311773, -87.69228678, 1.0], [41.969680931, -87.692190082, 1.0], [41.992797959, -87.692171487, 1.0], [41.777251275, -87.691679641, 1.0], [41.779148255, -87.691308764, 1.0], [41.771129046, -87.690750874, 1.0], [41.939444419, -87.689596768, 1.0], [41.803717005, -87.689193008, 1.0], [41.771890193, -87.688965309, 1.0], [41.969377289, -87.688931437, 1.0], [41.746861656, -87.688878512, 1.0], [41.851997246, -87.688752882, 1.0], [41.787369517, -87.688744323, 1.0], [41.958980448, -87.688613385, 1.0], [41.949360404, -87.688331698, 1.0], [41.818406815, -87.687182188, 1.0], [41.905410171, -87.687091785, 1.0], [41.90335991, -87.687035319, 1.0], [41.916346321, -87.686672835, 1.0], [41.780109782, -87.686111243, 1.0], [41.807508406, -87.685564113, 1.0], [41.82062971, -87.684753179, 1.0], [41.808028819, -87.684414463, 1.0], [41.854809472, -87.6842538, 1.0], [41.78743529, -87.683855822, 1.0], [41.766507079, -87.683817682, 1.0], [41.785623809, -87.683811771, 1.0], [41.774960618, -87.683527097, 1.0], [41.857103942, -87.683331259, 1.0], [41.790212612, -87.682903714, 1.0], [41.683697187, -87.680902421, 1.0], [41.90317939, -87.677941766, 1.0], [41.801712953, -87.676944917, 1.0], [41.804198198, -87.675797218, 1.0], [41.782359735, -87.673981805, 1.0], [41.764088262, -87.673512788, 1.0], [42.018779498, -87.673215847, 1.0], [41.806710937, -87.672749178, 1.0], [41.764196563, -87.672302072, 1.0], [42.019380292, -87.672230728, 1.0], [41.830439671, -87.671143977, 1.0], [41.857108058, -87.671081839, 1.0], [41.852798856, -87.670957449, 1.0], [41.869201889, -87.670589881, 1.0], [41.811519008, -87.669908302, 1.0], [41.802140412, -87.669667632, 1.0], [42.000916685, -87.669250565, 1.0], [41.815836619, -87.66910805, 1.0], [41.769654024, -87.668807541, 1.0], [41.809898111, -87.668652204, 1.0], [41.815284387, -87.667576703, 1.0], [41.950667595, -87.666875599, 1.0], [41.824343929, -87.66533288, 1.0], [41.897401921, -87.664939363, 1.0], [41.802312513, -87.664798891, 1.0], [41.800322602, -87.664746224, 1.0], [41.782432685, -87.664290466, 1.0], [41.778864596, -87.6642029, 1.0], [41.735779093, -87.663741673, 1.0], [41.769506201, -87.662731211, 1.0], [41.802325821, -87.662374439, 1.0], [41.864725375, -87.661505814, 1.0], [41.728538715, -87.661241462, 1.0], [41.982663567, -87.660043041, 1.0], [41.836063148, -87.659897487, 1.0], [41.969777478, -87.659689686, 1.0], [41.905710812, -87.659661966, 1.0], [41.692154461, -87.6593686, 1.0], [41.852449912, -87.659094296, 1.0], [41.721272646, -87.658115693, 1.0], [41.947871412, -87.657049429, 1.0], [41.862906101, -87.656858884, 1.0], [41.967251681, -87.655767102, 1.0], [41.789624447, -87.6547587, 1.0], [41.943853698, -87.654228484, 1.0], [41.884424735, -87.652845756, 1.0], [41.961251615, -87.652312027, 1.0], [41.884228815, -87.651276079, 1.0], [41.947295978, -87.651162974, 1.0], [41.884989833, -87.650959506, 1.0], [41.885011786, -87.650959272, 2.0], [41.859632839, -87.650935484, 1.0], [41.962263748, -87.649922357, 1.0], [41.766419266, -87.649299614, 1.0], [41.933005082, -87.649022001, 1.0], [41.735454205, -87.647279761, 1.0], [41.837489008, -87.646264459, 1.0], [41.822972454, -87.64590971, 1.0], [41.864350577, -87.645018762, 1.0], [41.857916679, -87.644790424, 1.0], [41.759402215, -87.644268517, 1.0], [41.934647565, -87.644215636, 1.0], [41.866737971, -87.644086336, 1.0], [41.718941587, -87.643144187, 1.0], [41.949283608, -87.643036076, 1.0], [41.929102542, -87.642562818, 1.0], [41.684809877, -87.642147208, 1.0], [41.813865609, -87.64202699, 1.0], [41.86831409, -87.639226811, 1.0], [41.816791298, -87.638437112, 1.0], [41.772585174, -87.637785347, 1.0], [41.899951772, -87.637301129, 1.0], [41.896657928, -87.637175283, 1.0], [41.878506591, -87.635213191, 1.0], [41.779939646, -87.633229243, 1.0], [41.893200845, -87.633220451, 1.0], [41.797159058, -87.633067533, 1.0], [41.779960201, -87.632099778, 1.0], [41.896630042, -87.631691746, 1.0], [41.890013524, -87.631664996, 1.0], [41.852868298, -87.63091491, 1.0], [41.803349737, -87.630751827, 1.0], [41.889602962, -87.629598125, 1.0], [41.875625633, -87.629450396, 1.0], [41.88033698, -87.629365643, 1.0], [41.877578503, -87.629282088, 1.0], [41.876911374, -87.628342059, 1.0], [41.890375396, -87.628021414, 1.0], [41.696711206, -87.628006713, 1.0], [41.868165405, -87.62743954, 1.0], [41.865129862, -87.627373809, 1.0], [41.858594819, -87.627214427, 2.0], [41.885753285, -87.626996239, 1.0], [41.887223443, -87.626873542, 1.0], [41.892694698, -87.626750816, 1.0], [41.89036711, -87.626673634, 1.0], [41.884829417, -87.626257254, 1.0], [41.773405326, -87.625143469, 1.0], [41.768692133, -87.624942374, 1.0], [41.86745334, -87.62455434, 1.0], [41.788461238, -87.623929066, 1.0], [41.852355249, -87.623792413, 1.0], [41.895746469, -87.623664929, 1.0], [41.892559086, -87.623450463, 1.0], [41.885787406, -87.621854486, 1.0], [41.810300037, -87.621237869, 1.0], [41.765592011, -87.621098327, 1.0], [41.724663505, -87.620667696, 1.0], [41.887560528, -87.6174939, 1.0], [41.821463869, -87.610276751, 1.0], [41.865597071, -87.609845764, 1.0], [41.757547678, -87.607813366, 1.0], [41.838580199, -87.60772081, 1.0], [41.749502746, -87.601106068, 1.0], [41.74969931, -87.583081126, 1.0], [41.751072904, -87.582881895, 1.0], [41.756357636, -87.560001927, 1.0], [41.755010035, -87.553483515, 1.0], [41.737383824, -87.551124714, 1.0], [41.730131536, -87.546435466, 1.0], [41.647141431, -87.544193494, 1.0], [41.700035326, -87.541342726, 1.0], [41.705740739, -87.541338627, 1.0], [41.707257948, -87.53770539, 1.0], [41.704101513, -87.534078598, 1.0]],\n",
       "                {\n",
       "  &quot;minOpacity&quot;: 0.5,\n",
       "  &quot;maxZoom&quot;: 18,\n",
       "  &quot;radius&quot;: 25,\n",
       "  &quot;blur&quot;: 15,\n",
       "}\n",
       "            );\n",
       "        \n",
       "    \n",
       "            heat_map_a231a264708288b0b0614d92b69e2cbb.addTo(map_9cd4ee751dbe5eabcd3bdbf7dc85f5c3);\n",
       "        \n",
       "&lt;/script&gt;\n",
       "&lt;/html&gt;\" style=\"position:absolute;width:100%;height:100%;left:0;top:0;border:none !important;\" allowfullscreen webkitallowfullscreen mozallowfullscreen></iframe></div></div>"
      ],
      "text/plain": [
       "<folium.folium.Map at 0x1f1f0db1f10>"
      ]
     },
     "execution_count": 67,
     "metadata": {},
     "output_type": "execute_result"
    }
   ],
   "source": [
    "map_"
   ]
  },
  {
   "cell_type": "code",
   "execution_count": null,
   "id": "c44f4f66-4065-4234-98af-cc7bd648e27a",
   "metadata": {},
   "outputs": [],
   "source": []
  },
  {
   "cell_type": "code",
   "execution_count": null,
   "id": "5018d5ff-6b0e-4a01-a772-8119ca4be0b0",
   "metadata": {},
   "outputs": [],
   "source": []
  },
  {
   "cell_type": "code",
   "execution_count": null,
   "id": "5b9c35a2-2ec4-435e-9975-bb7fccaa8ac9",
   "metadata": {},
   "outputs": [],
   "source": []
  },
  {
   "cell_type": "code",
   "execution_count": null,
   "id": "9626e8bd-7d2b-44b5-a323-ec3c061b4d21",
   "metadata": {},
   "outputs": [],
   "source": []
  },
  {
   "cell_type": "code",
   "execution_count": null,
   "id": "9336278e-7a2e-4878-b6cd-63d7b9e939a9",
   "metadata": {},
   "outputs": [],
   "source": []
  },
  {
   "cell_type": "code",
   "execution_count": null,
   "id": "2444c13d-ecc5-454f-9f8e-74c49993eac5",
   "metadata": {},
   "outputs": [],
   "source": []
  },
  {
   "cell_type": "code",
   "execution_count": null,
   "id": "1aca8388-1d07-44af-b5b2-55db5890236a",
   "metadata": {},
   "outputs": [],
   "source": []
  },
  {
   "cell_type": "code",
   "execution_count": null,
   "id": "598b85b5-356b-4c0f-a595-fad4e84df4b1",
   "metadata": {},
   "outputs": [],
   "source": []
  },
  {
   "cell_type": "code",
   "execution_count": null,
   "id": "6f1ca392-bb7f-411b-9c8e-7e07461bcf0f",
   "metadata": {},
   "outputs": [],
   "source": []
  },
  {
   "cell_type": "code",
   "execution_count": null,
   "id": "7e920491-7f2d-43b3-9249-435e3a07a4ee",
   "metadata": {},
   "outputs": [],
   "source": []
  },
  {
   "cell_type": "code",
   "execution_count": null,
   "id": "cd87d3d9-de4f-46d4-9b1b-7c3a39c4e620",
   "metadata": {},
   "outputs": [],
   "source": []
  },
  {
   "cell_type": "code",
   "execution_count": null,
   "id": "a54909e1-8ff2-4c87-84b2-1e321672110b",
   "metadata": {},
   "outputs": [],
   "source": []
  },
  {
   "cell_type": "code",
   "execution_count": null,
   "id": "c8daa41f-e59f-4c35-a0ff-2f14cf957f72",
   "metadata": {},
   "outputs": [],
   "source": []
  },
  {
   "cell_type": "code",
   "execution_count": null,
   "id": "347ab89b-7e8d-4aa0-912c-570a87b9a5e2",
   "metadata": {},
   "outputs": [],
   "source": []
  },
  {
   "cell_type": "code",
   "execution_count": null,
   "id": "0595b3e2-8614-4680-8231-286a3f78a88d",
   "metadata": {},
   "outputs": [],
   "source": []
  },
  {
   "cell_type": "code",
   "execution_count": null,
   "id": "863e2214-9f7a-4bca-a80f-0ef4a8eb0fc7",
   "metadata": {},
   "outputs": [],
   "source": []
  },
  {
   "cell_type": "code",
   "execution_count": null,
   "id": "fa268275-fd3c-4b4f-9bb1-9968735abd3b",
   "metadata": {},
   "outputs": [],
   "source": []
  },
  {
   "cell_type": "code",
   "execution_count": null,
   "id": "911bcead-be12-4eea-8896-718a8e9cbc3c",
   "metadata": {},
   "outputs": [],
   "source": []
  },
  {
   "cell_type": "code",
   "execution_count": null,
   "id": "16de8cfd-343b-4485-ab9b-f4dabe443dfb",
   "metadata": {},
   "outputs": [],
   "source": []
  },
  {
   "cell_type": "code",
   "execution_count": null,
   "id": "c98d2ec2-7c7b-48ee-a422-e7e954dcaa1e",
   "metadata": {},
   "outputs": [],
   "source": []
  },
  {
   "cell_type": "code",
   "execution_count": null,
   "id": "778aa751-e9b5-416d-ae38-eb3757bf873f",
   "metadata": {},
   "outputs": [],
   "source": []
  },
  {
   "cell_type": "code",
   "execution_count": null,
   "id": "6e8ad12c-888a-44eb-a580-b77fc156f534",
   "metadata": {},
   "outputs": [],
   "source": []
  },
  {
   "cell_type": "code",
   "execution_count": null,
   "id": "0600156e-a700-43ad-9308-993b121c58ee",
   "metadata": {},
   "outputs": [],
   "source": []
  },
  {
   "cell_type": "code",
   "execution_count": null,
   "id": "a383ab96-91d0-470f-9eec-2810be49b5ca",
   "metadata": {},
   "outputs": [],
   "source": []
  },
  {
   "cell_type": "code",
   "execution_count": null,
   "id": "ad9cf13a-6701-4715-98c7-3de59a8fec01",
   "metadata": {},
   "outputs": [],
   "source": []
  },
  {
   "cell_type": "code",
   "execution_count": null,
   "id": "17dc80bb-2ef8-4c38-8ad4-8d9757b673dc",
   "metadata": {},
   "outputs": [],
   "source": []
  },
  {
   "cell_type": "code",
   "execution_count": null,
   "id": "fcc2c46f-a159-46f1-ac84-4d40c8c87692",
   "metadata": {},
   "outputs": [],
   "source": []
  },
  {
   "cell_type": "code",
   "execution_count": null,
   "id": "fd49a8ea-9fee-4316-9b9c-db4e93fba784",
   "metadata": {},
   "outputs": [],
   "source": []
  },
  {
   "cell_type": "code",
   "execution_count": null,
   "id": "8dbbe5d9-ad01-477d-a739-7c868846e824",
   "metadata": {},
   "outputs": [],
   "source": []
  },
  {
   "cell_type": "code",
   "execution_count": null,
   "id": "8e6a4d32-811c-4c84-89e0-8a6d4b821516",
   "metadata": {},
   "outputs": [],
   "source": []
  },
  {
   "cell_type": "code",
   "execution_count": null,
   "id": "f15cc287-6d9a-4736-8a6b-a6a8bfcce313",
   "metadata": {},
   "outputs": [],
   "source": []
  },
  {
   "cell_type": "code",
   "execution_count": null,
   "id": "cb415ff7-c547-4ece-bad3-95b1163ae948",
   "metadata": {},
   "outputs": [],
   "source": []
  },
  {
   "cell_type": "code",
   "execution_count": null,
   "id": "020fe51c-31b4-4394-91cb-8c82a5e24a41",
   "metadata": {},
   "outputs": [],
   "source": []
  },
  {
   "cell_type": "code",
   "execution_count": null,
   "id": "d32536f2-a0f1-48ca-ae95-7caa3829230b",
   "metadata": {},
   "outputs": [],
   "source": []
  },
  {
   "cell_type": "code",
   "execution_count": null,
   "id": "6a5b097f-0bab-40ef-a2f3-b63edef6dcff",
   "metadata": {},
   "outputs": [],
   "source": []
  },
  {
   "cell_type": "code",
   "execution_count": null,
   "id": "5af9e12a-d91e-4a49-ae80-b3dd2bea8cf3",
   "metadata": {},
   "outputs": [],
   "source": []
  },
  {
   "cell_type": "code",
   "execution_count": null,
   "id": "22c85be9-43f4-4abd-b853-42341235ffa3",
   "metadata": {},
   "outputs": [],
   "source": []
  },
  {
   "cell_type": "code",
   "execution_count": null,
   "id": "5d5a8950-d640-4b13-b753-7fc51d677893",
   "metadata": {},
   "outputs": [],
   "source": []
  },
  {
   "cell_type": "code",
   "execution_count": null,
   "id": "c301b3ae-c4a1-4a82-8947-e13161821e0e",
   "metadata": {},
   "outputs": [],
   "source": []
  },
  {
   "cell_type": "code",
   "execution_count": null,
   "id": "5f6cdbd0-a081-49c4-8250-00b8d93da024",
   "metadata": {},
   "outputs": [],
   "source": []
  },
  {
   "cell_type": "code",
   "execution_count": null,
   "id": "fea3fa69-a88e-4d70-9725-d921630ca354",
   "metadata": {},
   "outputs": [],
   "source": []
  },
  {
   "cell_type": "code",
   "execution_count": null,
   "id": "f34de60a-a0b8-43c8-8aae-343687cd1ab4",
   "metadata": {},
   "outputs": [],
   "source": []
  },
  {
   "cell_type": "code",
   "execution_count": null,
   "id": "151d671d-cbc3-4014-a8b1-c477423a1862",
   "metadata": {},
   "outputs": [],
   "source": []
  }
 ],
 "metadata": {
  "kernelspec": {
   "display_name": "Python 3 (ipykernel)",
   "language": "python",
   "name": "python3"
  },
  "language_info": {
   "codemirror_mode": {
    "name": "ipython",
    "version": 3
   },
   "file_extension": ".py",
   "mimetype": "text/x-python",
   "name": "python",
   "nbconvert_exporter": "python",
   "pygments_lexer": "ipython3",
   "version": "3.11.4"
  }
 },
 "nbformat": 4,
 "nbformat_minor": 5
}
